{
  "nbformat": 4,
  "nbformat_minor": 0,
  "metadata": {
    "colab": {
      "provenance": [],
      "toc_visible": true,
      "include_colab_link": true
    },
    "kernelspec": {
      "name": "python3",
      "display_name": "Python 3"
    },
    "language_info": {
      "name": "python"
    }
  },
  "cells": [
    {
      "cell_type": "markdown",
      "metadata": {
        "id": "view-in-github",
        "colab_type": "text"
      },
      "source": [
        "<a href=\"https://colab.research.google.com/github/Ayush-Singh2309/Python2-Shivank/blob/main/04-Functional_Programming_1_Basics_notes.ipynb\" target=\"_parent\"><img src=\"https://colab.research.google.com/assets/colab-badge.svg\" alt=\"Open In Colab\"/></a>"
      ]
    },
    {
      "cell_type": "markdown",
      "source": [
        "# Functional Programming - Basics"
      ],
      "metadata": {
        "id": "rWSKt6sepPVO"
      }
    },
    {
      "cell_type": "markdown",
      "source": [
        "---"
      ],
      "metadata": {
        "id": "e8w3N537x43t"
      }
    },
    {
      "cell_type": "markdown",
      "source": [
        "### Content\n",
        "\n",
        "1. Functional Programming\n",
        "2. Lambda Functions\n",
        "3. Higher Order Functions\n",
        "4. Decorators"
      ],
      "metadata": {
        "id": "Aw6n4murx8Wz"
      }
    },
    {
      "cell_type": "markdown",
      "source": [
        "---"
      ],
      "metadata": {
        "id": "Y8M031oXx-e9"
      }
    },
    {
      "cell_type": "markdown",
      "source": [
        "### Introduction\n",
        "\n",
        "Functional programming is a paradigm where computation is viewed as the evaluation of mathematical functions.\n",
        "\n",
        "It stands out for two major reasons:\n",
        "- Immutable Data: It avoids changing state and mutable data.\n",
        "- Declarative Style: Instead of instructing \"how\" to achieve something (like imperative programming), you declare \"what\" you want the program to do.\n",
        "\n",
        "Let's illustrate this:"
      ],
      "metadata": {
        "id": "L2le6iADpbuv"
      }
    },
    {
      "cell_type": "code",
      "source": [
        "# Imperative Approach:\n",
        "\n",
        "numbers = [1, 2, 3, 4]\n",
        "squared_numbers = []\n",
        "for num in numbers:\n",
        "    squared_numbers.append(num*num)"
      ],
      "metadata": {
        "id": "Epa3DxTRa0jf"
      },
      "execution_count": null,
      "outputs": []
    },
    {
      "cell_type": "code",
      "source": [
        "# Functional Approach:\n",
        "\n",
        "numbers = [1, 2, 3, 4]\n",
        "squared_numbers = list(map(lambda x: x*x, numbers))"
      ],
      "metadata": {
        "id": "czydl6PGa9-3"
      },
      "execution_count": null,
      "outputs": []
    },
    {
      "cell_type": "markdown",
      "source": [
        "### Why use functional programming?\n",
        "\n",
        "- **Concise and Readable:** With functional programming, you're often working with familiar mathematical functions. This makes code shorter and intuitive. For instance, the `map`, `filter`, and `reduce` functions in Python are direct implementations of functional programming concepts.\n",
        "\n",
        "- **More Maintainable:** Since there are no side effects from mutable data, tracking errors becomes simpler. Imagine not having to worry about a variable's value being unexpectedly changed elsewhere in your program!\n",
        "\n",
        "- **Efficient:** Without the constant need to update data states, some functional programs can outperform their imperative counterparts."
      ],
      "metadata": {
        "id": "rqwO0IVgbBLV"
      }
    },
    {
      "cell_type": "markdown",
      "source": [
        "---"
      ],
      "metadata": {
        "id": "F-i14XggVZE6"
      }
    },
    {
      "cell_type": "markdown",
      "source": [
        "## Quiz-1"
      ],
      "metadata": {
        "id": "mG_IHVDpxoMm"
      }
    },
    {
      "cell_type": "markdown",
      "source": [
        "### Question\n",
        "\n",
        "Why can functional programs be more efficient compared to imperative programs?\n",
        "\n",
        "\n",
        "### Choices\n",
        "\n",
        "\n",
        "- [ ]   They always use fewer lines of code.\n",
        "- [ ]  They operate directly on the hardware without needing an OS.\n",
        "- [x] They do not require state updates, which can be a costly operation.\n",
        "- [ ] They utilize a special compiler that speeds up the execution.\n",
        "\n",
        "### Explanation\n",
        "\n",
        "- Functional programming languages often promote **immutability**, meaning once a data structure is created, it cannot be modified. Any operation that seems to \"modify\" the data actually creates a new copy with the desired changes.\n",
        "- Immutability can lead to more predictable and faster code. It makes parallel and concurrent programming more straightforward leading to efficiency.\n",
        "- Imperative programming, on the other hand, typically involves **mutable state**. Variables can be modified in place, leading to potential side effects.\n",
        "- Managing mutable state can introduce complexity and make it harder to reason about the behavior of a program, especially in a multi-threaded or concurrent environment."
      ],
      "metadata": {
        "id": "rIXYf3p1xr92"
      }
    },
    {
      "cell_type": "markdown",
      "source": [
        "---"
      ],
      "metadata": {
        "id": "UYqClsz3Vhf3"
      }
    },
    {
      "cell_type": "markdown",
      "source": [
        "### Lambda Functions\n",
        "\n",
        "- Also known as Anonymous functions\n",
        "\n",
        "**Syntax:**\n",
        "```\n",
        "function_name = lambda arguments: expression\n",
        "```\n",
        "\n",
        "- `lambda` is the keyword that signifies the creation of a lambda function.\n",
        "- `arguments` are the input parameters of the function.\n",
        "- `expression` is the single expression or operation that the function performs.\n",
        "\n",
        "<img src=\"https://d2beiqkhq929f0.cloudfront.net/public_assets/assets/000/016/029/original/Screenshot_2022-10-10_at_12.27.03_PM.png?1665385010\">"
      ],
      "metadata": {
        "id": "D4n5C7yJrhks"
      }
    },
    {
      "cell_type": "markdown",
      "source": [
        "---"
      ],
      "metadata": {
        "id": "cMP95xNqeaCq"
      }
    },
    {
      "cell_type": "code",
      "source": [
        "def square_number(a):\n",
        "    return a**2"
      ],
      "metadata": {
        "id": "4d2VgTXKqUEO"
      },
      "execution_count": null,
      "outputs": []
    },
    {
      "cell_type": "code",
      "source": [
        "# lambda equivalent of above function\n",
        "\n",
        "square = lambda x: x**2\n",
        "square(4)"
      ],
      "metadata": {
        "colab": {
          "base_uri": "https://localhost:8080/"
        },
        "id": "uw8NplnvqW6x",
        "outputId": "31b74767-7736-42f5-b00d-6594312d5ec8"
      },
      "execution_count": null,
      "outputs": [
        {
          "output_type": "execute_result",
          "data": {
            "text/plain": [
              "16"
            ]
          },
          "metadata": {},
          "execution_count": 4
        }
      ]
    },
    {
      "cell_type": "code",
      "source": [
        "(lambda x: x**3)(2) # cube of a number"
      ],
      "metadata": {
        "colab": {
          "base_uri": "https://localhost:8080/"
        },
        "id": "F3eKE0qAqZAq",
        "outputId": "3354bbc7-6f92-4954-c206-dd61cbcce659"
      },
      "execution_count": null,
      "outputs": [
        {
          "output_type": "execute_result",
          "data": {
            "text/plain": [
              "8"
            ]
          },
          "metadata": {},
          "execution_count": 5
        }
      ]
    },
    {
      "cell_type": "code",
      "source": [
        "(lambda x, y: x+y)(4,5) # adding two numbers"
      ],
      "metadata": {
        "colab": {
          "base_uri": "https://localhost:8080/"
        },
        "id": "crWj4H0fqvzf",
        "outputId": "accae978-2683-4f80-98ba-927ed21766ba"
      },
      "execution_count": null,
      "outputs": [
        {
          "output_type": "execute_result",
          "data": {
            "text/plain": [
              "9"
            ]
          },
          "metadata": {},
          "execution_count": 6
        }
      ]
    },
    {
      "cell_type": "markdown",
      "source": [
        "---"
      ],
      "metadata": {
        "id": "qF98-NoQecVB"
      }
    },
    {
      "cell_type": "code",
      "source": [
        "# if condition:\n",
        "#     x\n",
        "# else:\n",
        "#     y\n",
        "\n",
        "# x if condition else y -> Ternary Operator\n",
        "\n",
        "(lambda x: x if x > 5 else 0)(4)"
      ],
      "metadata": {
        "colab": {
          "base_uri": "https://localhost:8080/"
        },
        "id": "owT85aWZqa1j",
        "outputId": "a61e621a-3aa0-47f2-94e2-05d1e2dba046"
      },
      "execution_count": null,
      "outputs": [
        {
          "output_type": "execute_result",
          "data": {
            "text/plain": [
              "0"
            ]
          },
          "metadata": {},
          "execution_count": 7
        }
      ]
    },
    {
      "cell_type": "markdown",
      "source": [
        "---"
      ],
      "metadata": {
        "id": "V64If7MKed6m"
      }
    },
    {
      "cell_type": "code",
      "source": [
        "a = [1,5,7,8,0,2,3,5]\n",
        "a"
      ],
      "metadata": {
        "id": "uJXYogjkqcmU",
        "colab": {
          "base_uri": "https://localhost:8080/"
        },
        "outputId": "3110a16b-aba8-46bc-d5dc-53a5deb57f45"
      },
      "execution_count": null,
      "outputs": [
        {
          "output_type": "execute_result",
          "data": {
            "text/plain": [
              "[1, 5, 7, 8, 0, 2, 3, 5]"
            ]
          },
          "metadata": {},
          "execution_count": 8
        }
      ]
    },
    {
      "cell_type": "code",
      "source": [
        "sorted_a = sorted(a)\n",
        "sorted_a"
      ],
      "metadata": {
        "colab": {
          "base_uri": "https://localhost:8080/"
        },
        "id": "NExTR-jeqftB",
        "outputId": "b1116c76-25a8-458a-b916-59f144efc2e8"
      },
      "execution_count": null,
      "outputs": [
        {
          "output_type": "execute_result",
          "data": {
            "text/plain": [
              "[0, 1, 2, 3, 5, 5, 7, 8]"
            ]
          },
          "metadata": {},
          "execution_count": 9
        }
      ]
    },
    {
      "cell_type": "markdown",
      "source": [
        "---"
      ],
      "metadata": {
        "id": "lRlAptYWehUP"
      }
    },
    {
      "cell_type": "code",
      "source": [
        "get_value = lambda x: x[\"marks\"]"
      ],
      "metadata": {
        "id": "E_fnZtlWqhvO"
      },
      "execution_count": null,
      "outputs": []
    },
    {
      "cell_type": "code",
      "source": [
        "students = [\n",
        "    {\"name\": \"A\", \"marks\": 50},\n",
        "    {\"name\": \"B\", \"marks\": 100},\n",
        "    {\"name\": \"C\", \"marks\": 40},\n",
        "    {\"name\": \"D\", \"marks\": 70},\n",
        "    {\"name\": \"E\", \"marks\": 60},\n",
        "]"
      ],
      "metadata": {
        "id": "B6GMKvr_qjQH"
      },
      "execution_count": null,
      "outputs": []
    },
    {
      "cell_type": "code",
      "source": [
        "students[0] > students[1]"
      ],
      "metadata": {
        "colab": {
          "base_uri": "https://localhost:8080/",
          "height": 179
        },
        "id": "IqK_PTmYqmTr",
        "outputId": "0690c98b-3776-4305-daec-1a0d2544459f"
      },
      "execution_count": null,
      "outputs": [
        {
          "output_type": "error",
          "ename": "TypeError",
          "evalue": "'>' not supported between instances of 'dict' and 'dict'",
          "traceback": [
            "\u001b[0;31m---------------------------------------------------------------------------\u001b[0m",
            "\u001b[0;31mTypeError\u001b[0m                                 Traceback (most recent call last)",
            "\u001b[0;32m<ipython-input-13-f910ab6ef498>\u001b[0m in \u001b[0;36m<cell line: 1>\u001b[0;34m()\u001b[0m\n\u001b[0;32m----> 1\u001b[0;31m \u001b[0mstudents\u001b[0m\u001b[0;34m[\u001b[0m\u001b[0;36m0\u001b[0m\u001b[0;34m]\u001b[0m \u001b[0;34m>\u001b[0m \u001b[0mstudents\u001b[0m\u001b[0;34m[\u001b[0m\u001b[0;36m1\u001b[0m\u001b[0;34m]\u001b[0m\u001b[0;34m\u001b[0m\u001b[0;34m\u001b[0m\u001b[0m\n\u001b[0m",
            "\u001b[0;31mTypeError\u001b[0m: '>' not supported between instances of 'dict' and 'dict'"
          ]
        }
      ]
    },
    {
      "cell_type": "code",
      "source": [
        "get_value(students[0])"
      ],
      "metadata": {
        "colab": {
          "base_uri": "https://localhost:8080/"
        },
        "id": "Qm6KBRAyqk_0",
        "outputId": "2fb566ec-00f7-4953-8ffc-23bb9e2e5edd"
      },
      "execution_count": null,
      "outputs": [
        {
          "output_type": "execute_result",
          "data": {
            "text/plain": [
              "50"
            ]
          },
          "metadata": {},
          "execution_count": 14
        }
      ]
    },
    {
      "cell_type": "code",
      "source": [
        "get_value(students[1])"
      ],
      "metadata": {
        "colab": {
          "base_uri": "https://localhost:8080/"
        },
        "id": "VU8fz9oLqpXQ",
        "outputId": "8bfa85d7-784c-488f-a6da-760c3b8b2705"
      },
      "execution_count": null,
      "outputs": [
        {
          "output_type": "execute_result",
          "data": {
            "text/plain": [
              "100"
            ]
          },
          "metadata": {},
          "execution_count": 15
        }
      ]
    },
    {
      "cell_type": "code",
      "source": [
        "get_value(students[0]) > get_value(students[1])"
      ],
      "metadata": {
        "colab": {
          "base_uri": "https://localhost:8080/"
        },
        "id": "uxejFM96qqtt",
        "outputId": "8044210f-6aa4-42ca-9160-e6a518d4460a"
      },
      "execution_count": null,
      "outputs": [
        {
          "output_type": "execute_result",
          "data": {
            "text/plain": [
              "False"
            ]
          },
          "metadata": {},
          "execution_count": 16
        }
      ]
    },
    {
      "cell_type": "code",
      "source": [
        "sorted(students)"
      ],
      "metadata": {
        "colab": {
          "base_uri": "https://localhost:8080/",
          "height": 179
        },
        "id": "KFbJr-gNqsiI",
        "outputId": "b765d447-dba4-44e9-eaf6-f5c713c1da6c"
      },
      "execution_count": null,
      "outputs": [
        {
          "output_type": "error",
          "ename": "TypeError",
          "evalue": "'<' not supported between instances of 'dict' and 'dict'",
          "traceback": [
            "\u001b[0;31m---------------------------------------------------------------------------\u001b[0m",
            "\u001b[0;31mTypeError\u001b[0m                                 Traceback (most recent call last)",
            "\u001b[0;32m<ipython-input-18-7d3dd5d8afa9>\u001b[0m in \u001b[0;36m<cell line: 1>\u001b[0;34m()\u001b[0m\n\u001b[0;32m----> 1\u001b[0;31m \u001b[0msorted\u001b[0m\u001b[0;34m(\u001b[0m\u001b[0mstudents\u001b[0m\u001b[0;34m)\u001b[0m\u001b[0;34m\u001b[0m\u001b[0;34m\u001b[0m\u001b[0m\n\u001b[0m",
            "\u001b[0;31mTypeError\u001b[0m: '<' not supported between instances of 'dict' and 'dict'"
          ]
        }
      ]
    },
    {
      "cell_type": "markdown",
      "source": [
        "#### The `sorted()` function takes an extra argrument known as `key`, which takes a function to judge how to compare for sorting."
      ],
      "metadata": {
        "id": "xsdvvARvtQXq"
      }
    },
    {
      "cell_type": "code",
      "source": [
        "sorted(students, key = lambda x: x[\"name\"], reverse=True)"
      ],
      "metadata": {
        "colab": {
          "base_uri": "https://localhost:8080/"
        },
        "id": "N4cD-DSTquac",
        "outputId": "7a707a92-19c4-486a-a3ee-6731c1959802"
      },
      "execution_count": null,
      "outputs": [
        {
          "output_type": "execute_result",
          "data": {
            "text/plain": [
              "[{'name': 'E', 'marks': 60},\n",
              " {'name': 'D', 'marks': 70},\n",
              " {'name': 'C', 'marks': 40},\n",
              " {'name': 'B', 'marks': 100},\n",
              " {'name': 'A', 'marks': 50}]"
            ]
          },
          "metadata": {},
          "execution_count": 19
        }
      ]
    },
    {
      "cell_type": "markdown",
      "source": [
        "---"
      ],
      "metadata": {
        "id": "Ymh3TfgNY2SB"
      }
    },
    {
      "cell_type": "markdown",
      "source": [
        "## Quiz-2"
      ],
      "metadata": {
        "id": "Sw-zKuelx8-C"
      }
    },
    {
      "cell_type": "markdown",
      "source": [
        "### Question\n",
        "\n",
        "How can you sort a list of dictionaries based on a specific key using a lambda function?\n",
        "\n",
        "### Choices\n",
        "\n",
        "- [ ]   Using the sort() method and specifying the key with the lambda function.\n",
        "- [x]  Using the sorted() function and specifying the key with the lambda function.\n",
        "- [ ]  Using the order() method and specifying the key with the lambda function.\n",
        "- [ ] Lambda functions cannot be used for sorting.\n",
        "\n",
        "### Explanation\n",
        "Let's say you have a list of dictionaries like this:\n",
        "\n",
        "```python=\n",
        "data = [\n",
        "    {'name': 'Alice', 'age': 30},\n",
        "    {'name': 'Bob', 'age': 25},\n",
        "    {'name': 'Charlie', 'age': 35},\n",
        "]\n",
        "\n",
        "```\n",
        "Now, if we want to sort this list of dictionaries based on the 'age' key:\n",
        "\n",
        "```python=\n",
        "sorted_data = sorted(data, key=lambda x: x['age'])\n",
        "```\n",
        "- This uses a lambda function as the key argument to the sorted function.\n",
        "- The lambda function takes an element x (which is a dictionary in this case) and returns the value associated with the 'age' key.\n",
        "- The sorted function then sorts the list of dictionaries based on these values.\n",
        "\n",
        "> **Output**\n",
        "\n",
        "```\n",
        "[\n",
        "    {'name': 'Bob', 'age': 25},\n",
        "    {'name': 'Alice', 'age': 30},\n",
        "    {'name': 'Charlie', 'age': 35},\n",
        "]\n",
        "```"
      ],
      "metadata": {
        "id": "Aq1o-vvsx-fB"
      }
    },
    {
      "cell_type": "markdown",
      "source": [
        "---"
      ],
      "metadata": {
        "id": "l0LN7T3jY_Et"
      }
    },
    {
      "cell_type": "markdown",
      "source": [
        "### Higher Order Function\n",
        "\n",
        "- A function that returns another function\n",
        "\n",
        "<img src=\"https://d2beiqkhq929f0.cloudfront.net/public_assets/assets/000/016/031/original/Screenshot_2022-10-10_at_12.41.52_PM.png?1665385895\">\n",
        "\n",
        "<img src=\"https://d2beiqkhq929f0.cloudfront.net/public_assets/assets/000/016/032/original/Screenshot_2022-10-10_at_12.41.59_PM.png?1665385919\">"
      ],
      "metadata": {
        "id": "yFTEacTdr77K"
      }
    },
    {
      "cell_type": "code",
      "source": [
        "def gen_exp(n):\n",
        "    def exp(x):\n",
        "        return x**n\n",
        "\n",
        "    return exp"
      ],
      "metadata": {
        "id": "67KJHLmbr68a"
      },
      "execution_count": null,
      "outputs": []
    },
    {
      "cell_type": "code",
      "source": [
        "exp_5 = gen_exp(5)\n",
        "\n",
        "'''\n",
        "def exp(x):\n",
        "    return x**5\n",
        "'''"
      ],
      "metadata": {
        "colab": {
          "base_uri": "https://localhost:8080/",
          "height": 35
        },
        "id": "PDmpfD89sExE",
        "outputId": "79300727-636e-4c7f-891e-40e5fe0813f1"
      },
      "execution_count": null,
      "outputs": [
        {
          "output_type": "execute_result",
          "data": {
            "text/plain": [
              "'\\ndef exp(x):\\n    return x**5\\n'"
            ],
            "application/vnd.google.colaboratory.intrinsic+json": {
              "type": "string"
            }
          },
          "metadata": {},
          "execution_count": 21
        }
      ]
    },
    {
      "cell_type": "code",
      "source": [
        "type(exp_5)"
      ],
      "metadata": {
        "colab": {
          "base_uri": "https://localhost:8080/"
        },
        "id": "uyFnuvDrsGgg",
        "outputId": "27076353-5a5f-49c5-e38b-8e24759b2ac7"
      },
      "execution_count": null,
      "outputs": [
        {
          "output_type": "execute_result",
          "data": {
            "text/plain": [
              "function"
            ]
          },
          "metadata": {},
          "execution_count": 22
        }
      ]
    },
    {
      "cell_type": "code",
      "source": [
        "exp_5(2)"
      ],
      "metadata": {
        "colab": {
          "base_uri": "https://localhost:8080/"
        },
        "id": "WDIk7z_9sIT5",
        "outputId": "25c587b9-4732-452f-bf9d-b5f08e37bb71"
      },
      "execution_count": null,
      "outputs": [
        {
          "output_type": "execute_result",
          "data": {
            "text/plain": [
              "32"
            ]
          },
          "metadata": {},
          "execution_count": 23
        }
      ]
    },
    {
      "cell_type": "markdown",
      "source": [
        "---"
      ],
      "metadata": {
        "id": "lpMrsGiEZTW8"
      }
    },
    {
      "cell_type": "markdown",
      "source": [
        "## Quiz-3"
      ],
      "metadata": {
        "id": "27CQtvzyyL6W"
      }
    },
    {
      "cell_type": "markdown",
      "source": [
        "### Question\n",
        "\n",
        "Consider the following scenario: You want to generate a function that can calculate the square of any number. How can you achieve this using a higher order function?\n",
        "\n",
        "### Choices\n",
        "\n",
        "- [x]  By setting the inner function to raise the input to the power of 2 and returning the inner function.\n",
        "- [ ]  By multiplying the input number by 2 in the outer function.\n",
        "- [ ]  By dividing the input number by 2 in the outer function.\n",
        "- [ ] By subtracting 2 from the input number in the inner function.\n",
        "\n",
        "### Explanation\n",
        "\n",
        "```python=\n",
        "def generate_square_function():\n",
        "    def square(x):\n",
        "        return x ** 2\n",
        "    return square\n",
        "\n",
        "# Create a square function using the higher-order function\n",
        "calculate_square = generate_square_function()\n",
        "\n",
        "# Now we can use calculate_square as a function to calculate the square of any number\n",
        "result = calculate_square(5)\n",
        "print(result)\n",
        "```\n",
        "> **Output**\n",
        "\n",
        "```\n",
        "25\n",
        "```\n",
        "\n",
        "- `generate_square_function` is a higher-order function because it returns another **function (square)**. The square function, in turn, can be used to calculate the square of any number.\n",
        "\n",
        "- When we call `generate_square_function()`, it returns the square function. We then assign this function to a variable (`calculate_square` in this case) and use it like any other function.\n",
        "\n",
        "- This approach allows to create specialized functions on the fly based on the logic defined in the higher-order function. It's a way of **encapsulating behavior** and creating reusable functions that can be tailored to specific needs."
      ],
      "metadata": {
        "id": "iKTaQjPRyNT5"
      }
    },
    {
      "cell_type": "markdown",
      "source": [
        "---"
      ],
      "metadata": {
        "id": "JFRuARTpZcTV"
      }
    },
    {
      "cell_type": "markdown",
      "source": [
        "### Decorators\n",
        "\n",
        "- These are higher order functions that take another function as input and add the extra behaviour in along with the functionality of the passed function."
      ],
      "metadata": {
        "id": "1y7-GzEusKGd"
      }
    },
    {
      "cell_type": "code",
      "source": [
        "def foo():\n",
        "    print(\"Hello everyone! How are you doing?\")\n",
        "\n",
        "foo()"
      ],
      "metadata": {
        "id": "tDD8fbS5sP1I",
        "colab": {
          "base_uri": "https://localhost:8080/"
        },
        "outputId": "a4a773d0-c832-4dbe-d1de-fcb65323d91c"
      },
      "execution_count": null,
      "outputs": [
        {
          "output_type": "stream",
          "name": "stdout",
          "text": [
            "Hello everyone! How are you doing?\n"
          ]
        }
      ]
    },
    {
      "cell_type": "code",
      "source": [
        "def poo():\n",
        "    print(\"-\"*50) # code that runs before\n",
        "    print(\"Hello everyone! How are you doing?\")\n",
        "    print(\"-\"*50) # code that runs after\n",
        "\n",
        "poo()"
      ],
      "metadata": {
        "id": "rvefmbZWsk2x",
        "colab": {
          "base_uri": "https://localhost:8080/"
        },
        "outputId": "d35ce380-315f-4e7d-9a52-58d773a2a91e"
      },
      "execution_count": null,
      "outputs": [
        {
          "output_type": "stream",
          "name": "stdout",
          "text": [
            "--------------------------------------------------\n",
            "Hello everyone! How are you doing?\n",
            "--------------------------------------------------\n"
          ]
        }
      ]
    },
    {
      "cell_type": "code",
      "source": [
        "# A decorator accepts a function as an argument and returns a decorated function.\n",
        "\n",
        "def pretty(func):\n",
        "    def inner():\n",
        "        print(\"-\"*50)\n",
        "        func()\n",
        "        print(\"-\"*50)\n",
        "\n",
        "    return inner"
      ],
      "metadata": {
        "id": "cnJHcIMDssZz"
      },
      "execution_count": null,
      "outputs": []
    },
    {
      "cell_type": "code",
      "source": [
        "new_foo = pretty(foo)\n",
        "\n",
        "new_foo()"
      ],
      "metadata": {
        "id": "HOwXI9Jpsvxf",
        "colab": {
          "base_uri": "https://localhost:8080/"
        },
        "outputId": "da7f1558-82a3-4e98-964b-06e7079b42bd"
      },
      "execution_count": null,
      "outputs": [
        {
          "output_type": "stream",
          "name": "stdout",
          "text": [
            "--------------------------------------------------\n",
            "Hello everyone! How are you doing?\n",
            "--------------------------------------------------\n"
          ]
        }
      ]
    },
    {
      "cell_type": "code",
      "source": [
        "# The '@' symbol is used to apply decorator to a function.\n",
        "\n",
        "@pretty\n",
        "def soo():\n",
        "    print(\"This is amazing!!!\")\n",
        "\n",
        "soo()"
      ],
      "metadata": {
        "id": "eY8LGNiysyhv",
        "colab": {
          "base_uri": "https://localhost:8080/"
        },
        "outputId": "64f27c13-2382-4a49-b57b-ed93cd8f5e54"
      },
      "execution_count": null,
      "outputs": [
        {
          "output_type": "stream",
          "name": "stdout",
          "text": [
            "--------------------------------------------------\n",
            "This is amazing!!!\n",
            "--------------------------------------------------\n"
          ]
        }
      ]
    },
    {
      "cell_type": "markdown",
      "source": [
        "---"
      ],
      "metadata": {
        "id": "W8Z9yjYocSmv"
      }
    }
  ]
}