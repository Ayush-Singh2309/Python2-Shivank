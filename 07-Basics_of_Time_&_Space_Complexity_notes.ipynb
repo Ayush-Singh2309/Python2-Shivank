{
  "nbformat": 4,
  "nbformat_minor": 0,
  "metadata": {
    "colab": {
      "provenance": [],
      "include_colab_link": true
    },
    "kernelspec": {
      "name": "python3",
      "display_name": "Python 3"
    },
    "language_info": {
      "name": "python"
    }
  },
  "cells": [
    {
      "cell_type": "markdown",
      "metadata": {
        "id": "view-in-github",
        "colab_type": "text"
      },
      "source": [
        "<a href=\"https://colab.research.google.com/github/Ayush-Singh2309/Python2-Shivank/blob/main/07-Basics_of_Time_%26_Space_Complexity_notes.ipynb\" target=\"_parent\"><img src=\"https://colab.research.google.com/assets/colab-badge.svg\" alt=\"Open In Colab\"/></a>"
      ]
    },
    {
      "cell_type": "markdown",
      "source": [
        "# Basics of Time & Space Complexity"
      ],
      "metadata": {
        "id": "iaqbbaq2_BJo"
      }
    },
    {
      "cell_type": "markdown",
      "source": [
        "---"
      ],
      "metadata": {
        "id": "wAlWnxsOHsu2"
      }
    },
    {
      "cell_type": "markdown",
      "source": [
        "## Content\n",
        "\n",
        "- Arithmetic & Geometric Progression\n",
        "- Time Complexity\n",
        "  - Big O notation\n",
        "  - Comparison of order of time complexities\n",
        "- Space Complexity"
      ],
      "metadata": {
        "id": "OdsbXEkYMpxF"
      }
    },
    {
      "cell_type": "markdown",
      "source": [
        "---"
      ],
      "metadata": {
        "id": "6NMQcONbHvGc"
      }
    },
    {
      "cell_type": "markdown",
      "source": [
        "## Basic mathematical prerequisites -\n",
        "\n",
        "### Concept 1\n",
        "For the following series on some number N, how many steps it'll take to reach 1?\n",
        "```\n",
        "N -> N/2 -> N/4 -> N/8 -> ..... -> 1\n",
        "```\n",
        "\n",
        "<img src=\"https://d2beiqkhq929f0.cloudfront.net/public_assets/assets/000/064/973/original/i.png?1707903779\">\n",
        "\n",
        "### Concept 2\n",
        "\n",
        "Given two numbers say 3 and 10, how many numbers are in between those numbers (inclusive)?\n",
        "\n",
        "<img src=\"https://d2beiqkhq929f0.cloudfront.net/public_assets/assets/000/064/974/original/2.png?1707903954\">\n",
        "\n",
        "### Concept 3 (`Arithmetic Progression`)\n",
        "\n",
        "What is the sum of `N` numbers of AP?\n",
        "\n",
        "<img src=\"https://d2beiqkhq929f0.cloudfront.net/public_assets/assets/000/064/976/original/3.png?1707904203\">\n",
        "\n",
        "### Concept 4 (`Geometric Progression`)\n",
        "\n",
        "What is the sum of `N` terms of a GP?\n",
        "\n",
        "<img src=\"https://d2beiqkhq929f0.cloudfront.net/public_assets/assets/000/064/977/original/4.png?1707904266\">\n",
        "\n",
        "### Some useful logarithm properties -\n",
        "\n",
        "$\\log_{a}(a)^{x} = x$"
      ],
      "metadata": {
        "id": "9J-2WF47_QF3"
      }
    },
    {
      "cell_type": "markdown",
      "source": [
        "---"
      ],
      "metadata": {
        "id": "KtdefZAJJDiz"
      }
    },
    {
      "cell_type": "markdown",
      "source": [
        "## Time Complexity\n",
        "\n",
        "Time complexity is a measure of the efficiency of an algorithm, describing the relationship or trend between the number of operations performed by the algorithm and the size of its input.\n",
        "\n",
        "* It's a representation of time complexity, explaining the growth rate of an algorithm's running time as the input size increases.\n",
        "\n",
        "* It specifically focuses on the trend, ignoring constant factors and coefficients.\n",
        "\n",
        "* In Big O notation, only the polynomial term with the highest power is considered relevant."
      ],
      "metadata": {
        "id": "FmiyEYHED6br"
      }
    },
    {
      "cell_type": "markdown",
      "source": [
        "---"
      ],
      "metadata": {
        "id": "sJWyZaK7Lhsy"
      }
    },
    {
      "cell_type": "markdown",
      "source": [
        "#### Question: What will be the time complexity of the following program?\n",
        "\n",
        "```\n",
        "def fun(N):\n",
        "  s = 0\n",
        "  for i in range(1, N+1):\n",
        "    s += i\n",
        "  return s\n",
        "```\n",
        "\n",
        "<img src=\"https://d2beiqkhq929f0.cloudfront.net/public_assets/assets/000/064/990/original/5.png?1707907263\">\n",
        "\n",
        "**Note:** Basically O represents the order in which we can bound the time complexity of the algorithm.\n",
        "\n",
        "<img src=\"https://d2beiqkhq929f0.cloudfront.net/public_assets/assets/000/064/991/original/6.png?1707907588\">\n",
        "\n",
        "We primarily focus on the majority function due to its ability to prioritize significant contributions, particularly with large values of N. In the given example, only factors of substantial magnitude, such as the distance from Earth to the Moon, are considered relevant."
      ],
      "metadata": {
        "id": "b0OXdKMkMWln"
      }
    },
    {
      "cell_type": "markdown",
      "source": [
        "---"
      ],
      "metadata": {
        "id": "uGZuY6Y6LjRX"
      }
    },
    {
      "cell_type": "markdown",
      "source": [
        "#### Question: What will be the time complexity of the following program?\n",
        "\n",
        "```python\n",
        "def fun(N, M):\n",
        "  s = 0\n",
        "  for i in range(1, N+1):\n",
        "    s += i\n",
        "  for j in range(1, M+1):\n",
        "    s += j\n",
        "  return s\n",
        "```\n",
        "\n",
        "<img src=\"https://d2beiqkhq929f0.cloudfront.net/public_assets/assets/000/064/992/original/7.png?1707907678\">"
      ],
      "metadata": {
        "id": "50tGPwldKH6n"
      }
    },
    {
      "cell_type": "markdown",
      "source": [
        "---"
      ],
      "metadata": {
        "id": "7oynHOsOLkZ5"
      }
    },
    {
      "cell_type": "markdown",
      "source": [
        "#### Question: What will be the time complexity of the following program?\n",
        "\n",
        "```python\n",
        "def fun(N):\n",
        "  i = 1\n",
        "  while i < N:\n",
        "    i += 2\n",
        "```\n",
        "\n",
        "<img src=\"https://d2beiqkhq929f0.cloudfront.net/public_assets/assets/000/064/995/original/8.png?1707907989\">\n",
        "\n",
        "**Note:** Constant terms, coefficients are ignored. Only the order of magnitude matters."
      ],
      "metadata": {
        "id": "VrdK9rjEKMFN"
      }
    },
    {
      "cell_type": "markdown",
      "source": [
        "---"
      ],
      "metadata": {
        "id": "ubhDesCtLmLm"
      }
    },
    {
      "cell_type": "markdown",
      "source": [
        "#### Question: What will be the time complexity of the following program?\n",
        "\n",
        "```python\n",
        "def fun(N):\n",
        "  s = 0\n",
        "  for i in range(1, 101):\n",
        "    s += i\n",
        "  return s\n",
        "```\n",
        "\n",
        "In this case, since the number of iterations remains unchanged regardless of the input, this is an example of constant time complexity, denoted as `O(1)`."
      ],
      "metadata": {
        "id": "bXMHA_SZQQ0r"
      }
    },
    {
      "cell_type": "markdown",
      "source": [
        "---"
      ],
      "metadata": {
        "id": "D5C-Fd8DL6vM"
      }
    },
    {
      "cell_type": "markdown",
      "source": [
        "#### Question: What will be the time complexity of the following program?\n",
        "\n",
        "```python\n",
        "def fun(N):\n",
        "  s = 0\n",
        "  for i in range(1, int(N**0.5)):\n",
        "    s += i\n",
        "  return s\n",
        "```\n",
        "\n",
        "Here, the number of iterations are sqrt(N). Hence, the time complexity is `O(sqrt(N))`."
      ],
      "metadata": {
        "id": "NjCNjwEfRDS0"
      }
    },
    {
      "cell_type": "markdown",
      "source": [
        "---"
      ],
      "metadata": {
        "id": "oxbH_4kUMHpM"
      }
    },
    {
      "cell_type": "markdown",
      "source": [
        "#### Question: What will be the time complexity of the following program?\n",
        "\n",
        "```python\n",
        "def fun(N):\n",
        "  i = N\n",
        "  while i >= 1:\n",
        "    i = i // 2\n",
        "```\n",
        "\n",
        "<img src=\"https://d2beiqkhq929f0.cloudfront.net/public_assets/assets/000/064/996/original/9.png?1707908455\">"
      ],
      "metadata": {
        "id": "XLuHWrt0RoI6"
      }
    },
    {
      "cell_type": "markdown",
      "source": [
        "---"
      ],
      "metadata": {
        "id": "MKIyX2gEMbZi"
      }
    },
    {
      "cell_type": "markdown",
      "source": [
        "#### Question: What will be the time complexity of the following program?\n",
        "\n",
        "```python\n",
        "def fun(N):\n",
        "  i = 0\n",
        "  while i <= N:\n",
        "    i = i * 2\n",
        "```\n",
        "\n",
        "In this scenario, the value of i remains fixed at 0 throughout each iteration, leading to an infinite loop. This example highlights the importance of considering the iterative process and its implications."
      ],
      "metadata": {
        "id": "GIeVkBY1Sqsn"
      }
    },
    {
      "cell_type": "markdown",
      "source": [
        "---"
      ],
      "metadata": {
        "id": "_NDLtoJNNEgn"
      }
    },
    {
      "cell_type": "markdown",
      "source": [
        "#### Question: What will be the time complexity of the following program?\n",
        "\n",
        "```python\n",
        "def fun(N):\n",
        "  i = 1\n",
        "  while i <= N:\n",
        "    i = i * 2\n",
        "```\n",
        "\n",
        "<img src=\"https://d2beiqkhq929f0.cloudfront.net/public_assets/assets/000/064/998/original/10.png?1707908807\">"
      ],
      "metadata": {
        "id": "ogRt5ai8S8Lr"
      }
    },
    {
      "cell_type": "markdown",
      "source": [
        "---"
      ],
      "metadata": {
        "id": "kvkX73TtNH6q"
      }
    },
    {
      "cell_type": "markdown",
      "source": [
        "#### Question: What will be the time complexity of the following program?\n",
        "\n",
        "```python\n",
        "def fun(N):\n",
        "  s = 0\n",
        "  for i in range(N):\n",
        "    for j in range(N):\n",
        "      s += j\n",
        "  return s\n",
        "```\n",
        "\n",
        "<img src=\"https://d2beiqkhq929f0.cloudfront.net/public_assets/assets/000/064/999/original/11.png?1707908904\">"
      ],
      "metadata": {
        "id": "CtLldTJGThtg"
      }
    },
    {
      "cell_type": "markdown",
      "source": [
        "---"
      ],
      "metadata": {
        "id": "pQglHMO-NLSl"
      }
    },
    {
      "cell_type": "markdown",
      "source": [
        "#### Question: What will be the time complexity of the following program?\n",
        "\n",
        "```python\n",
        "def fun(N):\n",
        "  s = 0\n",
        "  for i in range(10):\n",
        "    for j in range(N):\n",
        "      s += j\n",
        "  return s\n",
        "```\n",
        "\n",
        "<img src=\"https://d2beiqkhq929f0.cloudfront.net/public_assets/assets/000/065/002/original/12.png?1707909045\">"
      ],
      "metadata": {
        "id": "SInISDbiUCZ9"
      }
    },
    {
      "cell_type": "markdown",
      "source": [
        "---"
      ],
      "metadata": {
        "id": "RkXmpAUQNN5I"
      }
    },
    {
      "cell_type": "markdown",
      "source": [
        "#### Question: What will be the time complexity of the following program?\n",
        "\n",
        "```python\n",
        "def fun(N):\n",
        "  s = 0\n",
        "  for i in range(N):\n",
        "    j = 1\n",
        "    while j <= N:\n",
        "      j = j * 2\n",
        "  return s\n",
        "```\n",
        "\n",
        "<img src=\"https://d2beiqkhq929f0.cloudfront.net/public_assets/assets/000/065/004/original/14.png?1707909210\">"
      ],
      "metadata": {
        "id": "l9w5BSZDUpu7"
      }
    },
    {
      "cell_type": "markdown",
      "source": [
        "---"
      ],
      "metadata": {
        "id": "_KWYiRStNRhC"
      }
    },
    {
      "cell_type": "markdown",
      "source": [
        "#### Question: What will be the time complexity of the following program?\n",
        "\n",
        "```python\n",
        "def fun(N):\n",
        "  s = 0\n",
        "  for i in range(N):\n",
        "    for j in range(N):\n",
        "      s += j\n",
        "  for i in range(N):\n",
        "    s += i\n",
        "  return s\n",
        "```\n",
        "\n",
        "<img src=\"https://d2beiqkhq929f0.cloudfront.net/public_assets/assets/000/065/005/original/15.png?1707909314\">\n",
        "\n",
        "We can disregard the magnitude terms within addition and solely concentrate on the term with the highest order of magnitude.\n",
        "\n",
        "However, we must not overlook any terms if they are being multiplied."
      ],
      "metadata": {
        "id": "DHq2V_58VF06"
      }
    },
    {
      "cell_type": "markdown",
      "source": [
        "---\n",
        "#### Question: What is the Big O form of the following time complexity iterations?\n",
        "\n",
        "$100N^2 + 32N^3 + 51N + 1000$\n",
        "\n",
        "**Answer:** `32(N^3)`"
      ],
      "metadata": {
        "id": "0aNnR65pV3NF"
      }
    },
    {
      "cell_type": "markdown",
      "source": [
        "---"
      ],
      "metadata": {
        "id": "afJkipy_NcQ9"
      }
    },
    {
      "cell_type": "markdown",
      "source": [
        "## Comparison of order of time complexities -\n",
        "\n",
        "<img src=\"https://d2beiqkhq929f0.cloudfront.net/public_assets/assets/000/065/006/original/16.png?1707909694\">\n",
        "\n",
        "<img src=\"https://d2beiqkhq929f0.cloudfront.net/public_assets/assets/000/065/007/original/17.png?1707909740\">"
      ],
      "metadata": {
        "id": "I8eHdDLTWU0p"
      }
    },
    {
      "cell_type": "markdown",
      "source": [
        "---"
      ],
      "metadata": {
        "id": "JsL0lWMONrI2"
      }
    },
    {
      "cell_type": "markdown",
      "source": [
        "## Space Complexity\n",
        "\n",
        "* Space complexity in Python refers to the amount of memory a program needs to complete its execution.\n",
        "* It is the analysis of memory usage with respect to the input size.\n",
        "* Similar to time complexity, space complexity is also expressed using `Big O` notation."
      ],
      "metadata": {
        "id": "eFh2T5YzWyvB"
      }
    },
    {
      "cell_type": "markdown",
      "source": [
        "#### Question: What will be the space complexity of the following program?\n",
        "\n",
        "```python\n",
        "def fun(N):\n",
        "  s = 0\n",
        "  for i in range(1, N+1):\n",
        "    s += i\n",
        "  return s\n",
        "```\n",
        "\n",
        "This code utilizes constant space complexity as it does not allocate any additional memory corresponding to the size of the input.\n",
        "\n",
        "<img src=\"https://d2beiqkhq929f0.cloudfront.net/public_assets/assets/000/065/008/original/18.png?1707909915\">"
      ],
      "metadata": {
        "id": "8B0I36E8W_Uy"
      }
    },
    {
      "cell_type": "markdown",
      "source": [
        "---"
      ],
      "metadata": {
        "id": "2tUdH1A6gq2I"
      }
    },
    {
      "cell_type": "markdown",
      "source": [
        "#### Question: What will be the space complexity of the following program?\n",
        "\n",
        "```python\n",
        "def fun(N):\n",
        "  s = [0]*N\n",
        "  for i in range(1, N+1):\n",
        "    s[i] = i\n",
        "  return sum(s)\n",
        "```\n",
        "\n",
        "Here, an additional list is created with the same size as the input, resulting in an extra order of N space being consumed.\n",
        "\n",
        "<img src=\"https://d2beiqkhq929f0.cloudfront.net/public_assets/assets/000/065/009/original/19.png?1707910041\">"
      ],
      "metadata": {
        "id": "myc8zVqhXYR9"
      }
    },
    {
      "cell_type": "markdown",
      "source": [
        "---"
      ],
      "metadata": {
        "id": "vbj183zMg6-q"
      }
    }
  ]
}