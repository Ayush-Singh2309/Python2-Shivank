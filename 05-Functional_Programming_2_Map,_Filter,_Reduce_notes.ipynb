{
  "cells": [
    {
      "cell_type": "markdown",
      "metadata": {
        "id": "view-in-github",
        "colab_type": "text"
      },
      "source": [
        "<a href=\"https://colab.research.google.com/github/Ayush-Singh2309/Python2-Shivank/blob/main/05-Functional_Programming_2_Map%2C_Filter%2C_Reduce_notes.ipynb\" target=\"_parent\"><img src=\"https://colab.research.google.com/assets/colab-badge.svg\" alt=\"Open In Colab\"/></a>"
      ]
    },
    {
      "cell_type": "markdown",
      "source": [
        "# Functional Programming 2 - Map, Filter, Reduce"
      ],
      "metadata": {
        "id": "z0ezwbP2e0HE"
      },
      "id": "z0ezwbP2e0HE"
    },
    {
      "cell_type": "markdown",
      "source": [
        "---"
      ],
      "metadata": {
        "id": "FyZwv0HJGa1S"
      },
      "id": "FyZwv0HJGa1S"
    },
    {
      "cell_type": "markdown",
      "source": [
        "## Content\n",
        "\n",
        "1. Principles of Functional Programming\n",
        "2. Map\n",
        "3. Filter\n",
        "4. Zip\n",
        "5. Reduce\n",
        "6. Args and Kwargs"
      ],
      "metadata": {
        "id": "Tny3l-yvfBbs"
      },
      "id": "Tny3l-yvfBbs"
    },
    {
      "cell_type": "markdown",
      "source": [
        "---"
      ],
      "metadata": {
        "id": "t6W7eACeGXaZ"
      },
      "id": "t6W7eACeGXaZ"
    },
    {
      "cell_type": "markdown",
      "source": [
        "## Principles of Functional Programming\n",
        "\n",
        "<img src=\"https://d2beiqkhq929f0.cloudfront.net/public_assets/assets/000/016/063/original/Screenshot_2022-10-11_at_10.56.52_AM.png?1665466330\">"
      ],
      "metadata": {
        "id": "lRViv1B9hG45"
      },
      "id": "lRViv1B9hG45"
    },
    {
      "cell_type": "markdown",
      "source": [
        "Whenever we perform some mutations to an object, we lose the content that was previously stored in that object."
      ],
      "metadata": {
        "id": "2W4kHexohPZM"
      },
      "id": "2W4kHexohPZM"
    },
    {
      "cell_type": "code",
      "execution_count": null,
      "id": "0178fa95",
      "metadata": {
        "id": "0178fa95"
      },
      "outputs": [],
      "source": [
        "x = 5 # Initial Data\n",
        "\n",
        "# Hidden Mutations\n",
        "x = 3*x\n",
        "x += 1\n",
        "\n",
        "# Problem - Can't rollback mutations"
      ]
    },
    {
      "cell_type": "code",
      "execution_count": null,
      "id": "d0e9969b",
      "metadata": {
        "id": "d0e9969b",
        "outputId": "17394c9b-4c0a-4b18-f764-f05803f59f8c",
        "colab": {
          "base_uri": "https://localhost:8080/"
        }
      },
      "outputs": [
        {
          "output_type": "execute_result",
          "data": {
            "text/plain": [
              "16"
            ]
          },
          "metadata": {},
          "execution_count": 2
        }
      ],
      "source": [
        "x"
      ]
    },
    {
      "cell_type": "markdown",
      "source": [
        "One way is to create new object everytime we perform some mutation and store the result in that new object.\n",
        "\n",
        "But it'll consume too much memory."
      ],
      "metadata": {
        "id": "WA9t0aBohX-q"
      },
      "id": "WA9t0aBohX-q"
    },
    {
      "cell_type": "code",
      "execution_count": null,
      "id": "53383e33",
      "metadata": {
        "id": "53383e33"
      },
      "outputs": [],
      "source": [
        "x = 5\n",
        "\n",
        "x1 = 2*x\n",
        "x2 = x1 + 1\n",
        "\n",
        "# Problem - Too many variables"
      ]
    },
    {
      "cell_type": "markdown",
      "source": [
        "Another valid approach would be to separate out the data and mutation operations."
      ],
      "metadata": {
        "id": "cuaEs42Sh4HM"
      },
      "id": "cuaEs42Sh4HM"
    },
    {
      "cell_type": "code",
      "execution_count": null,
      "id": "77c5fdbf",
      "metadata": {
        "id": "77c5fdbf"
      },
      "outputs": [],
      "source": [
        "x = 5\n",
        "\n",
        "def mutation_1(x):\n",
        "    x = 2*x\n",
        "    x += 1\n",
        "\n",
        "    return x\n",
        "\n",
        "x1 = mutation_1(x)"
      ]
    },
    {
      "cell_type": "code",
      "source": [
        "x"
      ],
      "metadata": {
        "colab": {
          "base_uri": "https://localhost:8080/"
        },
        "id": "Os32LJOFS5q4",
        "outputId": "639c8989-2585-4450-ac23-0d98008e64ca"
      },
      "id": "Os32LJOFS5q4",
      "execution_count": null,
      "outputs": [
        {
          "output_type": "execute_result",
          "data": {
            "text/plain": [
              "5"
            ]
          },
          "metadata": {},
          "execution_count": 5
        }
      ]
    },
    {
      "cell_type": "markdown",
      "source": [
        "---"
      ],
      "metadata": {
        "id": "kOIcUB8HGQUR"
      },
      "id": "kOIcUB8HGQUR"
    },
    {
      "cell_type": "markdown",
      "id": "486e321b",
      "metadata": {
        "id": "486e321b"
      },
      "source": [
        "## Map\n",
        "\n",
        "The `map()` function can take multiple iterables and return a map object that can be converted to other iterables.\n",
        "\n",
        "```python\n",
        "map(function_to_perform, *iterables)\n",
        "```"
      ]
    },
    {
      "cell_type": "markdown",
      "source": [
        "#### Given a list, create another list which contains the square of the elements of given list."
      ],
      "metadata": {
        "id": "mPWc_dPiP9qr"
      },
      "id": "mPWc_dPiP9qr"
    },
    {
      "cell_type": "code",
      "execution_count": null,
      "id": "7623e8a9",
      "metadata": {
        "id": "7623e8a9"
      },
      "outputs": [],
      "source": [
        "a = [1,2,3,4,5]"
      ]
    },
    {
      "cell_type": "code",
      "execution_count": null,
      "id": "cef90e48",
      "metadata": {
        "id": "cef90e48",
        "colab": {
          "base_uri": "https://localhost:8080/"
        },
        "outputId": "fdd2aff6-c8fb-4966-9a16-6aa2d3f9632e"
      },
      "outputs": [
        {
          "output_type": "execute_result",
          "data": {
            "text/plain": [
              "[1, 4, 9, 16, 25]"
            ]
          },
          "metadata": {},
          "execution_count": 7
        }
      ],
      "source": [
        "# Using list comprehension\n",
        "\n",
        "res1 = [ i**2 for i in a ]\n",
        "res1"
      ]
    },
    {
      "cell_type": "code",
      "execution_count": null,
      "id": "65af2939",
      "metadata": {
        "id": "65af2939",
        "colab": {
          "base_uri": "https://localhost:8080/"
        },
        "outputId": "dbdb1204-5976-40d9-b73b-5f4f8167621e"
      },
      "outputs": [
        {
          "output_type": "execute_result",
          "data": {
            "text/plain": [
              "[1, 4, 9, 16, 25]"
            ]
          },
          "metadata": {},
          "execution_count": 8
        }
      ],
      "source": [
        "# Using map() function\n",
        "\n",
        "m = map(lambda x: x**2, a)\n",
        "m_list = list(m)\n",
        "m_list"
      ]
    },
    {
      "cell_type": "code",
      "execution_count": null,
      "id": "67660ec5",
      "metadata": {
        "id": "67660ec5",
        "colab": {
          "base_uri": "https://localhost:8080/"
        },
        "outputId": "e04f4628-b19b-431a-c1b9-2d26d04e84c9"
      },
      "outputs": [
        {
          "output_type": "execute_result",
          "data": {
            "text/plain": [
              "[1, 4, 9, 16, 25]"
            ]
          },
          "metadata": {},
          "execution_count": 9
        }
      ],
      "source": [
        "m_direct = list(map(lambda x: x**2, a))\n",
        "m_direct"
      ]
    },
    {
      "cell_type": "markdown",
      "source": [
        "#### Convert the given heights from a list into to t-shirt sizes.\n",
        "\n",
        "* h < 150 $\\rightarrow$ S\n",
        "* h >= 150 and h < 180 $\\rightarrow$ M\n",
        "* h >= 180 $\\rightarrow$ L"
      ],
      "metadata": {
        "id": "4aLR4Bl_jmTW"
      },
      "id": "4aLR4Bl_jmTW"
    },
    {
      "cell_type": "code",
      "execution_count": null,
      "id": "b8e39004",
      "metadata": {
        "id": "b8e39004"
      },
      "outputs": [],
      "source": [
        "heights = [144, 167, 189, 170, 190, 150, 165, 178, 200, 130]"
      ]
    },
    {
      "cell_type": "code",
      "execution_count": null,
      "id": "60993ca7",
      "metadata": {
        "id": "60993ca7"
      },
      "outputs": [],
      "source": [
        "def complex_logic(height):\n",
        "    if height < 150:\n",
        "        return \"S\"\n",
        "    elif height >= 150 and height < 180:\n",
        "        return \"M\"\n",
        "    elif height > 180:\n",
        "        return \"L\""
      ]
    },
    {
      "cell_type": "code",
      "execution_count": null,
      "id": "2bee8228",
      "metadata": {
        "id": "2bee8228",
        "colab": {
          "base_uri": "https://localhost:8080/"
        },
        "outputId": "662a0013-a261-4e12-ab58-25ffa0591703"
      },
      "outputs": [
        {
          "output_type": "execute_result",
          "data": {
            "text/plain": [
              "['S', 'M', 'L', 'M', 'L', 'M', 'M', 'M', 'L', 'S']"
            ]
          },
          "metadata": {},
          "execution_count": 12
        }
      ],
      "source": [
        "sizes = list(map(complex_logic, heights))\n",
        "sizes"
      ]
    },
    {
      "cell_type": "code",
      "execution_count": null,
      "id": "e7c5532f",
      "metadata": {
        "id": "e7c5532f",
        "colab": {
          "base_uri": "https://localhost:8080/"
        },
        "outputId": "65dfd57a-7c65-476e-d51d-d1c3982f3f0c"
      },
      "outputs": [
        {
          "output_type": "execute_result",
          "data": {
            "text/plain": [
              "['S', 'M', 'L', 'M', 'L', 'M', 'M', 'M', 'L', 'S']"
            ]
          },
          "metadata": {},
          "execution_count": 13
        }
      ],
      "source": [
        "sizes_2 = list(map(lambda x: \"S\" if x < 150 else \"M\" if x >= 150 and x < 180 else \"L\", heights))\n",
        "sizes_2"
      ]
    },
    {
      "cell_type": "markdown",
      "source": [
        "#### Given two lists A and B having 1s and 0s, find another list with element at index `i` as `True` if `A[i] == B[i]` else False."
      ],
      "metadata": {
        "id": "HcXyXrAcj8iC"
      },
      "id": "HcXyXrAcj8iC"
    },
    {
      "cell_type": "code",
      "execution_count": null,
      "id": "41104fe3",
      "metadata": {
        "id": "41104fe3"
      },
      "outputs": [],
      "source": [
        "A = [1,0,0,1,1,1,0,0,0,1,0,1]\n",
        "B = [0,0,1,1,0,1,1,1,0,0,0,0]\n",
        "\n",
        "# C = [True, True, False, ...]\n",
        "# If both A and B have same element, then C=True; else C=False."
      ]
    },
    {
      "cell_type": "code",
      "execution_count": null,
      "id": "38097de3",
      "metadata": {
        "id": "38097de3",
        "colab": {
          "base_uri": "https://localhost:8080/"
        },
        "outputId": "d7b3178c-3782-45a1-c695-e42c455238c3"
      },
      "outputs": [
        {
          "output_type": "execute_result",
          "data": {
            "text/plain": [
              "[False, True, False, True, False, True, False, False, True, False, True, False]"
            ]
          },
          "metadata": {},
          "execution_count": 15
        }
      ],
      "source": [
        "C = list(map(lambda x, y: x==y, A, B))\n",
        "C"
      ]
    },
    {
      "cell_type": "markdown",
      "source": [
        "---"
      ],
      "metadata": {
        "id": "7YRMxgbLGL5z"
      },
      "id": "7YRMxgbLGL5z"
    },
    {
      "cell_type": "markdown",
      "id": "83162e46",
      "metadata": {
        "id": "83162e46"
      },
      "source": [
        "## Filter\n",
        "\n",
        "<img src=\"https://d2beiqkhq929f0.cloudfront.net/public_assets/assets/000/016/064/original/Screenshot_2022-10-11_at_11.14.51_AM.png?1665467068\">"
      ]
    },
    {
      "cell_type": "code",
      "execution_count": null,
      "id": "f6b27092",
      "metadata": {
        "id": "f6b27092",
        "outputId": "f4307757-11ba-452e-b90d-669fe0c894af",
        "colab": {
          "base_uri": "https://localhost:8080/"
        }
      },
      "outputs": [
        {
          "output_type": "stream",
          "name": "stdout",
          "text": [
            "[1, 2, 3, 4, 5, 6, 7, 8, 9, 10]\n"
          ]
        }
      ],
      "source": [
        "a = list(range(1,11))\n",
        "\n",
        "print(a)"
      ]
    },
    {
      "cell_type": "code",
      "execution_count": null,
      "id": "9c19d8dd",
      "metadata": {
        "id": "9c19d8dd"
      },
      "outputs": [],
      "source": [
        "f = filter(lambda x: x%2 == 0, a)"
      ]
    },
    {
      "cell_type": "code",
      "execution_count": null,
      "id": "24fcea7f",
      "metadata": {
        "id": "24fcea7f",
        "colab": {
          "base_uri": "https://localhost:8080/"
        },
        "outputId": "b8c41b17-51c6-4590-ed01-3bfe51bd339f"
      },
      "outputs": [
        {
          "output_type": "execute_result",
          "data": {
            "text/plain": [
              "[2, 4, 6, 8, 10]"
            ]
          },
          "metadata": {},
          "execution_count": 18
        }
      ],
      "source": [
        "f_list = list(f)\n",
        "\n",
        "f_list"
      ]
    },
    {
      "cell_type": "markdown",
      "source": [
        "---"
      ],
      "metadata": {
        "id": "g8k_q7JuGHpG"
      },
      "id": "g8k_q7JuGHpG"
    },
    {
      "cell_type": "markdown",
      "id": "9c32123f",
      "metadata": {
        "id": "9c32123f"
      },
      "source": [
        "## Zip"
      ]
    },
    {
      "cell_type": "code",
      "execution_count": null,
      "id": "18fc3d39",
      "metadata": {
        "id": "18fc3d39"
      },
      "outputs": [],
      "source": [
        "a = [1,2,3]\n",
        "b = [\"a\", \"b\", \"c\", \"d\", \"e\"]"
      ]
    },
    {
      "cell_type": "code",
      "execution_count": null,
      "id": "5a096cbe",
      "metadata": {
        "id": "5a096cbe",
        "colab": {
          "base_uri": "https://localhost:8080/"
        },
        "outputId": "02079966-cabb-4bc3-dd3e-fd315783d4bb"
      },
      "outputs": [
        {
          "output_type": "execute_result",
          "data": {
            "text/plain": [
              "[('a', 1), ('b', 2), ('c', 3)]"
            ]
          },
          "metadata": {},
          "execution_count": 20
        }
      ],
      "source": [
        "result = list(zip(b,a))\n",
        "result"
      ]
    },
    {
      "cell_type": "code",
      "source": [
        "a = [1,2,3]\n",
        "b = [\"a\", \"b\", \"c\", \"d\", \"e\"]\n",
        "c = [\"x\", \"y\", \"z\", \"m\", \"n\"]"
      ],
      "metadata": {
        "id": "I-DpznCClj72"
      },
      "id": "I-DpznCClj72",
      "execution_count": null,
      "outputs": []
    },
    {
      "cell_type": "code",
      "source": [
        "result = list(zip(c, b,a))\n",
        "result"
      ],
      "metadata": {
        "id": "fb5CZ0mRllri",
        "colab": {
          "base_uri": "https://localhost:8080/"
        },
        "outputId": "880ddc83-e1fc-4ca8-b709-1a2e516c1b7b"
      },
      "id": "fb5CZ0mRllri",
      "execution_count": null,
      "outputs": [
        {
          "output_type": "execute_result",
          "data": {
            "text/plain": [
              "[('x', 'a', 1), ('y', 'b', 2), ('z', 'c', 3)]"
            ]
          },
          "metadata": {},
          "execution_count": 22
        }
      ]
    },
    {
      "cell_type": "markdown",
      "source": [
        "---"
      ],
      "metadata": {
        "id": "fhV1Da_xGBtR"
      },
      "id": "fhV1Da_xGBtR"
    },
    {
      "cell_type": "markdown",
      "id": "0590fa0f",
      "metadata": {
        "id": "0590fa0f"
      },
      "source": [
        "## Reduce\n",
        "\n",
        "<img src=\"https://d2beiqkhq929f0.cloudfront.net/public_assets/assets/000/016/065/original/Screenshot_2022-10-11_at_11.16.30_AM.png?1665467168\">\n",
        "\n",
        "<img src=\"https://d2beiqkhq929f0.cloudfront.net/public_assets/assets/000/016/066/original/Screenshot_2022-10-11_at_11.16.52_AM.png?1665467200\">"
      ]
    },
    {
      "cell_type": "code",
      "execution_count": null,
      "id": "dd011eeb",
      "metadata": {
        "id": "dd011eeb"
      },
      "outputs": [],
      "source": [
        "# This lines brings the reduce function into current code -\n",
        "\n",
        "from functools import reduce"
      ]
    },
    {
      "cell_type": "code",
      "execution_count": null,
      "id": "b630bf05",
      "metadata": {
        "id": "b630bf05"
      },
      "outputs": [],
      "source": [
        "a = [1,2,3,4,5]"
      ]
    },
    {
      "cell_type": "code",
      "execution_count": null,
      "id": "877db7d0",
      "metadata": {
        "id": "877db7d0",
        "colab": {
          "base_uri": "https://localhost:8080/"
        },
        "outputId": "833848a2-c195-4b0a-a900-6bf933f4f1fb"
      },
      "outputs": [
        {
          "output_type": "execute_result",
          "data": {
            "text/plain": [
              "15"
            ]
          },
          "metadata": {},
          "execution_count": 25
        }
      ],
      "source": [
        "result = reduce(lambda x, y: x + y, a)\n",
        "result"
      ]
    },
    {
      "cell_type": "code",
      "execution_count": null,
      "id": "7f1c1d3a",
      "metadata": {
        "id": "7f1c1d3a"
      },
      "outputs": [],
      "source": [
        "a = list(range(1,11))\n",
        "b = list(reversed(a))"
      ]
    },
    {
      "cell_type": "code",
      "execution_count": null,
      "id": "443d5df3",
      "metadata": {
        "id": "443d5df3",
        "outputId": "13461dc8-e7b7-44a0-d42f-4f9d3d3a62eb",
        "colab": {
          "base_uri": "https://localhost:8080/"
        }
      },
      "outputs": [
        {
          "output_type": "execute_result",
          "data": {
            "text/plain": [
              "[1, 2, 3, 4, 5, 6, 7, 8, 9, 10]"
            ]
          },
          "metadata": {},
          "execution_count": 27
        }
      ],
      "source": [
        "a"
      ]
    },
    {
      "cell_type": "code",
      "execution_count": null,
      "id": "9a88d0f5",
      "metadata": {
        "id": "9a88d0f5",
        "outputId": "767aaa37-c866-4eba-b076-fbb4a062f38d",
        "colab": {
          "base_uri": "https://localhost:8080/"
        }
      },
      "outputs": [
        {
          "output_type": "execute_result",
          "data": {
            "text/plain": [
              "[10, 9, 8, 7, 6, 5, 4, 3, 2, 1]"
            ]
          },
          "metadata": {},
          "execution_count": 28
        }
      ],
      "source": [
        "b"
      ]
    },
    {
      "cell_type": "code",
      "execution_count": null,
      "id": "708b739f",
      "metadata": {
        "id": "708b739f",
        "outputId": "da68cfb7-8aa4-4b27-ca74-e8c053649052",
        "colab": {
          "base_uri": "https://localhost:8080/"
        }
      },
      "outputs": [
        {
          "output_type": "stream",
          "name": "stdout",
          "text": [
            "True\n"
          ]
        }
      ],
      "source": [
        "print(reduce(lambda x,y: x*y, a) == reduce(lambda x,y: x*y, b))"
      ]
    },
    {
      "cell_type": "markdown",
      "source": [
        "#### Gives the element with maximum value from a given list of elements."
      ],
      "metadata": {
        "id": "B-hrCFTGepTU"
      },
      "id": "B-hrCFTGepTU"
    },
    {
      "cell_type": "code",
      "execution_count": null,
      "id": "dccca93a",
      "metadata": {
        "id": "dccca93a",
        "colab": {
          "base_uri": "https://localhost:8080/"
        },
        "outputId": "3e1507df-b867-4f7e-f980-afb8cddd5907"
      },
      "outputs": [
        {
          "output_type": "execute_result",
          "data": {
            "text/plain": [
              "10"
            ]
          },
          "metadata": {},
          "execution_count": 30
        }
      ],
      "source": [
        "max_element = reduce(lambda x, y: x if x>y else y, a)\n",
        "max_element"
      ]
    },
    {
      "cell_type": "markdown",
      "source": [
        "#### Perform cumulative summation on the given list starting from an initial value 100."
      ],
      "metadata": {
        "id": "OmzEOrIieiMM"
      },
      "id": "OmzEOrIieiMM"
    },
    {
      "cell_type": "code",
      "execution_count": null,
      "id": "5d0a89b6",
      "metadata": {
        "id": "5d0a89b6",
        "outputId": "61698029-65a7-4075-b392-f61d7b60541f",
        "colab": {
          "base_uri": "https://localhost:8080/"
        }
      },
      "outputs": [
        {
          "output_type": "execute_result",
          "data": {
            "text/plain": [
              "155"
            ]
          },
          "metadata": {},
          "execution_count": 31
        }
      ],
      "source": [
        "a = list(range(1,11))\n",
        "\n",
        "reduce(lambda x, y: x + y, a, 100)"
      ]
    },
    {
      "cell_type": "markdown",
      "source": [
        "---"
      ],
      "metadata": {
        "id": "JqQq5BOhFvqk"
      },
      "id": "JqQq5BOhFvqk"
    },
    {
      "cell_type": "markdown",
      "source": [
        "## Quiz-1\n",
        "\n",
        "### Question\n",
        "Given the lists a = [1, 2, 3] and b = [\"a\", \"b\"], what will be the result of list(zip(a,b))?\n",
        "\n",
        "### Choices\n",
        "\n",
        "- [ ]  [(1, 'a'), (2, 'b'), (3, None)]\n",
        "- [x]  [(1, 'a'), (2, 'b')]\n",
        "- [ ]  [(1, 'a'), (2, 'b'), (3, 'c')]\n",
        "- [ ]  Error\n",
        "\n",
        "### Explanation\n",
        "\n",
        "- The `zip` function pairs elements from multiple lists together based on their position.\n",
        "- If the lists are of unequal length, **zip** stops creating pairs when the shortest list is exhausted.\n",
        "- Here, since list `a` has 3 elements and list `b` has 2, only two pairs are formed.\n",
        "- The extra element in list `a` is ignored."
      ],
      "metadata": {
        "id": "3jFQO1olYG4D"
      },
      "id": "3jFQO1olYG4D"
    },
    {
      "cell_type": "markdown",
      "source": [
        "---"
      ],
      "metadata": {
        "id": "a7cQc14RFpOs"
      },
      "id": "a7cQc14RFpOs"
    },
    {
      "cell_type": "markdown",
      "id": "4eca1676",
      "metadata": {
        "id": "4eca1676"
      },
      "source": [
        "## Args and Kwargs"
      ]
    },
    {
      "cell_type": "markdown",
      "source": [
        "#### Create a function that gives you the sum the input provided.\n",
        "\n",
        "A good summation function -\n",
        "- should take at least - 2 arguments\n",
        "- should take at max - infinite arguments"
      ],
      "metadata": {
        "id": "q-Nhf5hPptv5"
      },
      "id": "q-Nhf5hPptv5"
    },
    {
      "cell_type": "code",
      "execution_count": null,
      "id": "2195604c",
      "metadata": {
        "id": "2195604c"
      },
      "outputs": [],
      "source": [
        "def summation(x, y):\n",
        "    return x + y"
      ]
    },
    {
      "cell_type": "code",
      "execution_count": null,
      "id": "932e6e5e",
      "metadata": {
        "id": "932e6e5e",
        "colab": {
          "base_uri": "https://localhost:8080/"
        },
        "outputId": "af3ff8fc-e61c-43c7-fb0b-92cc6a0cd5b8"
      },
      "outputs": [
        {
          "output_type": "execute_result",
          "data": {
            "text/plain": [
              "13"
            ]
          },
          "metadata": {},
          "execution_count": 33
        }
      ],
      "source": [
        "res = summation(6,7)\n",
        "res"
      ]
    },
    {
      "cell_type": "markdown",
      "source": [
        "> args are stored inside a `tuple`. </br>\n",
        "> kwargs are stored inside `dictionary` and these are keyword arguments."
      ],
      "metadata": {
        "id": "obz75f4qrdSI"
      },
      "id": "obz75f4qrdSI"
    },
    {
      "cell_type": "code",
      "execution_count": null,
      "id": "c7da363b",
      "metadata": {
        "id": "c7da363b"
      },
      "outputs": [],
      "source": [
        "def summation(x, y, *args):\n",
        "    result = x + y\n",
        "    if args:\n",
        "        result += sum(args)\n",
        "\n",
        "    return result"
      ]
    },
    {
      "cell_type": "code",
      "execution_count": null,
      "id": "4a10d813",
      "metadata": {
        "id": "4a10d813",
        "outputId": "87a3c5e6-2eae-430b-de4d-fce950f7b859",
        "colab": {
          "base_uri": "https://localhost:8080/"
        }
      },
      "outputs": [
        {
          "output_type": "execute_result",
          "data": {
            "text/plain": [
              "126"
            ]
          },
          "metadata": {},
          "execution_count": 35
        }
      ],
      "source": [
        "summation(5,6,7,8,9,10,11,12,13,14,15,16)"
      ]
    },
    {
      "cell_type": "code",
      "execution_count": null,
      "id": "5305f8bd",
      "metadata": {
        "id": "5305f8bd"
      },
      "outputs": [],
      "source": [
        "def create_person(name, age, gender):\n",
        "    Person = {\n",
        "        \"name\": name,\n",
        "        \"age\": age,\n",
        "        \"gender\": gender\n",
        "    }\n",
        "\n",
        "    return Person"
      ]
    },
    {
      "cell_type": "code",
      "execution_count": null,
      "id": "2df75967",
      "metadata": {
        "id": "2df75967",
        "colab": {
          "base_uri": "https://localhost:8080/"
        },
        "outputId": "bcd3c028-e0b9-4034-ac19-b4c923a95c6e"
      },
      "outputs": [
        {
          "output_type": "execute_result",
          "data": {
            "text/plain": [
              "{'name': 'Rohit', 'age': 1500, 'gender': 'Male'}"
            ]
          },
          "metadata": {},
          "execution_count": 37
        }
      ],
      "source": [
        "create_person(name = \"Rohit\", age = 1500, gender = \"Male\")"
      ]
    },
    {
      "cell_type": "code",
      "execution_count": null,
      "id": "536f1de3",
      "metadata": {
        "id": "536f1de3"
      },
      "outputs": [],
      "source": [
        "def create_person(name, age, gender, **extra_info):\n",
        "    Person = {\n",
        "        \"name\": name,\n",
        "        \"age\": age,\n",
        "        \"gender\": gender\n",
        "    }\n",
        "\n",
        "    if extra_info:\n",
        "        Person.update(extra_info)\n",
        "\n",
        "    return Person"
      ]
    },
    {
      "cell_type": "code",
      "execution_count": null,
      "id": "ef3c984e",
      "metadata": {
        "id": "ef3c984e",
        "outputId": "f29174aa-cb52-4964-f037-d306679d0e4a",
        "colab": {
          "base_uri": "https://localhost:8080/"
        }
      },
      "outputs": [
        {
          "output_type": "execute_result",
          "data": {
            "text/plain": [
              "{'name': 'Rohit',\n",
              " 'age': 1500,\n",
              " 'gender': 'Male',\n",
              " 'color': 'blue',\n",
              " 'hobby': 'chess'}"
            ]
          },
          "metadata": {},
          "execution_count": 39
        }
      ],
      "source": [
        "create_person(name = \"Rohit\", age = 1500, gender = \"Male\", color = \"blue\", hobby = \"chess\")"
      ]
    },
    {
      "cell_type": "code",
      "execution_count": null,
      "id": "40dbc5e2",
      "metadata": {
        "id": "40dbc5e2"
      },
      "outputs": [],
      "source": [
        "def random(x, y, *args, **kwargs):\n",
        "    print(x)\n",
        "    print(args)\n",
        "    print(kwargs)"
      ]
    },
    {
      "cell_type": "code",
      "execution_count": null,
      "id": "1718a7e7",
      "metadata": {
        "id": "1718a7e7",
        "outputId": "739375f2-8dd4-4ceb-dd2a-9e3d92c3198b",
        "colab": {
          "base_uri": "https://localhost:8080/",
          "height": 143
        }
      },
      "outputs": [
        {
          "output_type": "error",
          "ename": "SyntaxError",
          "evalue": "positional argument follows keyword argument (<ipython-input-42-b223e418580d>, line 1)",
          "traceback": [
            "\u001b[0;36m  File \u001b[0;32m\"<ipython-input-42-b223e418580d>\"\u001b[0;36m, line \u001b[0;32m1\u001b[0m\n\u001b[0;31m    random(1,2,4,5,6,m=1,n=2,o=3,8,9,0)\u001b[0m\n\u001b[0m                                      ^\u001b[0m\n\u001b[0;31mSyntaxError\u001b[0m\u001b[0;31m:\u001b[0m positional argument follows keyword argument\n"
          ]
        }
      ],
      "source": [
        "random(1,2,4,5,6,m=1,n=2,o=3,8,9,0)"
      ]
    },
    {
      "cell_type": "markdown",
      "source": [
        "#### Order of passing arguments -\n",
        "\n",
        "Positional -> Args -> Keyworded -> Kwargs"
      ],
      "metadata": {
        "id": "26Ir96DMsP6R"
      },
      "id": "26Ir96DMsP6R"
    },
    {
      "cell_type": "code",
      "execution_count": null,
      "id": "f3a33c7d",
      "metadata": {
        "id": "f3a33c7d",
        "outputId": "8dffd6b5-c240-4ee6-c265-cc87c86266d9",
        "colab": {
          "base_uri": "https://localhost:8080/"
        }
      },
      "outputs": [
        {
          "output_type": "stream",
          "name": "stdout",
          "text": [
            "2\n",
            "(2, 3)\n",
            "{'z': 1}\n"
          ]
        }
      ],
      "source": [
        "random(2,1,2,3,z=1)"
      ]
    },
    {
      "cell_type": "code",
      "execution_count": null,
      "id": "00fe0aad",
      "metadata": {
        "id": "00fe0aad",
        "outputId": "30185389-3a4d-44c4-e09f-a06fc7cd1b4c",
        "colab": {
          "base_uri": "https://localhost:8080/"
        }
      },
      "outputs": [
        {
          "output_type": "stream",
          "name": "stdout",
          "text": [
            "1\n",
            "()\n",
            "{}\n"
          ]
        }
      ],
      "source": [
        "random(1,y=2)"
      ]
    },
    {
      "cell_type": "markdown",
      "source": [
        "---"
      ],
      "metadata": {
        "id": "8WFzQFgmFhsW"
      },
      "id": "8WFzQFgmFhsW"
    },
    {
      "cell_type": "markdown",
      "source": [
        "## Quiz-2\n",
        "\n",
        "### Question\n",
        "\n",
        "Consider the following function:\n",
        "\n",
        "```\n",
        "def sample_func(x, y, *args, **kwargs):\n",
        "    return x, y, args, kwargs\n",
        "```\n",
        "\n",
        "What will be the output for the function call `sample_func(1, 2, 3, 4, a=5, b=6)`?\n",
        "\n",
        "### Choices\n",
        "\n",
        "- [x]  (1, 2, (3, 4), {\"a\": 5, \"b\": 6})\n",
        "- [ ]  (1, 2, [3, 4], {\"a\": 5, \"b\": 6})\n",
        "- [ ]  (1, 2, 3, 4, a=5, b=6)\n",
        "- [ ] (1, 2, [3, 4], a=5, b=6)\n",
        "\n",
        "**Correct Answer**: (1, 2, (3, 4), {\"a\": 5, \"b\": 6})\n",
        "\n",
        "### Explanation\n",
        "\n",
        "- The function `sample_func` is designed to capture both positional and keyword arguments beyond `x` and `y`.\n",
        "- `*args` captures extra positional arguments and returns them as a tuple.\n",
        "- In the given function call, after `x` and `y`, the numbers `3` and `4` are captured by `*args`, forming a tuple `(3, 4)`.\n",
        "- `**kwargs` captures extra keyword arguments, returning them as a dictionary.\n",
        "- The keyword arguments `a=5` and `b=6` are represented as the dictionary `{\"a\": 5, \"b\": 6}`."
      ],
      "metadata": {
        "id": "GRiUfq7iX2FX"
      },
      "id": "GRiUfq7iX2FX"
    },
    {
      "cell_type": "markdown",
      "source": [
        "---"
      ],
      "metadata": {
        "id": "TrjTidDEFaOr"
      },
      "id": "TrjTidDEFaOr"
    }
  ],
  "metadata": {
    "kernelspec": {
      "display_name": "Python 3 (ipykernel)",
      "language": "python",
      "name": "python3"
    },
    "language_info": {
      "codemirror_mode": {
        "name": "ipython",
        "version": 3
      },
      "file_extension": ".py",
      "mimetype": "text/x-python",
      "name": "python",
      "nbconvert_exporter": "python",
      "pygments_lexer": "ipython3",
      "version": "3.9.5"
    },
    "colab": {
      "provenance": [],
      "include_colab_link": true
    }
  },
  "nbformat": 4,
  "nbformat_minor": 5
}