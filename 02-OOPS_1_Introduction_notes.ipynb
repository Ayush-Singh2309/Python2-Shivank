{
  "nbformat": 4,
  "nbformat_minor": 0,
  "metadata": {
    "colab": {
      "provenance": [],
      "include_colab_link": true
    },
    "kernelspec": {
      "name": "python3",
      "display_name": "Python 3"
    },
    "language_info": {
      "name": "python"
    }
  },
  "cells": [
    {
      "cell_type": "markdown",
      "metadata": {
        "id": "view-in-github",
        "colab_type": "text"
      },
      "source": [
        "<a href=\"https://colab.research.google.com/github/Ayush-Singh2309/Python2-Shivank/blob/main/02-OOPS_1_Introduction_notes.ipynb\" target=\"_parent\"><img src=\"https://colab.research.google.com/assets/colab-badge.svg\" alt=\"Open In Colab\"/></a>"
      ]
    },
    {
      "cell_type": "markdown",
      "source": [
        "# OOPS 1 - Introduction"
      ],
      "metadata": {
        "id": "5HN6X4ncRuFh"
      }
    },
    {
      "cell_type": "markdown",
      "source": [
        "---"
      ],
      "metadata": {
        "id": "izX32-8xaDQg"
      }
    },
    {
      "cell_type": "markdown",
      "source": [
        "## Content\n",
        "\n",
        "1. OOP - Object Oriented Programming\n",
        "2. Classes & Objects\n",
        "  1. Defining a class\n",
        "  2. Instantiating an object\n",
        "3. 4 Pillars of OOP\n",
        "  1. Abstraction\n",
        "  2. Encapsulation\n",
        "  3. Inheritance\n",
        "  4. Ploymorphism\n",
        "4. Constructors\n",
        "5. Class & Instance Variables"
      ],
      "metadata": {
        "id": "BZ_rhTPxDaO2"
      }
    },
    {
      "cell_type": "markdown",
      "source": [
        "---"
      ],
      "metadata": {
        "id": "HTATuK5KaEPi"
      }
    },
    {
      "cell_type": "markdown",
      "source": [
        "## Object Oriented Programming (OOP)\n",
        "\n",
        "- It is a programming paradigm.\n",
        "  - Paradigm means the way of writing a program, fixed set of practices.\n",
        "\n",
        "- In OOP, we have *classes* and *objects*.\n",
        "- **Class** is a blue print that defines the *methods* and *properties* of an **Object**.\n",
        "\n",
        "<img src=\"https://d2beiqkhq929f0.cloudfront.net/public_assets/assets/000/015/843/original/Screenshot_2022-10-06_at_8.53.31_AM.png?1665026595\">"
      ],
      "metadata": {
        "id": "OBEWAxSsTkaR"
      }
    },
    {
      "cell_type": "code",
      "source": [
        "class Student:\n",
        "  # methods\n",
        "  # properties\n",
        "  pass\n",
        "\n",
        "  # pass represents empty body in Python"
      ],
      "metadata": {
        "id": "DrL5fhg4Vhh7"
      },
      "execution_count": null,
      "outputs": []
    },
    {
      "cell_type": "code",
      "source": [
        "isinstance(Student, object)"
      ],
      "metadata": {
        "colab": {
          "base_uri": "https://localhost:8080/"
        },
        "id": "m0Dz4f1VVnkK",
        "outputId": "c5163e08-5ace-44ef-9292-bab5f744758e"
      },
      "execution_count": null,
      "outputs": [
        {
          "output_type": "execute_result",
          "data": {
            "text/plain": [
              "True"
            ]
          },
          "metadata": {},
          "execution_count": 2
        }
      ]
    },
    {
      "cell_type": "code",
      "source": [
        "# create an instance of this class - instantiate - create an object of class type\n",
        "a = Student()"
      ],
      "metadata": {
        "id": "bsj0lXZQWBaC"
      },
      "execution_count": null,
      "outputs": []
    },
    {
      "cell_type": "code",
      "source": [
        "type(a)"
      ],
      "metadata": {
        "colab": {
          "base_uri": "https://localhost:8080/"
        },
        "id": "ic31pOL4WEv3",
        "outputId": "3fba639c-97b1-4a2e-ae57-6ced9557e1db"
      },
      "execution_count": null,
      "outputs": [
        {
          "output_type": "execute_result",
          "data": {
            "text/plain": [
              "__main__.Student"
            ]
          },
          "metadata": {},
          "execution_count": 4
        }
      ]
    },
    {
      "cell_type": "code",
      "source": [
        "isinstance(a, Student)"
      ],
      "metadata": {
        "colab": {
          "base_uri": "https://localhost:8080/"
        },
        "id": "OgiMBoUUWJyx",
        "outputId": "47e6f57c-98f0-454d-e2e9-e051d850a1f1"
      },
      "execution_count": null,
      "outputs": [
        {
          "output_type": "execute_result",
          "data": {
            "text/plain": [
              "True"
            ]
          },
          "metadata": {},
          "execution_count": 5
        }
      ]
    },
    {
      "cell_type": "code",
      "source": [
        "isinstance(a, object)"
      ],
      "metadata": {
        "colab": {
          "base_uri": "https://localhost:8080/"
        },
        "id": "1SSQqy8-WLXT",
        "outputId": "44de7359-0135-4ddf-bdae-3ad75cb2d98b"
      },
      "execution_count": null,
      "outputs": [
        {
          "output_type": "execute_result",
          "data": {
            "text/plain": [
              "True"
            ]
          },
          "metadata": {},
          "execution_count": 6
        }
      ]
    },
    {
      "cell_type": "markdown",
      "source": [
        "In Python, everything is an object."
      ],
      "metadata": {
        "id": "YR--i0skCn9t"
      }
    },
    {
      "cell_type": "markdown",
      "source": [
        "---"
      ],
      "metadata": {
        "id": "Wk7Px4AgCrtt"
      }
    },
    {
      "cell_type": "markdown",
      "source": [
        "### Quiz-1\n",
        "# Question:\n",
        "What is the main concept behind Object-Oriented Programming (OOP)?\n",
        "# Choices:\n",
        "- [ ] Writing code that is easy to debug.\n",
        "- [ ] Using functions and procedures to perform operations.\n",
        "- [x] Organizing code into objects and classes.\n",
        "- [ ] Speeding up the execution time of programs."
      ],
      "metadata": {
        "id": "n8OGvdJ8kegn"
      }
    },
    {
      "cell_type": "markdown",
      "source": [
        "---"
      ],
      "metadata": {
        "id": "5y5NVzisCwi-"
      }
    },
    {
      "cell_type": "markdown",
      "source": [
        "## 4 pillars of OOP\n",
        "\n",
        "- #### ***Encapsulation***: Putting things together\n",
        "\n",
        "- #### ***Abstraction***: Hiding the irrelevant features\n",
        "  - <img src=\"https://d2beiqkhq929f0.cloudfront.net/public_assets/assets/000/015/844/original/Screenshot_2022-10-06_at_9.11.35_AM.png?1665027689\">\n",
        "\n",
        "- #### ***Inheritance***: objetcs of one class can inherit the features of other class\n",
        "  - <img src=\"https://d2beiqkhq929f0.cloudfront.net/public_assets/assets/000/015/845/original/Screenshot_2022-10-06_at_9.11.44_AM.png?1665027716\">\n",
        "\n",
        "- #### ***Polymorphism***: Same entity but different behaviour"
      ],
      "metadata": {
        "id": "WD27K2n9XV1N"
      }
    },
    {
      "cell_type": "code",
      "source": [
        "# Examples of Polymorphism\n",
        "\n",
        "print(56 + 75)\n",
        "\n",
        "print(\"what\" + \"on\" + \"earth\")"
      ],
      "metadata": {
        "colab": {
          "base_uri": "https://localhost:8080/"
        },
        "id": "l0NDgtyuWNBk",
        "outputId": "12db2ff5-5369-45ff-a411-fc47b3430f6f"
      },
      "execution_count": null,
      "outputs": [
        {
          "output_type": "stream",
          "name": "stdout",
          "text": [
            "131\n",
            "whatonearth\n"
          ]
        }
      ]
    },
    {
      "cell_type": "markdown",
      "source": [
        "When you call a class, it creates an object of that class."
      ],
      "metadata": {
        "id": "nAg_Y7upIX6b"
      }
    },
    {
      "cell_type": "code",
      "source": [
        "s1 = Student()\n",
        "\n",
        "s1"
      ],
      "metadata": {
        "id": "djHGcqeEWWlA",
        "colab": {
          "base_uri": "https://localhost:8080/"
        },
        "outputId": "c6518932-e33b-4f28-ba69-9a62f3573faa"
      },
      "execution_count": null,
      "outputs": [
        {
          "output_type": "execute_result",
          "data": {
            "text/plain": [
              "<__main__.Student at 0x79219d0e5330>"
            ]
          },
          "metadata": {},
          "execution_count": 8
        }
      ]
    },
    {
      "cell_type": "code",
      "source": [
        "# Making property of s1\n",
        "\n",
        "s1.name = \"Bipin\"\n",
        "\n",
        "s1.name"
      ],
      "metadata": {
        "id": "P7cKz_n0WaPH",
        "colab": {
          "base_uri": "https://localhost:8080/",
          "height": 35
        },
        "outputId": "8d0d7e7c-9649-4200-9c40-16d959bb227f"
      },
      "execution_count": null,
      "outputs": [
        {
          "output_type": "execute_result",
          "data": {
            "text/plain": [
              "'Bipin'"
            ],
            "application/vnd.google.colaboratory.intrinsic+json": {
              "type": "string"
            }
          },
          "metadata": {},
          "execution_count": 9
        }
      ]
    },
    {
      "cell_type": "code",
      "source": [
        "s2 = s1\n",
        "\n",
        "s2.name"
      ],
      "metadata": {
        "id": "GfGZZWZ-byXn",
        "colab": {
          "base_uri": "https://localhost:8080/",
          "height": 35
        },
        "outputId": "f43a7fbc-682b-4989-9916-3177f43dc26c"
      },
      "execution_count": null,
      "outputs": [
        {
          "output_type": "execute_result",
          "data": {
            "text/plain": [
              "'Bipin'"
            ],
            "application/vnd.google.colaboratory.intrinsic+json": {
              "type": "string"
            }
          },
          "metadata": {},
          "execution_count": 10
        }
      ]
    },
    {
      "cell_type": "markdown",
      "source": [
        "---"
      ],
      "metadata": {
        "id": "YfBTFDxgC7pt"
      }
    },
    {
      "cell_type": "markdown",
      "source": [
        "### Quiz-2\n",
        "# Question:\n",
        "In Python, how do you define a new class named `MyClass`?\n",
        "# Choices:\n",
        "- [ ] `def MyClass():`\n",
        "- [x] `class MyClass:`\n",
        "- [ ] `new MyClass():`\n",
        "- [ ] `MyClass = Class.new()`"
      ],
      "metadata": {
        "id": "l-zsIEUFl-7D"
      }
    },
    {
      "cell_type": "markdown",
      "source": [
        "---"
      ],
      "metadata": {
        "id": "-ITSK9-7C9Cj"
      }
    },
    {
      "cell_type": "markdown",
      "source": [
        "## Constructors\n",
        "\n",
        "- Constructor is function which is called whenever an object is created, to allocate the memory to that object.\n",
        "\n",
        "- In Python, we don't have direct access to constructor.\n",
        "> **Note:** `__init__()` method is not a constructor. It's an initializing function.\n",
        "\n",
        "### Life Cycle of an Object\n",
        "<img src=\"https://d2beiqkhq929f0.cloudfront.net/public_assets/assets/000/015/846/original/Screenshot_2022-10-06_at_9.24.23_AM.png?1665028448\">"
      ],
      "metadata": {
        "id": "A-y4HEtaZuZq"
      }
    },
    {
      "cell_type": "code",
      "source": [
        "class Student:\n",
        "    def hello():\n",
        "        print(\"Hello!\")"
      ],
      "metadata": {
        "id": "pNreQAD7WdmQ"
      },
      "execution_count": null,
      "outputs": []
    },
    {
      "cell_type": "code",
      "source": [
        "s2 = Student()\n",
        "\n",
        "s2.hello()"
      ],
      "metadata": {
        "id": "Gbd2mztKWfaY",
        "colab": {
          "base_uri": "https://localhost:8080/",
          "height": 214
        },
        "outputId": "b65f1b90-18a3-4893-b23b-03e824e857d1"
      },
      "execution_count": null,
      "outputs": [
        {
          "output_type": "error",
          "ename": "TypeError",
          "evalue": "Student.hello() takes 0 positional arguments but 1 was given",
          "traceback": [
            "\u001b[0;31m---------------------------------------------------------------------------\u001b[0m",
            "\u001b[0;31mTypeError\u001b[0m                                 Traceback (most recent call last)",
            "\u001b[0;32m<ipython-input-13-e6909bd8b8c3>\u001b[0m in \u001b[0;36m<cell line: 3>\u001b[0;34m()\u001b[0m\n\u001b[1;32m      1\u001b[0m \u001b[0ms2\u001b[0m \u001b[0;34m=\u001b[0m \u001b[0mStudent\u001b[0m\u001b[0;34m(\u001b[0m\u001b[0;34m)\u001b[0m\u001b[0;34m\u001b[0m\u001b[0;34m\u001b[0m\u001b[0m\n\u001b[1;32m      2\u001b[0m \u001b[0;34m\u001b[0m\u001b[0m\n\u001b[0;32m----> 3\u001b[0;31m \u001b[0ms2\u001b[0m\u001b[0;34m.\u001b[0m\u001b[0mhello\u001b[0m\u001b[0;34m(\u001b[0m\u001b[0;34m)\u001b[0m\u001b[0;34m\u001b[0m\u001b[0;34m\u001b[0m\u001b[0m\n\u001b[0m",
            "\u001b[0;31mTypeError\u001b[0m: Student.hello() takes 0 positional arguments but 1 was given"
          ]
        }
      ]
    },
    {
      "cell_type": "markdown",
      "source": [
        "#### By default, Python passes an argument known as `self`."
      ],
      "metadata": {
        "id": "Ry_KZJ-isekb"
      }
    },
    {
      "cell_type": "code",
      "source": [
        "# We can name anything to self, here giving random_variable_name.\n",
        "\n",
        "class Student:\n",
        "    def hello(random_variable_name):\n",
        "        print(\"Hello!\")\n",
        "        print(id(random_variable_name))"
      ],
      "metadata": {
        "id": "XdNG5xfSWmg0"
      },
      "execution_count": null,
      "outputs": []
    },
    {
      "cell_type": "code",
      "source": [
        "s1 = Student()\n",
        "\n",
        "s1.hello()\n",
        "# Student.hello(s1)\n",
        "\n",
        "print(id(s1))"
      ],
      "metadata": {
        "colab": {
          "base_uri": "https://localhost:8080/"
        },
        "id": "20IiLjVDWtEF",
        "outputId": "a56c559e-cb85-4aad-87dc-f83dc8663b02"
      },
      "execution_count": null,
      "outputs": [
        {
          "output_type": "stream",
          "name": "stdout",
          "text": [
            "Hello!\n",
            "133185275844384\n",
            "133185275844384\n"
          ]
        }
      ]
    },
    {
      "cell_type": "markdown",
      "source": [
        "> Note: `self` argument is reference of the object itself.\n",
        "In the above example, we get same id because both times, it is the same object."
      ],
      "metadata": {
        "id": "1WOdRXYqcjRk"
      }
    },
    {
      "cell_type": "markdown",
      "source": [
        "Implicitly, Python already has a standard init function.\n",
        "\n",
        "But you can create a custom `__init__` function as well. It will override."
      ],
      "metadata": {
        "id": "0iJNMGhKFlsQ"
      }
    },
    {
      "cell_type": "code",
      "source": [
        "class Student:\n",
        "    def __init__(self, name, age):\n",
        "        self.name = name\n",
        "        # This will create property name on current object `self`\n",
        "        self.age = age\n",
        "\n",
        "    def study(self):\n",
        "      print(\"lemme watch movie\")"
      ],
      "metadata": {
        "id": "knUedN4IW00c"
      },
      "execution_count": null,
      "outputs": []
    },
    {
      "cell_type": "markdown",
      "source": [
        "Also, `self` is automatically passed in Python."
      ],
      "metadata": {
        "id": "ACFZR76IFxA8"
      }
    },
    {
      "cell_type": "code",
      "source": [
        "s1 = Student(\"Vaishali\", 5000)\n",
        "\n",
        "print(s1.name, s1.age)"
      ],
      "metadata": {
        "id": "Mv3rNDoTd5BI",
        "colab": {
          "base_uri": "https://localhost:8080/"
        },
        "outputId": "6ac27019-20ec-4756-b1ab-87d930bd4a02"
      },
      "execution_count": null,
      "outputs": [
        {
          "output_type": "stream",
          "name": "stdout",
          "text": [
            "Vaishali 5000\n"
          ]
        }
      ]
    },
    {
      "cell_type": "code",
      "source": [
        "s2 = Student(\"Vinoth\", 10000)\n",
        "\n",
        "print(s2.name, s2.age)"
      ],
      "metadata": {
        "id": "7Bboqkshd_k7",
        "colab": {
          "base_uri": "https://localhost:8080/"
        },
        "outputId": "7008cbfd-132a-4cf5-d06f-411b40f6bf9e"
      },
      "execution_count": null,
      "outputs": [
        {
          "output_type": "stream",
          "name": "stdout",
          "text": [
            "Vinoth 10000\n"
          ]
        }
      ]
    },
    {
      "cell_type": "markdown",
      "source": [
        "---"
      ],
      "metadata": {
        "id": "P5X2ohTaGTOz"
      }
    },
    {
      "cell_type": "markdown",
      "source": [
        "## Class and Instance Variables"
      ],
      "metadata": {
        "id": "-17i9cvCIF0o"
      }
    },
    {
      "cell_type": "markdown",
      "source": [
        "#### Class variable - A variable that is shared among all instances of a class.\n",
        "\n",
        "#### Instance variable - A variable that is unique to each instance of a class."
      ],
      "metadata": {
        "id": "Is9DY-R5IkHI"
      }
    },
    {
      "cell_type": "code",
      "source": [
        "class Dog:\n",
        "    kind = \"canine\" # class variable\n",
        "\n",
        "    def __init__(self, name):\n",
        "        self.name = name # object / instance variable"
      ],
      "metadata": {
        "id": "zJw4JRL4e9M-"
      },
      "execution_count": null,
      "outputs": []
    },
    {
      "cell_type": "code",
      "source": [
        "d1 = Dog(\"tuffy\")\n",
        "d2 = Dog(\"scooby\")"
      ],
      "metadata": {
        "id": "3mlGW28NfADA"
      },
      "execution_count": null,
      "outputs": []
    },
    {
      "cell_type": "code",
      "source": [
        "d1.name, d2.name"
      ],
      "metadata": {
        "colab": {
          "base_uri": "https://localhost:8080/"
        },
        "id": "2jMR7T0CfE6u",
        "outputId": "c2e5e0e9-3efd-45b8-8d06-cae6f851cc47"
      },
      "execution_count": null,
      "outputs": [
        {
          "output_type": "execute_result",
          "data": {
            "text/plain": [
              "('tuffy', 'scooby')"
            ]
          },
          "metadata": {},
          "execution_count": 21
        }
      ]
    },
    {
      "cell_type": "code",
      "source": [
        "d1.kind, d2.kind"
      ],
      "metadata": {
        "colab": {
          "base_uri": "https://localhost:8080/"
        },
        "id": "iQ90aMFpfG0G",
        "outputId": "589c728e-ee09-43e6-9fa6-154a0af70f2c"
      },
      "execution_count": null,
      "outputs": [
        {
          "output_type": "execute_result",
          "data": {
            "text/plain": [
              "('canine', 'canine')"
            ]
          },
          "metadata": {},
          "execution_count": 22
        }
      ]
    },
    {
      "cell_type": "code",
      "source": [
        "# Accessing a class variable\n",
        "Dog.kind"
      ],
      "metadata": {
        "colab": {
          "base_uri": "https://localhost:8080/",
          "height": 35
        },
        "id": "S1ySmwV6fPXw",
        "outputId": "794e83c6-c3b8-451b-e5ef-6a8b4e477a1a"
      },
      "execution_count": null,
      "outputs": [
        {
          "output_type": "execute_result",
          "data": {
            "text/plain": [
              "'canine'"
            ],
            "application/vnd.google.colaboratory.intrinsic+json": {
              "type": "string"
            }
          },
          "metadata": {},
          "execution_count": 23
        }
      ]
    },
    {
      "cell_type": "code",
      "source": [
        "Dog.name"
      ],
      "metadata": {
        "colab": {
          "base_uri": "https://localhost:8080/",
          "height": 179
        },
        "id": "ecb_VWodCs2m",
        "outputId": "b7f4f36a-36d6-44b4-f789-798a8ebc7971"
      },
      "execution_count": null,
      "outputs": [
        {
          "output_type": "error",
          "ename": "AttributeError",
          "evalue": "type object 'Dog' has no attribute 'name'",
          "traceback": [
            "\u001b[0;31m---------------------------------------------------------------------------\u001b[0m",
            "\u001b[0;31mAttributeError\u001b[0m                            Traceback (most recent call last)",
            "\u001b[0;32m<ipython-input-24-629675d46941>\u001b[0m in \u001b[0;36m<cell line: 1>\u001b[0;34m()\u001b[0m\n\u001b[0;32m----> 1\u001b[0;31m \u001b[0mDog\u001b[0m\u001b[0;34m.\u001b[0m\u001b[0mname\u001b[0m\u001b[0;34m\u001b[0m\u001b[0;34m\u001b[0m\u001b[0m\n\u001b[0m",
            "\u001b[0;31mAttributeError\u001b[0m: type object 'Dog' has no attribute 'name'"
          ]
        }
      ]
    },
    {
      "cell_type": "markdown",
      "source": [
        "<img src=\"https://d2beiqkhq929f0.cloudfront.net/public_assets/assets/000/016/213/original/Screenshot_2022-10-12_at_9.34.55_AM.png?1665547478\">\n",
        "<img src=\"https://d2beiqkhq929f0.cloudfront.net/public_assets/assets/000/016/214/original/Screenshot_2022-10-12_at_9.35.04_AM.png?1665547506\">"
      ],
      "metadata": {
        "id": "WtkQyBKehchL"
      }
    },
    {
      "cell_type": "code",
      "source": [
        "# Changing the class variable through an object d1\n",
        "d1.kind = \"doberman\""
      ],
      "metadata": {
        "id": "JdkdVswmgyZk"
      },
      "execution_count": null,
      "outputs": []
    },
    {
      "cell_type": "code",
      "source": [
        "# Creates an instance/object variable just for that object\n",
        "\n",
        "d1.kind"
      ],
      "metadata": {
        "colab": {
          "base_uri": "https://localhost:8080/",
          "height": 35
        },
        "id": "PHCKr4Cng1Ol",
        "outputId": "fafeb35f-73ba-4b2b-ef21-5bdb8a366b8f"
      },
      "execution_count": null,
      "outputs": [
        {
          "output_type": "execute_result",
          "data": {
            "text/plain": [
              "'canine'"
            ],
            "application/vnd.google.colaboratory.intrinsic+json": {
              "type": "string"
            }
          },
          "metadata": {},
          "execution_count": 25
        }
      ]
    },
    {
      "cell_type": "code",
      "source": [
        "d2.kind"
      ],
      "metadata": {
        "colab": {
          "base_uri": "https://localhost:8080/",
          "height": 35
        },
        "id": "QFkDwVvoNndQ",
        "outputId": "4501e11c-4c0a-44a1-899c-a8812e965492"
      },
      "execution_count": null,
      "outputs": [
        {
          "output_type": "execute_result",
          "data": {
            "text/plain": [
              "'canine'"
            ],
            "application/vnd.google.colaboratory.intrinsic+json": {
              "type": "string"
            }
          },
          "metadata": {},
          "execution_count": 26
        }
      ]
    },
    {
      "cell_type": "code",
      "source": [
        "d2.kind"
      ],
      "metadata": {
        "colab": {
          "base_uri": "https://localhost:8080/",
          "height": 35
        },
        "id": "TSfLCD6Fg3V_",
        "outputId": "3b65b038-a847-4e32-b31d-69946d212ac4"
      },
      "execution_count": null,
      "outputs": [
        {
          "output_type": "execute_result",
          "data": {
            "text/plain": [
              "'canine'"
            ],
            "application/vnd.google.colaboratory.intrinsic+json": {
              "type": "string"
            }
          },
          "metadata": {},
          "execution_count": 27
        }
      ]
    },
    {
      "cell_type": "code",
      "source": [
        "Dog.kind = \"random_kind\"\n",
        "print(Dog.kind)"
      ],
      "metadata": {
        "id": "sGYHIiHohAqm",
        "colab": {
          "base_uri": "https://localhost:8080/"
        },
        "outputId": "2260e2dd-0699-4d79-e3c0-56634a5abc1b"
      },
      "execution_count": null,
      "outputs": [
        {
          "output_type": "stream",
          "name": "stdout",
          "text": [
            "random_kind\n"
          ]
        }
      ]
    },
    {
      "cell_type": "code",
      "source": [
        "print(d1.kind)\n",
        "print(d2.kind)"
      ],
      "metadata": {
        "colab": {
          "base_uri": "https://localhost:8080/"
        },
        "id": "LB8KLD-bhG6V",
        "outputId": "0b08f903-e8a0-440b-cbb5-6f8da9f2fa45"
      },
      "execution_count": null,
      "outputs": [
        {
          "output_type": "stream",
          "name": "stdout",
          "text": [
            "random_kind\n",
            "random_kind\n"
          ]
        }
      ]
    },
    {
      "cell_type": "code",
      "source": [
        "d1 = Dog(\"tuffy\")\n",
        "d2 = Dog(\"scooby\")"
      ],
      "metadata": {
        "id": "EMboIqQUEBbQ"
      },
      "execution_count": null,
      "outputs": []
    },
    {
      "cell_type": "code",
      "source": [
        "d1.kind"
      ],
      "metadata": {
        "colab": {
          "base_uri": "https://localhost:8080/",
          "height": 35
        },
        "id": "EMU-eQ8KENKI",
        "outputId": "cb05bf96-c795-462c-f8d1-bb28e059fd4b"
      },
      "execution_count": null,
      "outputs": [
        {
          "output_type": "execute_result",
          "data": {
            "text/plain": [
              "'random_kind'"
            ],
            "application/vnd.google.colaboratory.intrinsic+json": {
              "type": "string"
            }
          },
          "metadata": {},
          "execution_count": 31
        }
      ]
    },
    {
      "cell_type": "code",
      "source": [
        "d2.kind"
      ],
      "metadata": {
        "colab": {
          "base_uri": "https://localhost:8080/",
          "height": 35
        },
        "id": "MlGiTUf4ESSt",
        "outputId": "c95e251e-bad1-46f4-8ff4-f9e906831428"
      },
      "execution_count": null,
      "outputs": [
        {
          "output_type": "execute_result",
          "data": {
            "text/plain": [
              "'random_kind'"
            ],
            "application/vnd.google.colaboratory.intrinsic+json": {
              "type": "string"
            }
          },
          "metadata": {},
          "execution_count": 32
        }
      ]
    },
    {
      "cell_type": "markdown",
      "source": [
        "---"
      ],
      "metadata": {
        "id": "pW7pg0knVNLm"
      }
    },
    {
      "cell_type": "markdown",
      "source": [
        "### Quiz-3\n",
        "# Question:  \n",
        "What will be the output of the following piece of code?\n",
        "```python\n",
        "class Student:\n",
        "    name = \"Bipin\"\n",
        "    def __init__(self, name, age):\n",
        "        self.name = name\n",
        "        self.age = age\n",
        "\n",
        "    def hello(self):\n",
        "      print(f\"Hello {self.name}\")\n",
        "\n",
        "bipin = Student(\"Ayush\", 20)\n",
        "bipin.hello()\n",
        "```\n",
        "# Choices:\n",
        "- [x] Hello Ayush\n",
        "- [ ] Hello Bipin\n",
        "- [ ] Error\n",
        "- [ ] None of the above"
      ],
      "metadata": {
        "id": "o5b8ZxkgnD54"
      }
    },
    {
      "cell_type": "markdown",
      "source": [
        "---"
      ],
      "metadata": {
        "id": "bwn7OtCqVbJz"
      }
    },
    {
      "cell_type": "markdown",
      "source": [
        "## Revisiting Concepts"
      ],
      "metadata": {
        "id": "em6oChd9lFIy"
      }
    },
    {
      "cell_type": "code",
      "source": [
        "class Student:\n",
        "    def hello(self):\n",
        "        print(\"hello!\")\n",
        "\n",
        "s1 = Student()\n",
        "\n",
        "Student.hello(s1)\n",
        "s1.hello()"
      ],
      "metadata": {
        "colab": {
          "base_uri": "https://localhost:8080/"
        },
        "id": "p1mggGnZjsTX",
        "outputId": "7769d471-3f45-4403-9e4d-6ff3fd6cf56b"
      },
      "execution_count": null,
      "outputs": [
        {
          "output_type": "stream",
          "name": "stdout",
          "text": [
            "hello!\n",
            "hello!\n"
          ]
        }
      ]
    },
    {
      "cell_type": "markdown",
      "source": [
        "When updating a class variable using an object -\n",
        "- In case of immutable - New Instance Variable is created\n",
        "- In case of mutable - Original Class Variable is updated"
      ],
      "metadata": {
        "id": "NXO6WcwQW_aA"
      }
    },
    {
      "cell_type": "code",
      "source": [
        "class Dog:\n",
        "    tricks = []\n",
        "\n",
        "    def __init__(self, name):\n",
        "        self.name = name\n",
        "\n",
        "    def teach_trick(self, trick):\n",
        "        self.tricks.append(trick)"
      ],
      "metadata": {
        "id": "6osSQkMoiqn8"
      },
      "execution_count": null,
      "outputs": []
    },
    {
      "cell_type": "code",
      "source": [
        "d1 = Dog(\"pupy\")\n",
        "d2 = Dog(\"tommy\")"
      ],
      "metadata": {
        "id": "WkxYSzVEizrZ"
      },
      "execution_count": null,
      "outputs": []
    },
    {
      "cell_type": "code",
      "source": [
        "print(d1.tricks)\n",
        "print(d2.tricks)"
      ],
      "metadata": {
        "colab": {
          "base_uri": "https://localhost:8080/"
        },
        "id": "asVFz0tLi1VX",
        "outputId": "2929c4a3-4f65-472c-b1a3-b7dbaf8ce2f8"
      },
      "execution_count": null,
      "outputs": [
        {
          "output_type": "stream",
          "name": "stdout",
          "text": [
            "[]\n",
            "[]\n"
          ]
        }
      ]
    },
    {
      "cell_type": "code",
      "source": [
        "print(d1.name)\n",
        "print(d2.name)"
      ],
      "metadata": {
        "colab": {
          "base_uri": "https://localhost:8080/"
        },
        "id": "-bdpQ_Y0i6jN",
        "outputId": "f6151f8a-a469-42ed-8a2b-cda75bc14cb7"
      },
      "execution_count": null,
      "outputs": [
        {
          "output_type": "stream",
          "name": "stdout",
          "text": [
            "pupy\n",
            "tommy\n"
          ]
        }
      ]
    },
    {
      "cell_type": "code",
      "source": [
        "d1.teach_trick(\"jump\")"
      ],
      "metadata": {
        "id": "adnxZu8-i_xF"
      },
      "execution_count": null,
      "outputs": []
    },
    {
      "cell_type": "code",
      "source": [
        "d1.tricks"
      ],
      "metadata": {
        "id": "vD5bPY2uXtUv",
        "colab": {
          "base_uri": "https://localhost:8080/"
        },
        "outputId": "9996996e-a17a-4dce-fde2-715a58274794"
      },
      "execution_count": null,
      "outputs": [
        {
          "output_type": "execute_result",
          "data": {
            "text/plain": [
              "['jump']"
            ]
          },
          "metadata": {},
          "execution_count": 39
        }
      ]
    },
    {
      "cell_type": "code",
      "source": [
        "d2.tricks"
      ],
      "metadata": {
        "colab": {
          "base_uri": "https://localhost:8080/"
        },
        "id": "kUKAFU3MjC5V",
        "outputId": "4cd19895-4da4-4e95-d7f4-1df3b4fb4b44"
      },
      "execution_count": null,
      "outputs": [
        {
          "output_type": "execute_result",
          "data": {
            "text/plain": [
              "['jump']"
            ]
          },
          "metadata": {},
          "execution_count": 40
        }
      ]
    },
    {
      "cell_type": "markdown",
      "source": [
        "---"
      ],
      "metadata": {
        "id": "Jxb3c9MHYKX6"
      }
    },
    {
      "cell_type": "markdown",
      "source": [
        "### Quiz-5\n",
        "# Question\n",
        "What will be the output of the following code snippet?\n",
        "\n",
        "```python\n",
        "class Calculator:\n",
        "    def __init__(self, number):\n",
        "        self.number = number\n",
        "\n",
        "    def multiply_by_two(self):\n",
        "        return self.number * 2\n",
        "\n",
        "calc = Calculator(3)\n",
        "print(calc.multiply_by_two())\n",
        "```\n",
        "# Choices:\n",
        "- [ ] 3\n",
        "- [x] 6\n",
        "- [ ] Calculator\n",
        "- [ ] Error"
      ],
      "metadata": {
        "id": "UiJeqAQGlbFt"
      }
    },
    {
      "cell_type": "markdown",
      "source": [
        "---"
      ],
      "metadata": {
        "id": "VnaOHBqCX_W5"
      }
    }
  ]
}