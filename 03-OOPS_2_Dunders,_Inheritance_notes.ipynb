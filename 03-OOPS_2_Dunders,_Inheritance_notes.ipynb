{
  "nbformat": 4,
  "nbformat_minor": 0,
  "metadata": {
    "colab": {
      "provenance": [],
      "toc_visible": true,
      "include_colab_link": true
    },
    "kernelspec": {
      "name": "python3",
      "display_name": "Python 3"
    },
    "language_info": {
      "name": "python"
    }
  },
  "cells": [
    {
      "cell_type": "markdown",
      "metadata": {
        "id": "view-in-github",
        "colab_type": "text"
      },
      "source": [
        "<a href=\"https://colab.research.google.com/github/Ayush-Singh2309/Python2-Shivank/blob/main/03-OOPS_2_Dunders%2C_Inheritance_notes.ipynb\" target=\"_parent\"><img src=\"https://colab.research.google.com/assets/colab-badge.svg\" alt=\"Open In Colab\"/></a>"
      ]
    },
    {
      "cell_type": "markdown",
      "source": [
        "# OOPS 2 - Dunders, Inheritance"
      ],
      "metadata": {
        "id": "nAyHxMfAoIuq"
      }
    },
    {
      "cell_type": "markdown",
      "source": [
        "---"
      ],
      "metadata": {
        "id": "z4rX0kw2azXc"
      }
    },
    {
      "cell_type": "markdown",
      "source": [
        "## Content\n",
        "\n",
        "1. Dunder / Magic methods\n",
        "2. Inheritance\n",
        "3. Private Properties\n",
        "4. Multiple Inheritance\n",
        "5. Method Resolution Order"
      ],
      "metadata": {
        "id": "WdkGjZ4Ga118"
      }
    },
    {
      "cell_type": "markdown",
      "source": [
        "---"
      ],
      "metadata": {
        "id": "d7YVGAc2a5TZ"
      }
    },
    {
      "cell_type": "markdown",
      "source": [
        "### Quiz-1\n",
        "# Question\n",
        "How many objects would be created by runing the following code?\n",
        "```python\n",
        "class A:\n",
        "    print(\"Am I a class?\")\n",
        "\n",
        "A()\n",
        "\n",
        "obj1 = A()\n",
        "\n",
        "if A():\n",
        "    print(A())\n",
        "```\n",
        "# Choices\n",
        "- [x] 4\n",
        "- [ ] 2\n",
        "- [ ] 3\n",
        "- [ ] 0"
      ],
      "metadata": {
        "id": "0B0oSs5I32sq"
      }
    },
    {
      "cell_type": "markdown",
      "source": [
        "---"
      ],
      "metadata": {
        "id": "U7g6tPJ9a9Rh"
      }
    },
    {
      "cell_type": "markdown",
      "source": [
        "## Dunder / Magic methods\n",
        "\n",
        "* These are special methods that have double underscores at the beginning and end of their names (e.g., __init__).\n",
        "* These methods provide a way for a class to define its behavior.\n",
        "* By modifying these methods, you can customize the default behavior of your objects."
      ],
      "metadata": {
        "id": "jkxtuSAxqRmp"
      }
    },
    {
      "cell_type": "code",
      "source": [
        "class Car:\n",
        "    def __init__(self, name, mileage):\n",
        "        self.name = name\n",
        "        self.mileage = mileage"
      ],
      "metadata": {
        "id": "x10f32P2qE2f"
      },
      "execution_count": null,
      "outputs": []
    },
    {
      "cell_type": "code",
      "source": [
        "c1 = Car(\"Nexon\", 12)\n",
        "c2 = Car(\"Altroz\", 15)"
      ],
      "metadata": {
        "id": "gLZe0VyZqGWl"
      },
      "execution_count": null,
      "outputs": []
    },
    {
      "cell_type": "code",
      "source": [
        "print(c1)\n",
        "# Name -> Mileage"
      ],
      "metadata": {
        "colab": {
          "base_uri": "https://localhost:8080/"
        },
        "id": "Z38V75MAqH5z",
        "outputId": "d8d9875f-dedd-4aad-dcbc-7ab410158e32"
      },
      "execution_count": null,
      "outputs": [
        {
          "output_type": "stream",
          "name": "stdout",
          "text": [
            "<__main__.Car object at 0x7ca0948f9420>\n"
          ]
        }
      ]
    },
    {
      "cell_type": "markdown",
      "source": [
        "Whenever call the `print()` function over some object then there should always be a pre-defined message linked to that object that gets printed.\n",
        "\n",
        "Hence, printing is a behaviour in Python.\n",
        "\n",
        "With dunder/magic methods, we can modify this behaviour."
      ],
      "metadata": {
        "id": "E1rbibxjqU-R"
      }
    },
    {
      "cell_type": "code",
      "source": [
        "class Car:\n",
        "    def __init__(self, name, mileage):\n",
        "        self.name = name\n",
        "        self.mileage = mileage\n",
        "\n",
        "    # Whenever an object is printed, __str__() function is called.\n",
        "    def __str__(self):\n",
        "        return f\"{self.name} -> {self.mileage}\"\n",
        "\n",
        "    def __add__(self, other):\n",
        "        return self.mileage + other.mileage\n",
        "\n",
        "    def __lt__(self, other):\n",
        "        return self.mileage < other.mileage\n",
        "\n",
        "    def __call__(self):\n",
        "        print(\"I WAS CALLED\")"
      ],
      "metadata": {
        "id": "23LIBB8SqKFI"
      },
      "execution_count": null,
      "outputs": []
    },
    {
      "cell_type": "code",
      "source": [
        "c1 = Car(\"Nexon\", 12)\n",
        "c2 = Car(\"Altroz\", 15)"
      ],
      "metadata": {
        "id": "93zSBcBlqNSF"
      },
      "execution_count": null,
      "outputs": []
    },
    {
      "cell_type": "code",
      "source": [
        "print(c1)"
      ],
      "metadata": {
        "colab": {
          "base_uri": "https://localhost:8080/"
        },
        "id": "tD-GZutPqPH0",
        "outputId": "ea554425-f6b6-44db-dd86-fa36e3cb0553"
      },
      "execution_count": null,
      "outputs": [
        {
          "output_type": "stream",
          "name": "stdout",
          "text": [
            "Nexon -> 12\n"
          ]
        }
      ]
    },
    {
      "cell_type": "code",
      "source": [
        "c1 + c2\n",
        "# Car.__add__(c1, c2)"
      ],
      "metadata": {
        "colab": {
          "base_uri": "https://localhost:8080/"
        },
        "id": "PrMRWkT_q0DH",
        "outputId": "cb6c3370-293d-44f1-f57a-2be8cdf22ac7"
      },
      "execution_count": null,
      "outputs": [
        {
          "output_type": "execute_result",
          "data": {
            "text/plain": [
              "27"
            ]
          },
          "metadata": {},
          "execution_count": 7
        }
      ]
    },
    {
      "cell_type": "markdown",
      "source": [
        "---"
      ],
      "metadata": {
        "id": "PpPbMj_cxmm-"
      }
    },
    {
      "cell_type": "markdown",
      "source": [
        "### Quiz-2\n",
        "# Question\n",
        "What will be the output of the following code?\n",
        "```python\n",
        "class A:\n",
        "  def __init__(self, a):\n",
        "    self.a = a\n",
        "  def __add__(self, b):\n",
        "    if isinstance(b, int):\n",
        "      return A(self.a + b)\n",
        "    return A(self.a + b.a)\n",
        "  def __str__(self):\n",
        "    return f\"{self.a}\"\n",
        "\n",
        "\n",
        "one = A(1)\n",
        "two = A(2)\n",
        "\n",
        "print(one + two + 100)\n",
        "```\n",
        "# Choices\n",
        "- [x] 103\n",
        "- [ ] Error\n",
        "- [ ] 3\n",
        "- [ ] None of the above"
      ],
      "metadata": {
        "id": "_7T23yM040Q1"
      }
    },
    {
      "cell_type": "markdown",
      "source": [
        "---"
      ],
      "metadata": {
        "id": "yuWUqa1hx1h1"
      }
    },
    {
      "cell_type": "markdown",
      "source": [
        "## Inheritance\n",
        "\n",
        "<img src=\"https://d2beiqkhq929f0.cloudfront.net/public_assets/assets/000/015/907/original/Screenshot_2022-10-07_at_10.04.40_AM.png?1665117262\">"
      ],
      "metadata": {
        "id": "JRka2Fl2t7MC"
      }
    },
    {
      "cell_type": "code",
      "source": [
        "# parent class\n",
        "class Parent:\n",
        "  def __init__(self):\n",
        "    print(\"parent class\")\n",
        "\n",
        "# child class\n",
        "class Child(Parent): # inheriting parent class\n",
        "  def __init__(self):\n",
        "    print(\"child class\")"
      ],
      "metadata": {
        "id": "oOkfTZ6o15sJ"
      },
      "execution_count": null,
      "outputs": []
    },
    {
      "cell_type": "code",
      "source": [
        "class SchoolMember:\n",
        "    def __init__(self, name):\n",
        "        self.name = name\n",
        "\n",
        "class Student(SchoolMember):\n",
        "    def __init__(self, name, grade):\n",
        "        self.grade = grade\n",
        "\n",
        "class Staff(SchoolMember):\n",
        "    def __init__(self, name, salary):\n",
        "        self.salary = salary\n",
        "\n",
        "class Teacher(Staff):\n",
        "    def __init__(self, name, salary, subject):\n",
        "        self.subject = subject"
      ],
      "metadata": {
        "id": "GUP6Ud7XrbL0"
      },
      "execution_count": null,
      "outputs": []
    },
    {
      "cell_type": "markdown",
      "source": [
        "<img src=\"https://d2beiqkhq929f0.cloudfront.net/public_assets/assets/000/015/908/original/Screenshot_2022-10-07_at_10.05.56_AM.png?1665117338\">"
      ],
      "metadata": {
        "id": "k7J9fjRsusi9"
      }
    },
    {
      "cell_type": "code",
      "source": [
        "s1 = Student(\"Krishna\", \"A\")\n",
        "\n",
        "type(s1)"
      ],
      "metadata": {
        "id": "j3Kt6618redd",
        "colab": {
          "base_uri": "https://localhost:8080/"
        },
        "outputId": "683490be-3350-4ba9-bd7f-ac06ccbabba5"
      },
      "execution_count": null,
      "outputs": [
        {
          "output_type": "execute_result",
          "data": {
            "text/plain": [
              "__main__.Student"
            ]
          },
          "metadata": {},
          "execution_count": 10
        }
      ]
    },
    {
      "cell_type": "code",
      "source": [
        "s1.grade"
      ],
      "metadata": {
        "colab": {
          "base_uri": "https://localhost:8080/",
          "height": 35
        },
        "id": "9_qq7lHprhmx",
        "outputId": "b74dc62d-ba64-4d97-fd47-9989a30ba9bb"
      },
      "execution_count": null,
      "outputs": [
        {
          "output_type": "execute_result",
          "data": {
            "text/plain": [
              "'A'"
            ],
            "application/vnd.google.colaboratory.intrinsic+json": {
              "type": "string"
            }
          },
          "metadata": {},
          "execution_count": 11
        }
      ]
    },
    {
      "cell_type": "code",
      "source": [
        "s1.name # class inherited but still can't use the properties"
      ],
      "metadata": {
        "colab": {
          "base_uri": "https://localhost:8080/",
          "height": 268
        },
        "id": "wHa-QQLorjH8",
        "outputId": "e551075f-401d-42da-adf5-18b5e8969960"
      },
      "execution_count": null,
      "outputs": [
        {
          "output_type": "error",
          "ename": "AttributeError",
          "evalue": "'Student' object has no attribute 'name'",
          "traceback": [
            "\u001b[0;31m---------------------------------------------------------------------------\u001b[0m",
            "\u001b[0;31mAttributeError\u001b[0m                            Traceback (most recent call last)",
            "\u001b[0;32m<ipython-input-13-9448edb3b957>\u001b[0m in \u001b[0;36m<cell line: 1>\u001b[0;34m()\u001b[0m\n\u001b[0;32m----> 1\u001b[0;31m \u001b[0ms1\u001b[0m\u001b[0;34m.\u001b[0m\u001b[0mname\u001b[0m \u001b[0;31m# class inherited but still can't use the properties\u001b[0m\u001b[0;34m\u001b[0m\u001b[0;34m\u001b[0m\u001b[0m\n\u001b[0m",
            "\u001b[0;31mAttributeError\u001b[0m: 'Student' object has no attribute 'name'"
          ]
        }
      ]
    },
    {
      "cell_type": "markdown",
      "source": [
        "#### The problem is that we never called the `__init__()` function of the parent class inside the child class.\n",
        "\n",
        "#### We can use the `super()` method to directly call the methods of parent class."
      ],
      "metadata": {
        "id": "aBzj5fp8vFa3"
      }
    },
    {
      "cell_type": "code",
      "source": [
        "class SchoolMember:\n",
        "    def __init__(self, name):\n",
        "        self.name = name\n",
        "\n",
        "class Student(SchoolMember):\n",
        "    def __init__(self, name, grade):\n",
        "        super().__init__(name)\n",
        "        # super() automatically corresponds to the direct parent class\n",
        "        self.grade = grade\n",
        "\n",
        "class Staff(SchoolMember):\n",
        "    def __init__(self, name, salary):\n",
        "        super().__init__(name)\n",
        "        self.salary = salary\n",
        "\n",
        "class Teacher(Staff):\n",
        "    def __init__(self, name, salary, subject):\n",
        "        super().__init__(name, salary)\n",
        "        self.subject = subject"
      ],
      "metadata": {
        "id": "vUS4RE0Zsgd-"
      },
      "execution_count": null,
      "outputs": []
    },
    {
      "cell_type": "code",
      "source": [
        "s1 = Student(\"Sharath\", \"A\")\n",
        "print(s1.name)"
      ],
      "metadata": {
        "id": "a4Yk0COLsiUZ",
        "colab": {
          "base_uri": "https://localhost:8080/"
        },
        "outputId": "6ee83eab-e680-4947-9a18-909c1415927b"
      },
      "execution_count": null,
      "outputs": [
        {
          "output_type": "stream",
          "name": "stdout",
          "text": [
            "Sharath\n"
          ]
        }
      ]
    },
    {
      "cell_type": "code",
      "source": [
        "s1.name = \"Random\"\n",
        "print(s1.name)"
      ],
      "metadata": {
        "colab": {
          "base_uri": "https://localhost:8080/"
        },
        "id": "oIi53pzrskAj",
        "outputId": "1b186897-6740-4ddc-85c1-db5318f0b2c5"
      },
      "execution_count": null,
      "outputs": [
        {
          "output_type": "stream",
          "name": "stdout",
          "text": [
            "Random\n"
          ]
        }
      ]
    },
    {
      "cell_type": "code",
      "source": [
        "t1 = Teacher(\"Bipin\", 10, \"Python\")\n",
        "\n",
        "t1.name, t1.salary, t1.subject"
      ],
      "metadata": {
        "id": "PU94G_5msyHb",
        "colab": {
          "base_uri": "https://localhost:8080/"
        },
        "outputId": "fb652165-eda4-4da5-ec2e-40afcda38d4b"
      },
      "execution_count": null,
      "outputs": [
        {
          "output_type": "execute_result",
          "data": {
            "text/plain": [
              "('Bipin', 10, 'Python')"
            ]
          },
          "metadata": {},
          "execution_count": 17
        }
      ]
    },
    {
      "cell_type": "markdown",
      "source": [
        "---"
      ],
      "metadata": {
        "id": "u6xcUQU6c3iO"
      }
    },
    {
      "cell_type": "markdown",
      "source": [
        "### Quiz-3\n",
        "# Question\n",
        "What would be the output of the following?\n",
        "```python\n",
        "class A:\n",
        "    def do_something(self):\n",
        "        print(\"I do something!\", end=\" \")\n",
        "\n",
        "class B(A):\n",
        "    def do_something(self):\n",
        "        super().do_something()\n",
        "        print(\"I also do something!\", end=\" \")\n",
        "\n",
        "b = B()\n",
        "b.do_something()\n",
        "```\n",
        "# Choices\n",
        "- [ ] I also do something!\n",
        "- [ ] I also do something! I do something!\n",
        "- [x] I do something! I also do something!"
      ],
      "metadata": {
        "id": "ekUxHYBc4SP8"
      }
    },
    {
      "cell_type": "markdown",
      "source": [
        "---"
      ],
      "metadata": {
        "id": "TuIYkGr4c6go"
      }
    },
    {
      "cell_type": "markdown",
      "source": [
        "## Need of private properties -"
      ],
      "metadata": {
        "id": "nhP2k0QA2Dad"
      }
    },
    {
      "cell_type": "code",
      "source": [
        "class BankAccount:\n",
        "    def __init__(self, balance):\n",
        "        self.balance = balance\n",
        "\n",
        "    def withdrawl(self, amount):\n",
        "        self.balance -= amount\n",
        "\n",
        "    def deposit(self, amount):\n",
        "        self.balance += amount"
      ],
      "metadata": {
        "id": "ru_j49B5s7JB"
      },
      "execution_count": null,
      "outputs": []
    },
    {
      "cell_type": "code",
      "source": [
        "b1 = BankAccount(10000)"
      ],
      "metadata": {
        "id": "NxW-WShEs81o"
      },
      "execution_count": null,
      "outputs": []
    },
    {
      "cell_type": "code",
      "source": [
        "b1.deposit(5000)\n",
        "b1.balance"
      ],
      "metadata": {
        "id": "QLaHIkCVs-UJ",
        "colab": {
          "base_uri": "https://localhost:8080/"
        },
        "outputId": "b87194b4-65f3-4f75-da2d-0a61bba22c52"
      },
      "execution_count": null,
      "outputs": [
        {
          "output_type": "execute_result",
          "data": {
            "text/plain": [
              "15000"
            ]
          },
          "metadata": {},
          "execution_count": 20
        }
      ]
    },
    {
      "cell_type": "code",
      "source": [
        "b1.withdrawl(15000)\n",
        "b1.balance"
      ],
      "metadata": {
        "colab": {
          "base_uri": "https://localhost:8080/"
        },
        "id": "8AAbexG-tB0p",
        "outputId": "31cc813b-6444-4cbb-ce07-2c54f04c115a"
      },
      "execution_count": null,
      "outputs": [
        {
          "output_type": "execute_result",
          "data": {
            "text/plain": [
              "0"
            ]
          },
          "metadata": {},
          "execution_count": 21
        }
      ]
    },
    {
      "cell_type": "code",
      "source": [
        "b1.balance = 23456789854323456789987654345678909876543\n",
        "b1.balance"
      ],
      "metadata": {
        "colab": {
          "base_uri": "https://localhost:8080/"
        },
        "id": "cukLBbo0tD6Q",
        "outputId": "b19e1718-b0bb-46b2-b3bd-d589ec0bfdd0"
      },
      "execution_count": null,
      "outputs": [
        {
          "output_type": "execute_result",
          "data": {
            "text/plain": [
              "23456789854323456789987654345678909876543"
            ]
          },
          "metadata": {},
          "execution_count": 22
        }
      ]
    },
    {
      "cell_type": "markdown",
      "source": [
        "Just like that, any property within the instance can be modified to anything."
      ],
      "metadata": {
        "id": "RoQp394o2IDA"
      }
    },
    {
      "cell_type": "markdown",
      "source": [
        "---"
      ],
      "metadata": {
        "id": "I73TSTRNdm6L"
      }
    },
    {
      "cell_type": "markdown",
      "source": [
        "## Private Properties\n",
        "\n",
        "- will be accessible within the class.\n",
        "- won't be accessible outside the class definition."
      ],
      "metadata": {
        "id": "J_U74QjLtmBE"
      }
    },
    {
      "cell_type": "code",
      "source": [
        "class BankAccount:\n",
        "    def __init__(self, balance):\n",
        "        # initializing private property\n",
        "        self.__balance = balance\n",
        "\n",
        "    # Setter\n",
        "    def withdraw(self, amount):\n",
        "        self.__balance -= amount\n",
        "\n",
        "    def deposit(self, amount):\n",
        "        self.__balance += amount\n",
        "\n",
        "    # Getter\n",
        "    def check_balance(self):\n",
        "        return self.__balance"
      ],
      "metadata": {
        "id": "O9m3QMUhtrH5"
      },
      "execution_count": null,
      "outputs": []
    },
    {
      "cell_type": "code",
      "source": [
        "b1 = BankAccount(10000)\n",
        "\n",
        "# cannot be accessed like this\n",
        "b1.__balance"
      ],
      "metadata": {
        "id": "wJ7jEn-vtsrp",
        "colab": {
          "base_uri": "https://localhost:8080/",
          "height": 286
        },
        "outputId": "a1aa503c-3645-4d36-ed19-bea796c400f7"
      },
      "execution_count": null,
      "outputs": [
        {
          "output_type": "error",
          "ename": "AttributeError",
          "evalue": "'BankAccount' object has no attribute '__balance'",
          "traceback": [
            "\u001b[0;31m---------------------------------------------------------------------------\u001b[0m",
            "\u001b[0;31mAttributeError\u001b[0m                            Traceback (most recent call last)",
            "\u001b[0;32m<ipython-input-24-3bb99baabf88>\u001b[0m in \u001b[0;36m<cell line: 4>\u001b[0;34m()\u001b[0m\n\u001b[1;32m      2\u001b[0m \u001b[0;34m\u001b[0m\u001b[0m\n\u001b[1;32m      3\u001b[0m \u001b[0;31m# cannot be accessed like this\u001b[0m\u001b[0;34m\u001b[0m\u001b[0;34m\u001b[0m\u001b[0m\n\u001b[0;32m----> 4\u001b[0;31m \u001b[0mb1\u001b[0m\u001b[0;34m.\u001b[0m\u001b[0m__balance\u001b[0m\u001b[0;34m\u001b[0m\u001b[0;34m\u001b[0m\u001b[0m\n\u001b[0m",
            "\u001b[0;31mAttributeError\u001b[0m: 'BankAccount' object has no attribute '__balance'"
          ]
        }
      ]
    },
    {
      "cell_type": "code",
      "source": [
        "b1.deposit(10000)"
      ],
      "metadata": {
        "id": "yFov8yLCwwWb"
      },
      "execution_count": null,
      "outputs": []
    },
    {
      "cell_type": "code",
      "source": [
        "b1.withdraw(5000)"
      ],
      "metadata": {
        "id": "OGta1TZuwu1B"
      },
      "execution_count": null,
      "outputs": []
    },
    {
      "cell_type": "code",
      "source": [
        "b1.check_balance()"
      ],
      "metadata": {
        "colab": {
          "base_uri": "https://localhost:8080/"
        },
        "id": "mOFQvN1Jwx-U",
        "outputId": "b4a55d48-b860-4ed0-ac36-8b189708a39d"
      },
      "execution_count": null,
      "outputs": [
        {
          "output_type": "execute_result",
          "data": {
            "text/plain": [
              "5000"
            ]
          },
          "metadata": {},
          "execution_count": 26
        }
      ]
    },
    {
      "cell_type": "markdown",
      "source": [
        "#### Nothing can be completely *private* in Python.\n",
        "\n",
        "When we create variables like `__private_var`, Python internally creates it with name of `_ClassName__private_var`.\n",
        "\n",
        "Hence, we can still access it with the above name.\n",
        "\n",
        "<img src=\"https://d2beiqkhq929f0.cloudfront.net/public_assets/assets/000/015/909/original/Screenshot_2022-10-07_at_10.18.54_AM.png?1665118116\">"
      ],
      "metadata": {
        "id": "PEq8n9XxxI2b"
      }
    },
    {
      "cell_type": "code",
      "source": [
        "b1._BankAccount__balance = 159854568765456789876545678765678\n",
        "# Name Mangling"
      ],
      "metadata": {
        "id": "FrTx0lJYxfhu"
      },
      "execution_count": null,
      "outputs": []
    },
    {
      "cell_type": "code",
      "source": [
        "b1.check_balance()"
      ],
      "metadata": {
        "colab": {
          "base_uri": "https://localhost:8080/"
        },
        "id": "SjiYDEFrxhcH",
        "outputId": "14a66aa0-0948-43d7-8b36-63882796d9ea"
      },
      "execution_count": null,
      "outputs": [
        {
          "output_type": "execute_result",
          "data": {
            "text/plain": [
              "159854568765456789876545678765678"
            ]
          },
          "metadata": {},
          "execution_count": 28
        }
      ]
    },
    {
      "cell_type": "code",
      "source": [
        "# checking the properties and methods within any object\n",
        "dir(b1)"
      ],
      "metadata": {
        "colab": {
          "base_uri": "https://localhost:8080/"
        },
        "id": "Wufv9u_9xi9y",
        "outputId": "97dadf86-d1bf-4a6a-8675-e2206cc9144b"
      },
      "execution_count": null,
      "outputs": [
        {
          "output_type": "execute_result",
          "data": {
            "text/plain": [
              "['_BankAccount__balance',\n",
              " '__class__',\n",
              " '__delattr__',\n",
              " '__dict__',\n",
              " '__dir__',\n",
              " '__doc__',\n",
              " '__eq__',\n",
              " '__format__',\n",
              " '__ge__',\n",
              " '__getattribute__',\n",
              " '__gt__',\n",
              " '__hash__',\n",
              " '__init__',\n",
              " '__init_subclass__',\n",
              " '__le__',\n",
              " '__lt__',\n",
              " '__module__',\n",
              " '__ne__',\n",
              " '__new__',\n",
              " '__reduce__',\n",
              " '__reduce_ex__',\n",
              " '__repr__',\n",
              " '__setattr__',\n",
              " '__sizeof__',\n",
              " '__str__',\n",
              " '__subclasshook__',\n",
              " '__weakref__',\n",
              " 'check_balance',\n",
              " 'deposit',\n",
              " 'withdraw']"
            ]
          },
          "metadata": {},
          "execution_count": 29
        }
      ]
    },
    {
      "cell_type": "code",
      "source": [
        "b1.__balance = \"random balance\""
      ],
      "metadata": {
        "id": "qrQuYQtQx1k8"
      },
      "execution_count": null,
      "outputs": []
    },
    {
      "cell_type": "code",
      "source": [
        "dir(b1)"
      ],
      "metadata": {
        "colab": {
          "base_uri": "https://localhost:8080/"
        },
        "id": "hjzyqapHx2yh",
        "outputId": "1832a792-2548-463f-c432-1d5ad4d020b7"
      },
      "execution_count": null,
      "outputs": [
        {
          "output_type": "execute_result",
          "data": {
            "text/plain": [
              "['_BankAccount__balance',\n",
              " '__balance',\n",
              " '__class__',\n",
              " '__delattr__',\n",
              " '__dict__',\n",
              " '__dir__',\n",
              " '__doc__',\n",
              " '__eq__',\n",
              " '__format__',\n",
              " '__ge__',\n",
              " '__getattribute__',\n",
              " '__gt__',\n",
              " '__hash__',\n",
              " '__init__',\n",
              " '__init_subclass__',\n",
              " '__le__',\n",
              " '__lt__',\n",
              " '__module__',\n",
              " '__ne__',\n",
              " '__new__',\n",
              " '__reduce__',\n",
              " '__reduce_ex__',\n",
              " '__repr__',\n",
              " '__setattr__',\n",
              " '__sizeof__',\n",
              " '__str__',\n",
              " '__subclasshook__',\n",
              " '__weakref__',\n",
              " 'check_balance',\n",
              " 'deposit',\n",
              " 'withdraw']"
            ]
          },
          "metadata": {},
          "execution_count": 31
        }
      ]
    },
    {
      "cell_type": "markdown",
      "source": [
        "---"
      ],
      "metadata": {
        "id": "2-gNz3tEsxZ4"
      }
    },
    {
      "cell_type": "markdown",
      "source": [
        "## Multiple Inheritance\n",
        "\n",
        "- Inheriting more than one class."
      ],
      "metadata": {
        "id": "IiOXmVypy2SH"
      }
    },
    {
      "cell_type": "code",
      "source": [
        "class A:\n",
        "    def __init__(self, a):\n",
        "        self.a = a\n",
        "\n",
        "class B:\n",
        "    def __init__(self, b):\n",
        "        self.b = b\n",
        "\n",
        "# C inherits from both A and B\n",
        "class C(A, B):\n",
        "    def __init__(self, a, b, c):\n",
        "        # Assumption 1\n",
        "        # super().__init__(a, b)\n",
        "\n",
        "        # Assumption 2\n",
        "        # super().__init__(a)\n",
        "        # super().__init__(b)\n",
        "\n",
        "        # Assumption 3\n",
        "        A.__init__(self, a)\n",
        "        B.__init__(self, b)\n",
        "        self.c = c"
      ],
      "metadata": {
        "id": "_04il3YSy57u"
      },
      "execution_count": null,
      "outputs": []
    },
    {
      "cell_type": "code",
      "source": [
        "c1 = C(1,2,3)\n",
        "\n",
        "c1.c"
      ],
      "metadata": {
        "id": "zGpp5ERIy_0j",
        "colab": {
          "base_uri": "https://localhost:8080/"
        },
        "outputId": "7412f0b3-49db-4cc8-c353-0e8535207ed0"
      },
      "execution_count": null,
      "outputs": [
        {
          "output_type": "execute_result",
          "data": {
            "text/plain": [
              "3"
            ]
          },
          "metadata": {},
          "execution_count": 33
        }
      ]
    },
    {
      "cell_type": "markdown",
      "source": [
        "---"
      ],
      "metadata": {
        "id": "2BaG2Hv-tt38"
      }
    },
    {
      "cell_type": "markdown",
      "source": [
        "## Method Resolution Order\n",
        "\n",
        "<img src=\"https://d2beiqkhq929f0.cloudfront.net/public_assets/assets/000/015/910/original/Screenshot_2022-10-07_at_10.31.02_AM.png?1665118892\">"
      ],
      "metadata": {
        "id": "zbmRTPnVzJlk"
      }
    },
    {
      "cell_type": "code",
      "source": [
        "class A:\n",
        "    x = 10\n",
        "\n",
        "class B(A):\n",
        "    pass\n",
        "\n",
        "class C(B):\n",
        "    pass\n",
        "\n",
        "class D(A):\n",
        "    x = 5\n",
        "\n",
        "class E(C, D):\n",
        "    pass\n",
        "\n",
        "# E -> C -> B -> D -> A"
      ],
      "metadata": {
        "id": "rvluo1ovzLPj"
      },
      "execution_count": null,
      "outputs": []
    },
    {
      "cell_type": "code",
      "source": [
        "e1 = E()\n",
        "e1.x"
      ],
      "metadata": {
        "colab": {
          "base_uri": "https://localhost:8080/"
        },
        "id": "5HG6CtryzMo4",
        "outputId": "6ee0b655-debb-4aa0-fe9e-bac6e1e80362"
      },
      "execution_count": null,
      "outputs": [
        {
          "output_type": "execute_result",
          "data": {
            "text/plain": [
              "5"
            ]
          },
          "metadata": {},
          "execution_count": 35
        }
      ]
    },
    {
      "cell_type": "code",
      "source": [
        "# It'll give the method resolution order\n",
        "E.__mro__"
      ],
      "metadata": {
        "colab": {
          "base_uri": "https://localhost:8080/"
        },
        "id": "43X647wQzPDT",
        "outputId": "d3fdb6e8-6b66-47aa-f5ac-d3af2d205828"
      },
      "execution_count": null,
      "outputs": [
        {
          "output_type": "execute_result",
          "data": {
            "text/plain": [
              "(__main__.E, __main__.C, __main__.B, __main__.D, __main__.A, object)"
            ]
          },
          "metadata": {},
          "execution_count": 36
        }
      ]
    },
    {
      "cell_type": "markdown",
      "source": [
        "---"
      ],
      "metadata": {
        "id": "Dypu3fUmbM50"
      }
    },
    {
      "cell_type": "markdown",
      "source": [
        "### Quiz-5\n",
        "# Question\n",
        "Select the correct Method Resolution Order for class `E`.\n",
        "```python\n",
        "class A:\n",
        "  pass\n",
        "class B:\n",
        "  pass\n",
        "class C(A, B):\n",
        "  pass\n",
        "class D:\n",
        "  pass\n",
        "class E(C, D):\n",
        "  pass\n",
        "```\n",
        "# Choices\n",
        "- [x] E -> C -> A -> B -> D\n",
        "- [ ] E -> D -> C -> B -> A\n",
        "- [ ] E -> A -> B -> D -> C\n",
        "- [ ] None of the above"
      ],
      "metadata": {
        "id": "NSZkAJcg8GFJ"
      }
    },
    {
      "cell_type": "markdown",
      "source": [
        "---"
      ],
      "metadata": {
        "id": "9431SU8gbKSE"
      }
    }
  ]
}