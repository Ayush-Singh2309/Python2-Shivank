{
  "nbformat": 4,
  "nbformat_minor": 0,
  "metadata": {
    "colab": {
      "provenance": [],
      "include_colab_link": true
    },
    "kernelspec": {
      "name": "python3",
      "display_name": "Python 3"
    },
    "language_info": {
      "name": "python"
    }
  },
  "cells": [
    {
      "cell_type": "markdown",
      "metadata": {
        "id": "view-in-github",
        "colab_type": "text"
      },
      "source": [
        "<a href=\"https://colab.research.google.com/github/Ayush-Singh2309/Python2-Shivank/blob/main/08-Regex_notes.ipynb\" target=\"_parent\"><img src=\"https://colab.research.google.com/assets/colab-badge.svg\" alt=\"Open In Colab\"/></a>"
      ]
    },
    {
      "cell_type": "markdown",
      "source": [
        "# Regex"
      ],
      "metadata": {
        "id": "CFHTw2iFnAQ4"
      }
    },
    {
      "cell_type": "markdown",
      "source": [
        "---"
      ],
      "metadata": {
        "id": "pn3_16iA8w6L"
      }
    },
    {
      "cell_type": "markdown",
      "source": [
        "## Content\n",
        "\n",
        "- Regular Expressions\n",
        "  - Simple pattern matching\n",
        "  - `.` character\n",
        "  - `\\` character\n",
        "- Metacharacters\n",
        "  - Matching digits (and non digits) - \\d , \\D\n",
        "  - Matching word (and non-word) characters - \\w , \\W\n",
        "  - Matching whitespace characters - \\s , \\S\n",
        "- Anchors\n",
        "  - Word boundary (and non-boundary) anchors - \\b , \\B\n",
        "  - Beginning and end anchors - ^ , $\n",
        "- Character Set\n",
        "  - Range notation - [a-z] , [A-Z] , [1-6]\n",
        "  - Negation - [^a-z]\n",
        "- Quantifiers\n",
        "  - *, +, ?, {3}, {3, 4}\n",
        "- Groups\n",
        "  - `()` and `|`\n",
        "- Functions in `re` library"
      ],
      "metadata": {
        "id": "q4PzOzoInSYN"
      }
    },
    {
      "cell_type": "markdown",
      "source": [
        "---"
      ],
      "metadata": {
        "id": "6iGvsl6SBB4l"
      }
    },
    {
      "cell_type": "markdown",
      "source": [
        "### Why do we study regex?\n",
        "\n",
        "- It helps in Natural Language Processing.\n",
        "- It comes handy for text analytics and text processing tasks.\n",
        "- It helps in searching, parsing and manipulating textual data."
      ],
      "metadata": {
        "id": "cpUgVg31rcpT"
      }
    },
    {
      "cell_type": "markdown",
      "source": [
        "### Business Use Case\n",
        "\n",
        "- Extracting customer information\n",
        "- Validating an email\n",
        "- Masking a phone number"
      ],
      "metadata": {
        "id": "P1ZOgrRqUOsI"
      }
    },
    {
      "cell_type": "markdown",
      "source": [
        "---"
      ],
      "metadata": {
        "id": "9f1dtEhxk1Ak"
      }
    },
    {
      "cell_type": "markdown",
      "source": [
        "### Email Validation\n",
        "\n",
        "How can we check if an email address is valid?\n",
        "\n",
        "- There are a bunch of rules provided by the WWW.\n",
        "- Even if we have those rules, in order to validate an email, we will have to write a big if-elif-else based solution and still miss out on some conditions.\n",
        "\n",
        "This is where **regex** comes into action."
      ],
      "metadata": {
        "id": "wqolnDH-vCDl"
      }
    },
    {
      "cell_type": "code",
      "source": [
        "import re # importing regex library\n",
        "\n",
        "def is_vemail(s):\n",
        "  email_pattern = \"^\\w+([\\.-]?\\w+)*@\\w+([|.-]?\\w+)*(\\.\\w{2,3})+$\"\n",
        "  res = re.search(email_pattern, s)\n",
        "  # scans through string looking for the first location where pattern is found\n",
        "  if res:\n",
        "    return True\n",
        "  else:\n",
        "    return False"
      ],
      "metadata": {
        "id": "12HHmVK4usjS"
      },
      "execution_count": null,
      "outputs": []
    },
    {
      "cell_type": "code",
      "source": [
        "is_vemail(\"abcd@gmail\")"
      ],
      "metadata": {
        "colab": {
          "base_uri": "https://localhost:8080/"
        },
        "id": "bpuGTMonwBOi",
        "outputId": "c3ba9c10-845b-48ce-86a9-0b96dc815b20"
      },
      "execution_count": null,
      "outputs": [
        {
          "output_type": "execute_result",
          "data": {
            "text/plain": [
              "False"
            ]
          },
          "metadata": {},
          "execution_count": 8
        }
      ]
    },
    {
      "cell_type": "code",
      "source": [
        "is_vemail(\"abcd@xy.sx\")"
      ],
      "metadata": {
        "colab": {
          "base_uri": "https://localhost:8080/"
        },
        "id": "t6HhfMn3wKqs",
        "outputId": "a49c0597-27bd-4b8c-e18c-95ea08f4f986"
      },
      "execution_count": null,
      "outputs": [
        {
          "output_type": "execute_result",
          "data": {
            "text/plain": [
              "True"
            ]
          },
          "metadata": {},
          "execution_count": 9
        }
      ]
    },
    {
      "cell_type": "code",
      "source": [
        "is_vemail(\"nikhil.sanghi@scaler-academy.co.in\")"
      ],
      "metadata": {
        "colab": {
          "base_uri": "https://localhost:8080/"
        },
        "id": "NegbjLBCwN1b",
        "outputId": "d1c97b9a-bcb5-41ec-df07-e612ce597fcf"
      },
      "execution_count": null,
      "outputs": [
        {
          "output_type": "execute_result",
          "data": {
            "text/plain": [
              "True"
            ]
          },
          "metadata": {},
          "execution_count": 10
        }
      ]
    },
    {
      "cell_type": "markdown",
      "source": [
        "#### The string `^\\w+([\\.-]?\\w+)*@\\w+([\\.-]?\\w+)*(\\.\\w{2,3})+$` is called a **Regular Expression**.\n",
        "\n",
        "1. `^` means start and `$` means end\n",
        "2. `\\w+` means alphanumeric, one or more times\n",
        "3. Then the group `([\\.-]?\\w+)*`\n",
        "4. Within the group, we have `[\\.-]?` which means either dot or dash, zero or one time.\n",
        "5. `(\\.\\w{2,3})+` - matches `.` followed by 2 or 3 letter word i.e. com, in etc."
      ],
      "metadata": {
        "id": "HRW7eP_8W5A0"
      }
    },
    {
      "cell_type": "markdown",
      "source": [
        "#### So, what is a Regular Expression (RegEx)?\n",
        "\n",
        "- RegEx can be thought of as a highly specialised programming language which can be used to find the patterns in the strings.\n",
        "\n",
        "#### How to write these regular expressions?\n",
        "- Rules for writing REs are programming language agnostic."
      ],
      "metadata": {
        "id": "1cbbOCdFVsin"
      }
    },
    {
      "cell_type": "markdown",
      "source": [
        "---"
      ],
      "metadata": {
        "id": "sdMs3NLkMwa_"
      }
    },
    {
      "cell_type": "code",
      "execution_count": null,
      "metadata": {
        "id": "L8p-P0TSm7Va"
      },
      "outputs": [],
      "source": [
        "# Importing necessary libraries -\n",
        "\n",
        "import re\n",
        "import pandas as pd\n",
        "import numpy as np"
      ]
    },
    {
      "cell_type": "code",
      "source": [
        "# Downloading dataset -\n",
        "\n",
        "!gdown 1sSDV5UspYZL3UUOGuiuxppSGcv1wS9ex"
      ],
      "metadata": {
        "colab": {
          "base_uri": "https://localhost:8080/"
        },
        "id": "4L-mW-97sI7l",
        "outputId": "090a2dcb-edb5-4aea-94c4-fcd895ede3ed"
      },
      "execution_count": null,
      "outputs": [
        {
          "output_type": "stream",
          "name": "stdout",
          "text": [
            "Downloading...\n",
            "From: https://drive.google.com/uc?id=1sSDV5UspYZL3UUOGuiuxppSGcv1wS9ex\n",
            "To: /content/data.txt\n",
            "\r  0% 0.00/9.33k [00:00<?, ?B/s]\r100% 9.33k/9.33k [00:00<00:00, 17.0MB/s]\n"
          ]
        }
      ]
    },
    {
      "cell_type": "code",
      "source": [
        "data = open(\"data.txt\", \"r\").read()\n",
        "print(data[:500]) # display some data"
      ],
      "metadata": {
        "colab": {
          "base_uri": "https://localhost:8080/"
        },
        "id": "lBjQnPQzsPKA",
        "outputId": "3db1a1db-ff20-43b0-daa5-57908a615a51"
      },
      "execution_count": null,
      "outputs": [
        {
          "output_type": "stream",
          "name": "stdout",
          "text": [
            "Dave Martin\n",
            "615-555-7164\n",
            "173 Main St., Springfield RI 55924\n",
            "davemartin@bogusemail.com\n",
            "\n",
            "Charles Harris\n",
            "800-555-5669\n",
            "969 High St., Atlantis VA 34075\n",
            "charlesharris@bogusemail.com\n",
            "\n",
            "Eric Williams\n",
            "560-555-5153\n",
            "806 1st St., Faketown AK 86847\n",
            "laurawilliams@bogusemail.com\n",
            "\n",
            "Corey Jefferson\n",
            "900-555-9340\n",
            "826 Elm St., Epicburg NE 10671\n",
            "coreyjefferson@bogusemail.com\n",
            "\n",
            "Jennifer Martin-White\n",
            "714-555-7405\n",
            "212 Cedar St., Sunnydale CT 74983\n",
            "jenniferwhite@bogusemail.com\n",
            "\n",
            "Erick Davis\n",
            "800-555-6771\n",
            "519 Washington St., \n"
          ]
        }
      ]
    },
    {
      "cell_type": "markdown",
      "source": [
        "---"
      ],
      "metadata": {
        "id": "hulrvq6QkrGs"
      }
    },
    {
      "cell_type": "markdown",
      "source": [
        "### Online tool: https://regex101.com/\n",
        "\n",
        "**Sample Text :**\n",
        "\n",
        "```\n",
        "abcdefghijklmnopqurtuvwxyz\n",
        "ABCDEFGHIJKLMNOPQRSTUVWXYZ\n",
        "1234567890\n",
        "\n",
        "abcdef\n",
        "\n",
        ".[{()\\^$|?*+\n",
        "\n",
        "scaler.com\n",
        "\n",
        "321-555-4321\n",
        "123.555.1234\n",
        "\n",
        "Mr. Varma\n",
        "Mr Anant  \n",
        "Ms Nandini\n",
        "Mrs. Singh\n",
        "Mr. T\n",
        "```"
      ],
      "metadata": {
        "id": "k3LQCUksWpH9"
      }
    },
    {
      "cell_type": "markdown",
      "source": [
        "#### Finding simple patterns in this textual content :\n",
        "\n",
        "<img src=\"https://d2beiqkhq929f0.cloudfront.net/public_assets/assets/000/063/352/original/1.png?1706165253\" width=\"500\" height=\"550\">\n",
        "\n",
        "- Notice that it couldn't find \"ABC\". That means it is case sensitive.\n",
        "- **Regular Expressions are case-sensitive.**"
      ],
      "metadata": {
        "id": "umAU35mBXaOP"
      }
    },
    {
      "cell_type": "markdown",
      "source": [
        "#### Can it find the same string if we jumble up the characters in RE?\n",
        "\n",
        "<img src=\"https://d2beiqkhq929f0.cloudfront.net/public_assets/assets/000/063/353/original/2.png?1706165409\" width=\"500\" height=\"500\">\n",
        "\n",
        "- **Order matters (e.g. \"abc\" is different from \"cba\")**"
      ],
      "metadata": {
        "id": "tTw4m2ruW4Sj"
      }
    },
    {
      "cell_type": "markdown",
      "source": [
        "#### Finding period symbol (dot) \".\"\n",
        "\n",
        "<img src=\"https://d2beiqkhq929f0.cloudfront.net/public_assets/assets/000/063/355/original/3.png?1706165552\" width=\"500\" height=\"500\">\n",
        "\n",
        "- It highlights everything except newline.\n",
        "- Which means **dot has a special meaning in REs**."
      ],
      "metadata": {
        "id": "spHKvA-9Ys92"
      }
    },
    {
      "cell_type": "markdown",
      "source": [
        "#### Use escape character (backslash) along with dot `.`\n",
        "\n",
        "<img src=\"https://d2beiqkhq929f0.cloudfront.net/public_assets/assets/000/063/356/original/4.png?1706165717\" width=\"500\" height=\"500\">\n",
        "\n",
        "- **escape sequence followed by dot matches with period character.**"
      ],
      "metadata": {
        "id": "UbAImi6UZe90"
      }
    },
    {
      "cell_type": "markdown",
      "source": [
        "---"
      ],
      "metadata": {
        "id": "7jjrvcOtPD30"
      }
    },
    {
      "cell_type": "markdown",
      "source": [
        "### What are Metacharacters?\n",
        "\n",
        "- Special characters that don't match themselves.\n",
        "- Instead, they signal, some out-of-ordinary thing should be matched.\n",
        "- Example: `.[{()\\^$|?*+`\n",
        "- Note that backslash is also a meta-character, so to look for literal `\\` , we need to use `\\\\`\n",
        "\n",
        "<img src=\"https://d2beiqkhq929f0.cloudfront.net/public_assets/assets/000/063/358/original/5.png?1706165965\" width=\"500\" height=\"500\">"
      ],
      "metadata": {
        "id": "3mobPjCXYtR-"
      }
    },
    {
      "cell_type": "markdown",
      "source": [
        "#### Metacharacter - `\\d`\n",
        "- matches with all the digits\n",
        "\n",
        "<img src=\"https://d2beiqkhq929f0.cloudfront.net/public_assets/assets/000/063/359/original/6.png?1706166082\" width=\"500\" height=\"500\">"
      ],
      "metadata": {
        "id": "oRey-knfYt0-"
      }
    },
    {
      "cell_type": "markdown",
      "source": [
        "#### Metacharacter - `\\D`\n",
        "- matches for everything which is not a digit except newline\n",
        "\n",
        "<img src=\"https://d2beiqkhq929f0.cloudfront.net/public_assets/assets/000/063/360/original/7.png?1706166217\" width=\"500\" height=\"400\">"
      ],
      "metadata": {
        "id": "fW6UJNMfYuG5"
      }
    },
    {
      "cell_type": "markdown",
      "source": [
        "#### Metcharacter - `\\w`\n",
        "- looks for alphanumeric characters and underscore `(_)`\n",
        "\n",
        "<img src=\"https://d2beiqkhq929f0.cloudfront.net/public_assets/assets/000/063/362/original/8.png?1706166344\" width=\"500\" height=\"400\">"
      ],
      "metadata": {
        "id": "idjL2U3Db4PA"
      }
    },
    {
      "cell_type": "markdown",
      "source": [
        "#### Metcharacter - `\\W`\n",
        "\n",
        "- matches with non-alphanumeric characters\n",
        "\n",
        "<img src=\"https://d2beiqkhq929f0.cloudfront.net/public_assets/assets/000/063/363/original/9.png?1706166420\" width=\"500\" height=\"400\">"
      ],
      "metadata": {
        "id": "vK_-YF4fb4hz"
      }
    },
    {
      "cell_type": "markdown",
      "source": [
        "- upper-case counterparts negates the search\n",
        "- none of these meta-characeters matches for newline character."
      ],
      "metadata": {
        "id": "6yAl1EwDb4yU"
      }
    },
    {
      "cell_type": "markdown",
      "source": [
        "#### Matching whitespace characters\n",
        "\n",
        "- `\\s`\n",
        "<img src=\"https://d2beiqkhq929f0.cloudfront.net/public_assets/assets/000/063/364/original/10.png?1706166627\" width = \"500\" height = \"400\">\n",
        "\n",
        "- `\\S` <br>\n",
        "<img src=\"https://d2beiqkhq929f0.cloudfront.net/public_assets/assets/000/063/365/original/11.png?1706166657\" width = \"500\" height = \"400\">"
      ],
      "metadata": {
        "id": "3kfDi72Rb5H8"
      }
    },
    {
      "cell_type": "markdown",
      "source": [
        "### Other Special Characters\n",
        "\n",
        "<img src=\"https://d2beiqkhq929f0.cloudfront.net/public_assets/assets/000/063/366/original/12.png?1706166741\" width=\"500\" height=\"300\">\n",
        "\n",
        "**Documentation:** https://docs.python.org/3/howto/regex.html"
      ],
      "metadata": {
        "id": "8Xxbw_wnb5Yq"
      }
    },
    {
      "cell_type": "markdown",
      "source": [
        "---"
      ],
      "metadata": {
        "id": "Os2sEcpbcP33"
      }
    },
    {
      "cell_type": "markdown",
      "source": [
        "### What are Anchors?\n",
        "\n",
        "- They don't match any characters.\n",
        "- They match invisible positions before or after the characters."
      ],
      "metadata": {
        "id": "g9-50bP_b53j"
      }
    },
    {
      "cell_type": "markdown",
      "source": [
        "#### `\\b` - word boundary\n",
        "\n",
        "<img src=\"https://d2beiqkhq929f0.cloudfront.net/public_assets/assets/000/063/368/original/13.png?1706166971\" width=\"500\" height=\"400\"><br>\n",
        "\n",
        "- Notice that if we're checking word boundary with Ha, it only matches with first two Ha.\n",
        "- Both start of the **line and whitespace are considered as word boundaries**.\n",
        "<br>\n",
        "\n",
        "<img src=\"https://d2beiqkhq929f0.cloudfront.net/public_assets/assets/000/063/369/original/14.png?1706166984\" width=\"500\" height=\"400\">"
      ],
      "metadata": {
        "id": "zkafBVpqeBpA"
      }
    },
    {
      "cell_type": "markdown",
      "source": [
        "Lets see two very important anchors `^` and  `$`\n",
        "\n",
        " - `^` matches for a pattern only if it's in the begining of the string.\n",
        " - `$` matches for a pattern only if it's in the end of the string.\n",
        "\n",
        "<img src=\"https://d2beiqkhq929f0.cloudfront.net/public_assets/assets/000/063/370/original/15.png?1706167186\" width=\"500\" height=\"400\">"
      ],
      "metadata": {
        "id": "EPzeb-GPeB9f"
      }
    },
    {
      "cell_type": "markdown",
      "source": [
        "---"
      ],
      "metadata": {
        "id": "SvSVELPT8ssZ"
      }
    },
    {
      "cell_type": "markdown",
      "source": [
        "#### Parse phone numbers in the given sample text -\n",
        "\n",
        "**Sample Text :**\n",
        "\n",
        "```\n",
        "abcdefghijklmnopqurtuvwxyz\n",
        "ABCDEFGHIJKLMNOPQRSTUVWXYZ\n",
        "1234567890\n",
        "\n",
        "Ha HaHa\n",
        "\n",
        ".[{()^$|?*+\n",
        "\n",
        "\n",
        "scaler.com\n",
        "321-555-4321\n",
        "123.555.1234\n",
        "\n",
        "\n",
        "Mr. Varma\n",
        "Mr Anant\n",
        "Ms Nandini\n",
        "Mrs. Singh\n",
        "Mr. T\n",
        "```\n",
        "\n",
        "<img src=\"https://d2beiqkhq929f0.cloudfront.net/public_assets/assets/000/063/371/original/16.png?1706167394\" width=\"500\" height=\"400\"> <br>\n",
        "\n",
        "Replace \"1234567890\" with \"123456789012\"\n",
        "\n",
        "<img src=\"https://d2beiqkhq929f0.cloudfront.net/public_assets/assets/000/063/372/original/17.png?1706167532\" width=\"500\" height=\"400\"> <br>\n",
        "\n",
        "- We need to be more specific about only allowing dot or dash.\n",
        "- Currently, it matches the wrong pattern rather than what we actually want."
      ],
      "metadata": {
        "id": "MQr4y_fweCJ2"
      }
    },
    {
      "cell_type": "markdown",
      "source": [
        "---"
      ],
      "metadata": {
        "id": "xFa1ou6D9nXH"
      }
    },
    {
      "cell_type": "markdown",
      "source": [
        "### Character Set\n",
        "\n",
        "- Character Set matches for one of the possible characters defined in the set.\n",
        "- For example : `[.-]`"
      ],
      "metadata": {
        "id": "Es0H23JHeCeG"
      }
    },
    {
      "cell_type": "markdown",
      "source": [
        "<img src=\"https://d2beiqkhq929f0.cloudfront.net/public_assets/assets/000/063/373/original/18.png?1706167850\" width = \"500\" height = \"400\">"
      ],
      "metadata": {
        "id": "AToJOvJWeCsy"
      }
    },
    {
      "cell_type": "markdown",
      "source": [
        "**Note:** Instead of listing all potential characters that you want to match, you can also provide the range.\n",
        "1. `[1-6]` - Looks for digit between 1 and 6.\n",
        "2. `[a-z]` - Looks for any alphabet between a and z."
      ],
      "metadata": {
        "id": "grFBXhcjeC5i"
      }
    },
    {
      "cell_type": "markdown",
      "source": [
        "#### What if want to match the chars/numbers except the ones mentioned in the set?\n",
        "\n",
        "- Use `^` to negate the set like `[^a-z]` to match everything which is not a lowercase character. <br>\n",
        "\n",
        "<img src=\"https://d2beiqkhq929f0.cloudfront.net/public_assets/assets/000/063/375/original/19.png?1706168031\" width=\"500\" height=\"400\">"
      ],
      "metadata": {
        "id": "SOlYDroleDJD"
      }
    },
    {
      "cell_type": "markdown",
      "source": [
        "---"
      ],
      "metadata": {
        "id": "CwF0446o9lRq"
      }
    },
    {
      "cell_type": "markdown",
      "source": [
        "### Quantifiers\n",
        "\n",
        "- match more than one characters at a time\n",
        "\n",
        "```\n",
        "* - 0 or More\n",
        "+ - 1 or More\n",
        "? - 0 or One\n",
        "{3} - Exact Number\n",
        "{3,4} - Range of Numbers (Minimum, Maximum)\n",
        "```\n",
        "\n",
        "Example: `\\d{3}[.-]\\d{3}[-.]\\d{4}`\n",
        "\n",
        "<img src=\"https://d2beiqkhq929f0.cloudfront.net/public_assets/assets/000/063/376/original/20.png?1706168167\" width=\"500\" height=\"400\">"
      ],
      "metadata": {
        "id": "rbEPxfkweDYr"
      }
    },
    {
      "cell_type": "markdown",
      "source": [
        "#### Special Characters\n",
        "\n",
        "- `+` - 1 or more. It ensures that the preceeding token occurs atleast once.\n",
        "\n",
        "<img src=\"https://d2beiqkhq929f0.cloudfront.net/public_assets/assets/000/062/015/original/9.png?1705320374\" width=\"300\" height=\"200\">\n",
        "\n",
        "- `*` - 0 or more. It ensures that the preceeding token occurs 0 or more times.\n",
        "<img src=\"https://d2beiqkhq929f0.cloudfront.net/public_assets/assets/000/062/017/original/10.png?1705320405\" width=\"300\" height=\"200\">\n",
        "\n",
        "- `?` - 0 or 1. It ensures that the preceeding token occurs once or doesn't occur.\n",
        "\n",
        "- `()` - Matches from a group of words.\n",
        "\n",
        "<img src=\"https://d2beiqkhq929f0.cloudfront.net/public_assets/assets/000/062/018/original/11.png?1705320435\" width=\"300\" height=\"200\">"
      ],
      "metadata": {
        "id": "29qWjbnw-nHr"
      }
    },
    {
      "cell_type": "markdown",
      "source": [
        "---"
      ],
      "metadata": {
        "id": "z0tnGzvaF3AZ"
      }
    },
    {
      "cell_type": "markdown",
      "source": [
        "#### Search for names starting with Mr -\n",
        "\n",
        "- `\\bMr\\.?\\s[A-Z][a-z]*`\n",
        "\n",
        "<img src=\"https://d2beiqkhq929f0.cloudfront.net/public_assets/assets/000/063/377/original/21.png?1706168240\" width=\"500\" height=\"400\">"
      ],
      "metadata": {
        "id": "E-RphqXLivVW"
      }
    },
    {
      "cell_type": "markdown",
      "source": [
        "**Question:** How to add Ms and Mrs to search pattern?\n",
        "- Using Groups"
      ],
      "metadata": {
        "id": "xl9sbkKTiv7m"
      }
    },
    {
      "cell_type": "markdown",
      "source": [
        "### What are Groups?\n",
        "\n",
        "- Groups allow us to match several different patterns.\n",
        "- We can create groups using paranthesis `()`.\n",
        "- Example: `M(r|s|rs)\\.?\\s[A-Z]\\w*`\n",
        "\n",
        "<img src=\"https://d2beiqkhq929f0.cloudfront.net/public_assets/assets/000/063/379/original/22.png?1706168368\" width=\"500\" height=\"400\">"
      ],
      "metadata": {
        "id": "xL7Zd2Y_iwHr"
      }
    },
    {
      "cell_type": "markdown",
      "source": [
        "---"
      ],
      "metadata": {
        "id": "R7Sz2R2LGcX1"
      }
    },
    {
      "cell_type": "markdown",
      "source": [
        "### Important `re` functions -\n",
        "\n",
        "- `match` : Checks for a match only at the beginning of the string.\n",
        "- `search` : Finds out the first occurence of the pattern in data.\n",
        "- `findall` : Finds all the occurences of the pattern in data\n",
        "- `finditer` : Finds all occurrences of a pattern in a string and return an iterator that produces match objects for each match found.\n",
        "\n",
        "#### Function to do string manipulation:\n",
        "\n",
        "- `sub` : Searches and replaces a string.\n",
        "- `split` : Split the text by the given regular expression pattern."
      ],
      "metadata": {
        "id": "9LvXgQXciwc2"
      }
    },
    {
      "cell_type": "markdown",
      "source": [
        "---"
      ],
      "metadata": {
        "id": "wxqpVsoEJWZL"
      }
    },
    {
      "cell_type": "markdown",
      "source": [
        "### Extracting phone number -"
      ],
      "metadata": {
        "id": "Q7roBMfcldgL"
      }
    },
    {
      "cell_type": "markdown",
      "source": [
        "#### `re.match()` -"
      ],
      "metadata": {
        "id": "mFkGR92rbTPr"
      }
    },
    {
      "cell_type": "code",
      "source": [
        "pattern = \"\\d{3}-\\d{3}-\\d{4}\"\n",
        "print(re.match(pattern, data))"
      ],
      "metadata": {
        "colab": {
          "base_uri": "https://localhost:8080/"
        },
        "id": "kQsgzxcgKAL8",
        "outputId": "878b52c2-4896-4ad8-86b0-aa8da0dbd9de"
      },
      "execution_count": null,
      "outputs": [
        {
          "output_type": "stream",
          "name": "stdout",
          "text": [
            "None\n"
          ]
        }
      ]
    },
    {
      "cell_type": "markdown",
      "source": [
        "#### `re.search()` -"
      ],
      "metadata": {
        "id": "h02F1idYbrdP"
      }
    },
    {
      "cell_type": "code",
      "source": [
        "pattern = \"\\d{3}-\\d{3}-\\d{4}\"\n",
        "print(re.search(pattern, data))"
      ],
      "metadata": {
        "colab": {
          "base_uri": "https://localhost:8080/"
        },
        "id": "ORj-_9GvbqZE",
        "outputId": "1eda2090-40a4-4b00-c264-1757c10e6a4f"
      },
      "execution_count": null,
      "outputs": [
        {
          "output_type": "stream",
          "name": "stdout",
          "text": [
            "<re.Match object; span=(12, 24), match='615-555-7164'>\n"
          ]
        }
      ]
    },
    {
      "cell_type": "markdown",
      "source": [
        "#### `re.findall()` -"
      ],
      "metadata": {
        "id": "n7t0QklTb9cB"
      }
    },
    {
      "cell_type": "code",
      "source": [
        "pattern = \"\\d{3}-\\d{3}-\\d{4}\"\n",
        "phone_numbers = re.findall(pattern, data)\n",
        "print(phone_numbers)"
      ],
      "metadata": {
        "colab": {
          "base_uri": "https://localhost:8080/"
        },
        "id": "Ba3-5NbCb6_K",
        "outputId": "4e91f14f-1b7b-4fb0-ec25-64aed9ecd357"
      },
      "execution_count": null,
      "outputs": [
        {
          "output_type": "stream",
          "name": "stdout",
          "text": [
            "['615-555-7164', '800-555-5669', '560-555-5153', '900-555-9340', '714-555-7405', '800-555-6771', '783-555-4799', '516-555-4615', '127-555-1867', '608-555-4938', '568-555-6051', '292-555-1875', '900-555-3205', '614-555-1166', '530-555-2676', '470-555-2750', '800-555-6089', '880-555-8319', '777-555-8378', '998-555-7385', '800-555-7100', '903-555-8277', '196-555-5674', '900-555-5118', '905-555-1630', '203-555-3475', '884-555-8444', '904-555-8559', '889-555-7393', '195-555-2405', '321-555-9053', '133-555-1711', '900-555-5428', '760-555-7147', '391-555-6621', '932-555-7724', '609-555-7908', '800-555-8810', '149-555-7657', '130-555-9709', '143-555-9295', '903-555-9878', '574-555-3194', '496-555-7533', '210-555-3757', '900-555-9598', '866-555-9844', '669-555-7159', '152-555-7417', '893-555-9832', '217-555-7123', '786-555-6544', '780-555-2574', '926-555-8735', '895-555-3539', '874-555-3949', '800-555-2420', '936-555-6340', '372-555-9809', '890-555-5618', '670-555-3005', '509-555-5997', '721-555-5632', '900-555-3567', '147-555-6830', '582-555-3426', '400-555-1706', '525-555-1793', '317-555-6700', '974-555-8301', '800-555-3216', '746-555-4094', '922-555-1773', '711-555-4427', '355-555-1872', '852-555-6521', '691-555-5773', '332-555-5441', '900-555-7755', '379-555-3685', '127-555-9682', '789-555-7032', '783-555-5135', '315-555-6507', '481-555-5835', '365-555-8287', '911-555-7535', '681-555-2460', '274-555-9800', '800-555-1372', '300-555-7821', '133-555-3889', '705-555-6863', '215-555-9449', '988-555-6112', '623-555-3006', '192-555-4977', '178-555-4899', '952-555-3089', '900-555-6426']\n"
          ]
        }
      ]
    },
    {
      "cell_type": "markdown",
      "source": [
        "#### `re.finditer()` -"
      ],
      "metadata": {
        "id": "_X3WXMmVcRVu"
      }
    },
    {
      "cell_type": "code",
      "source": [
        "pattern = \"\\d{3}-\\d{3}-\\d{4}\"\n",
        "numbers = re.finditer(pattern, data)\n",
        "for i, num in enumerate(numbers):\n",
        "  print(num)\n",
        "  if(i==5):\n",
        "    break"
      ],
      "metadata": {
        "colab": {
          "base_uri": "https://localhost:8080/"
        },
        "id": "p-yvBN19cI1T",
        "outputId": "f167d5c0-fb12-480d-b5bf-729649e0fe0c"
      },
      "execution_count": null,
      "outputs": [
        {
          "output_type": "stream",
          "name": "stdout",
          "text": [
            "<re.Match object; span=(12, 24), match='615-555-7164'>\n",
            "<re.Match object; span=(102, 114), match='800-555-5669'>\n",
            "<re.Match object; span=(191, 203), match='560-555-5153'>\n",
            "<re.Match object; span=(281, 293), match='900-555-9340'>\n",
            "<re.Match object; span=(378, 390), match='714-555-7405'>\n",
            "<re.Match object; span=(467, 479), match='800-555-6771'>\n"
          ]
        }
      ]
    },
    {
      "cell_type": "markdown",
      "source": [
        "#### How can we extract the location and content from these `re.Match` objects?"
      ],
      "metadata": {
        "id": "jSjbVlvZl_oq"
      }
    },
    {
      "cell_type": "code",
      "source": [
        "pattern = \"\\d{3}-\\d{3}-\\d{4}\"\n",
        "numbers = re.finditer(pattern, data)\n",
        "for i, num in enumerate(numbers):\n",
        "  print(num.group(), num.start(), num.end()) # num.group returns the matching data, num.start() and num.end() returns the span\n",
        "  if(i==5):\n",
        "    break"
      ],
      "metadata": {
        "colab": {
          "base_uri": "https://localhost:8080/"
        },
        "id": "djdCAIVecpVq",
        "outputId": "22fe9167-99da-4818-bbc8-ff43c1f6a5ef"
      },
      "execution_count": null,
      "outputs": [
        {
          "output_type": "stream",
          "name": "stdout",
          "text": [
            "615-555-7164 12 24\n",
            "800-555-5669 102 114\n",
            "560-555-5153 191 203\n",
            "900-555-9340 281 293\n",
            "714-555-7405 378 390\n",
            "800-555-6771 467 479\n"
          ]
        }
      ]
    },
    {
      "cell_type": "markdown",
      "source": [
        "---"
      ],
      "metadata": {
        "id": "2J4nA02dKxHa"
      }
    },
    {
      "cell_type": "markdown",
      "source": [
        "### Extracting email -\n",
        "\n",
        "general structure - `(string1)@(string2).(2+characters)`"
      ],
      "metadata": {
        "id": "n3arlv4smNAn"
      }
    },
    {
      "cell_type": "code",
      "source": [
        "pattern = '\\w+@\\w+\\.\\w{2,3}'\n",
        "emails = re.finditer(pattern, data)\n",
        "for i, email in enumerate(emails):\n",
        "  print(email)\n",
        "  if(i==5):\n",
        "    break"
      ],
      "metadata": {
        "colab": {
          "base_uri": "https://localhost:8080/"
        },
        "id": "hXRs_nUUdWxY",
        "outputId": "d27221d6-50df-48ce-98da-6dddcff25ec7"
      },
      "execution_count": null,
      "outputs": [
        {
          "output_type": "stream",
          "name": "stdout",
          "text": [
            "<re.Match object; span=(60, 85), match='davemartin@bogusemail.com'>\n",
            "<re.Match object; span=(147, 175), match='charlesharris@bogusemail.com'>\n",
            "<re.Match object; span=(235, 263), match='laurawilliams@bogusemail.com'>\n",
            "<re.Match object; span=(325, 354), match='coreyjefferson@bogusemail.com'>\n",
            "<re.Match object; span=(425, 453), match='jenniferwhite@bogusemail.com'>\n",
            "<re.Match object; span=(517, 540), match='tomdavis@bogusemail.com'>\n"
          ]
        }
      ]
    },
    {
      "cell_type": "markdown",
      "source": [
        "Let's see if our old generic pattern would have worked or not -\n",
        "\n",
        "\n"
      ],
      "metadata": {
        "id": "Y-kroFEJmX6y"
      }
    },
    {
      "cell_type": "code",
      "source": [
        "pattern = '\\w+([\\.-]?\\w+)*@\\w+([\\.-]?\\w+)*(\\.\\w{2,3})+'\n",
        "emails = re.finditer(pattern, data)\n",
        "for i, email in enumerate(emails):\n",
        " print(email)\n",
        " if i==5:\n",
        "  break"
      ],
      "metadata": {
        "colab": {
          "base_uri": "https://localhost:8080/"
        },
        "id": "k6JejSBamZKn",
        "outputId": "6abbc57a-691d-49e1-c3dd-7d334c016b99"
      },
      "execution_count": null,
      "outputs": [
        {
          "output_type": "stream",
          "name": "stdout",
          "text": [
            "<re.Match object; span=(60, 85), match='davemartin@bogusemail.com'>\n",
            "<re.Match object; span=(147, 175), match='charlesharris@bogusemail.com'>\n",
            "<re.Match object; span=(235, 263), match='laurawilliams@bogusemail.com'>\n",
            "<re.Match object; span=(325, 354), match='coreyjefferson@bogusemail.com'>\n",
            "<re.Match object; span=(425, 453), match='jenniferwhite@bogusemail.com'>\n",
            "<re.Match object; span=(517, 540), match='tomdavis@bogusemail.com'>\n"
          ]
        }
      ]
    },
    {
      "cell_type": "markdown",
      "source": [
        "---"
      ],
      "metadata": {
        "id": "unTUw3vpSYT1"
      }
    },
    {
      "cell_type": "markdown",
      "source": [
        "### Extracting name -\n",
        "\n",
        "Names follow the pattern: `String1 String2`\n",
        "- First alphabet of string 1 starts with upper case followed by lower case alphabets.\n",
        "- Followed by a whitespace character.\n",
        "- First alphabet of string 2 also starts with upper case followed by lower case alphabets."
      ],
      "metadata": {
        "id": "HIIv4l_2mdc0"
      }
    },
    {
      "cell_type": "code",
      "source": [
        "pattern = '[A-Z][a-z]*\\s[A-Z][a-z]*'\n",
        "\n",
        "names = re.finditer(pattern, data)\n",
        "for i, name in enumerate(names):\n",
        "  print(name)\n",
        "  if(i==5):\n",
        "    break"
      ],
      "metadata": {
        "colab": {
          "base_uri": "https://localhost:8080/"
        },
        "id": "NXsI4lgyeAgD",
        "outputId": "81a30233-61ff-4acc-cc65-55353b3878fc"
      },
      "execution_count": null,
      "outputs": [
        {
          "output_type": "stream",
          "name": "stdout",
          "text": [
            "<re.Match object; span=(0, 11), match='Dave Martin'>\n",
            "<re.Match object; span=(29, 36), match='Main St'>\n",
            "<re.Match object; span=(39, 52), match='Springfield R'>\n",
            "<re.Match object; span=(87, 101), match='Charles Harris'>\n",
            "<re.Match object; span=(119, 126), match='High St'>\n",
            "<re.Match object; span=(129, 139), match='Atlantis V'>\n"
          ]
        }
      ]
    },
    {
      "cell_type": "markdown",
      "source": [
        "**Takeaways?**\n",
        "- Along with names we are also getting some part of addresses as well eg Maple St, Oak St, etc.\n",
        "\n",
        "**Why?**\n",
        "- Because they are also following the pattern string i.e. 1 or more character followed by capital letter.\n",
        "- Therefore, we modify our pattern by adding one more `[a-z]` or using `{2,}`."
      ],
      "metadata": {
        "id": "_QxLvkFumzoT"
      }
    },
    {
      "cell_type": "code",
      "source": [
        "pattern = '[A-Z][a-z]*\\s[A-Z][a-z]{2,}'\n",
        "\n",
        "names = re.finditer(pattern, data)\n",
        "for i, name in enumerate(names):\n",
        "  print(name)\n",
        "  if(i==5):\n",
        "    break"
      ],
      "metadata": {
        "colab": {
          "base_uri": "https://localhost:8080/"
        },
        "id": "g_s1CGvxeger",
        "outputId": "a5f3c906-db6e-4de9-a752-ac88d92911f6"
      },
      "execution_count": null,
      "outputs": [
        {
          "output_type": "stream",
          "name": "stdout",
          "text": [
            "<re.Match object; span=(0, 11), match='Dave Martin'>\n",
            "<re.Match object; span=(87, 101), match='Charles Harris'>\n",
            "<re.Match object; span=(177, 190), match='Eric Williams'>\n",
            "<re.Match object; span=(265, 280), match='Corey Jefferson'>\n",
            "<re.Match object; span=(356, 371), match='Jennifer Martin'>\n",
            "<re.Match object; span=(455, 466), match='Erick Davis'>\n"
          ]
        }
      ]
    },
    {
      "cell_type": "markdown",
      "source": [
        "---"
      ],
      "metadata": {
        "id": "W4RuC3FLS5x5"
      }
    },
    {
      "cell_type": "markdown",
      "source": [
        "### Modifying RE with flags -"
      ],
      "metadata": {
        "id": "w_gB_waCnB5w"
      }
    },
    {
      "cell_type": "markdown",
      "source": [
        "#### `re.IGNORECASE or re.I`\n",
        "\n",
        "- ignore case senstivity\n",
        "- makes matching case insensitive"
      ],
      "metadata": {
        "id": "-G3YLTc3gPLY"
      }
    },
    {
      "cell_type": "code",
      "source": [
        "print(re.search('a+', 'aaaAAA'))\n",
        "print(re.search('A+', 'aaaAAA'))"
      ],
      "metadata": {
        "colab": {
          "base_uri": "https://localhost:8080/"
        },
        "id": "xUNXvPX0nMLK",
        "outputId": "4ea260f1-b7bc-460b-878f-30b5dec83a1e"
      },
      "execution_count": null,
      "outputs": [
        {
          "output_type": "stream",
          "name": "stdout",
          "text": [
            "<re.Match object; span=(0, 3), match='aaa'>\n",
            "<re.Match object; span=(3, 6), match='AAA'>\n"
          ]
        }
      ]
    },
    {
      "cell_type": "markdown",
      "source": [
        "Let's try do the same pattern matching while ignoring case."
      ],
      "metadata": {
        "id": "kN6pA8a3nVxG"
      }
    },
    {
      "cell_type": "code",
      "source": [
        "print(re.search('a+', 'aaaAAA', re.I))\n",
        "print(re.search('A+', 'aaaAAA', re.IGNORECASE))"
      ],
      "metadata": {
        "colab": {
          "base_uri": "https://localhost:8080/"
        },
        "id": "f5Wq1tc6nYLG",
        "outputId": "935ee3ee-a0a8-48cd-90a1-0a39b8ba8f42"
      },
      "execution_count": null,
      "outputs": [
        {
          "output_type": "stream",
          "name": "stdout",
          "text": [
            "<re.Match object; span=(0, 6), match='aaaAAA'>\n",
            "<re.Match object; span=(0, 6), match='aaaAAA'>\n"
          ]
        }
      ]
    },
    {
      "cell_type": "markdown",
      "source": [
        "#### `re.VERBOSE` or `re.X`\n",
        "\n",
        "Allows us to add\n",
        "- Better spacing, indentation, and a clean formatting for writing intricate patterns.\n",
        "- Comments right inside the pattern for later reference using the hash sign `#`."
      ],
      "metadata": {
        "id": "DxGkQeMxlNMf"
      }
    },
    {
      "cell_type": "markdown",
      "source": [
        "We can use multiple flags together by simply combining them using `|`."
      ],
      "metadata": {
        "id": "u5pa5OIZdt2c"
      }
    },
    {
      "cell_type": "code",
      "source": [
        "regex = '^\\w+([\\.-]?\\w+)*@\\w+([\\.-]?\\w+)*(\\.\\w{2,3})+$' # highly non-readable regex\n",
        "\n",
        "regex_verbose = re.compile(r\"\"\"   # Very readable and easy to understand.\n",
        "                ^\\w+([\\.-]?\\w+)*  # Start, \\w+\n",
        "                @                 # Single @ sign\n",
        "                \\w+([|.-]?\\w+)*   # Domain name\n",
        "                (\\.\\w{2,3})+$     # .com, .ac.in etc.\n",
        "                \"\"\", re.VERBOSE | re.IGNORECASE)"
      ],
      "metadata": {
        "id": "On3hGWy8kn7P"
      },
      "execution_count": null,
      "outputs": []
    },
    {
      "cell_type": "markdown",
      "source": [
        "---"
      ],
      "metadata": {
        "id": "pfEVtcs-JZci"
      }
    },
    {
      "cell_type": "markdown",
      "source": [
        "### Extracting pincode -"
      ],
      "metadata": {
        "id": "j-4JKJCxok7m"
      }
    },
    {
      "cell_type": "code",
      "source": [
        "print(data[:263])"
      ],
      "metadata": {
        "colab": {
          "base_uri": "https://localhost:8080/"
        },
        "id": "xm5hHw8Roi9a",
        "outputId": "3153477c-6da7-495b-a533-a7e29f569484"
      },
      "execution_count": null,
      "outputs": [
        {
          "output_type": "stream",
          "name": "stdout",
          "text": [
            "Dave Martin\n",
            "615-555-7164\n",
            "173 Main St., Springfield RI 55924\n",
            "davemartin@bogusemail.com\n",
            "\n",
            "Charles Harris\n",
            "800-555-5669\n",
            "969 High St., Atlantis VA 34075\n",
            "charlesharris@bogusemail.com\n",
            "\n",
            "Eric Williams\n",
            "560-555-5153\n",
            "806 1st St., Faketown AK 86847\n",
            "laurawilliams@bogusemail.com\n"
          ]
        }
      ]
    },
    {
      "cell_type": "code",
      "source": [
        "regex = r'\\b(\\d{5})\\b'\n",
        "matches = re.findall(regex,data)\n",
        "print(matches)"
      ],
      "metadata": {
        "colab": {
          "base_uri": "https://localhost:8080/"
        },
        "id": "Nx40inZVopjJ",
        "outputId": "8ed5bd43-22c8-4b94-c3ff-de6ebc288211"
      },
      "execution_count": null,
      "outputs": [
        {
          "output_type": "stream",
          "name": "stdout",
          "text": [
            "['55924', '34075', '86847', '10671', '74983', '32425', '61914', '29947', '43597', '90938', '99000', '87282', '28362', '92474', '61967', '56526', '97152', '82767', '72160', '97183', '58176', '89212', '96962', '77737', '34615', '30826', '29348', '94854', '21888', '59348', '74122', '99431', '16576', '25668', '29540', '60758', '78172', '79714', '87195', '85386', '57112', '64102', '17880', '46692', '78455', '29087', '11899', '43281', '78036', '62260', '66724', '18586', '16272', '89569', '54999', '89260', '61275', '88289', '75205', '36433', '25473', '30958', '62155', '57680', '55462', '51312', '72025', '78862', '13147', '92369', '29551', '23225', '81427', '96421', '96698', '98412', '26245', '56449', '97503', '49113', '47472', '11845', '74526', '26941', '47182', '22772', '73725', '47466', '73860', '82473', '58720', '57764', '31836', '31169', '81541', '15445', '22215', '39308', '16547', '24886']\n"
          ]
        }
      ]
    },
    {
      "cell_type": "markdown",
      "source": [
        "- `\\b`: Word boundary to ensure that we match complete words (pin codes).\n",
        "- `(\\d{5})`: This is a capturing group that matches exactly five digits."
      ],
      "metadata": {
        "id": "BKqf3napfw16"
      }
    },
    {
      "cell_type": "markdown",
      "source": [
        "---"
      ],
      "metadata": {
        "id": "-pgJrqQ1UlK8"
      }
    },
    {
      "cell_type": "markdown",
      "source": [
        "### Masking email -"
      ],
      "metadata": {
        "id": "4k2JoTCQo23v"
      }
    },
    {
      "cell_type": "code",
      "source": [
        "pattern = '\\w+@\\w+.[a-z]{3}'\n",
        "emails = re.findall(pattern,data)\n",
        "print(emails)"
      ],
      "metadata": {
        "colab": {
          "base_uri": "https://localhost:8080/"
        },
        "id": "e0sUslsCo0bJ",
        "outputId": "6b0e1ba0-f1d2-4281-de0a-bab35337b336"
      },
      "execution_count": null,
      "outputs": [
        {
          "output_type": "stream",
          "name": "stdout",
          "text": [
            "['davemartin@bogusemail.com', 'charlesharris@bogusemail.com', 'laurawilliams@bogusemail.com', 'coreyjefferson@bogusemail.com', 'jenniferwhite@bogusemail.com', 'tomdavis@bogusemail.com', 'neilpatterson@bogusemail.com', 'laurajefferson@bogusemail.com', 'mariajohnson@bogusemail.com', 'michaelarnold@bogusemail.com', 'michaelsmith@bogusemail.com', 'robertstuart@bogusemail.com', 'lauramartin@bogusemail.com', 'barbaramartin@bogusemail.com', 'lindajackson@bogusemail.com', 'stevemiller@bogusemail.com', 'davearnold@bogusemail.com', 'jenniferjacobs@bogusemail.com', 'neilwilson@bogusemail.com', 'kurtjackson@bogusemail.com', 'maryjacobs@bogusemail.com', 'michaelwhite@bogusemail.com', 'jenniferjenkins@bogusemail.com', 'samwright@bogusemail.com', 'johndavis@bogusemail.com', 'neildavis@bogusemail.com', 'laurajackson@bogusemail.com', 'johnwilliams@bogusemail.com', 'michaelmartin@bogusemail.com', 'maggiebrown@bogusemail.com', 'kurtwilson@bogusemail.com', 'elizabetharnold@bogusemail.com', 'janemartin@bogusemail.com', 'travisjohnson@bogusemail.com', 'laurajefferson@bogusemail.com', 'tomwilliams@bogusemail.com', 'jennifertaylor@bogusemail.com', 'jenniferwright@bogusemail.com', 'stevedoe@bogusemail.com', 'kurtdavis@bogusemail.com', 'coreyharris@bogusemail.com', 'nicoletaylor@bogusemail.com', 'elizabethdavis@bogusemail.com', 'maggiejenkins@bogusemail.com', 'lindadavis@bogusemail.com', 'davemoore@bogusemail.com', 'lindajenkins@bogusemail.com', 'samwhite@bogusemail.com', 'laurarobinson@bogusemail.com', 'charlespatterson@bogusemail.com', 'joejackson@bogusemail.com', 'michaeljohnson@bogusemail.com', 'coreymiller@bogusemail.com', 'jamesmoore@bogusemail.com', 'jenniferstuart@bogusemail.com', 'charlesmartin@bogusemail.com', 'joewilks@bogusemail.com', 'elizabetharnold@bogusemail.com', 'johnmiller@bogusemail.com', 'coreyjackson@bogusemail.com', 'samthomas@bogusemail.com', 'patriciathomas@bogusemail.com', 'jenniferdavis@bogusemail.com', 'patriciabrown@bogusemail.com', 'barbarawilliams@bogusemail.com', 'jamestaylor@bogusemail.com', 'barbaraharris@bogusemail.com', 'travisanderson@bogusemail.com', 'samrobinson@bogusemail.com', 'steverobinson@bogusemail.com', 'marywilson@bogusemail.com', 'samwilson@bogusemail.com', 'charlesjones@bogusemail.com', 'laurabrown@bogusemail.com', 'tomharris@bogusemail.com', 'patriciataylor@bogusemail.com', 'barbarawilliams@bogusemail.com', 'maggiejohnson@bogusemail.com', 'kurtmiller@bogusemail.com', 'neilstuart@bogusemail.com', 'lindapatterson@bogusemail.com', 'charlesdavis@bogusemail.com', 'jenniferjefferson@bogusemail.com', 'coreytaylor@bogusemail.com', 'robertwilks@bogusemail.com', 'travisjackson@bogusemail.com', 'travisjackson@bogusemail.com', 'laurawilks@bogusemail.com', 'neilarnold@bogusemail.com', 'lindajohnson@bogusemail.com', 'jenniferwilson@bogusemail.com', 'nicolewhite@bogusemail.com', 'mariaarnold@bogusemail.com', 'jenniferdavis@bogusemail.com', 'marypatterson@bogusemail.com', 'janestuart@bogusemail.com', 'robertdavis@bogusemail.com', 'jamestaylor@bogusemail.com', 'johnstuart@bogusemail.com', 'charlesmiller@bogusemail.com']\n"
          ]
        }
      ]
    },
    {
      "cell_type": "code",
      "source": [
        "def mask_email(s):\n",
        " if '@' in s:\n",
        "  name, domain = s.split('@')\n",
        " return f\"{name[0]}#####{name[-1]}@{domain}\""
      ],
      "metadata": {
        "id": "gCiD9Z7jgnaC"
      },
      "execution_count": null,
      "outputs": []
    },
    {
      "cell_type": "code",
      "source": [
        "print([mask_email(e) for e in emails])"
      ],
      "metadata": {
        "colab": {
          "base_uri": "https://localhost:8080/"
        },
        "id": "ySHqb_rBg19E",
        "outputId": "82ec59aa-21ae-4f9f-c0ba-b65cb37a057f"
      },
      "execution_count": null,
      "outputs": [
        {
          "output_type": "stream",
          "name": "stdout",
          "text": [
            "['d#####n@bogusemail.com', 'c#####s@bogusemail.com', 'l#####s@bogusemail.com', 'c#####n@bogusemail.com', 'j#####e@bogusemail.com', 't#####s@bogusemail.com', 'n#####n@bogusemail.com', 'l#####n@bogusemail.com', 'm#####n@bogusemail.com', 'm#####d@bogusemail.com', 'm#####h@bogusemail.com', 'r#####t@bogusemail.com', 'l#####n@bogusemail.com', 'b#####n@bogusemail.com', 'l#####n@bogusemail.com', 's#####r@bogusemail.com', 'd#####d@bogusemail.com', 'j#####s@bogusemail.com', 'n#####n@bogusemail.com', 'k#####n@bogusemail.com', 'm#####s@bogusemail.com', 'm#####e@bogusemail.com', 'j#####s@bogusemail.com', 's#####t@bogusemail.com', 'j#####s@bogusemail.com', 'n#####s@bogusemail.com', 'l#####n@bogusemail.com', 'j#####s@bogusemail.com', 'm#####n@bogusemail.com', 'm#####n@bogusemail.com', 'k#####n@bogusemail.com', 'e#####d@bogusemail.com', 'j#####n@bogusemail.com', 't#####n@bogusemail.com', 'l#####n@bogusemail.com', 't#####s@bogusemail.com', 'j#####r@bogusemail.com', 'j#####t@bogusemail.com', 's#####e@bogusemail.com', 'k#####s@bogusemail.com', 'c#####s@bogusemail.com', 'n#####r@bogusemail.com', 'e#####s@bogusemail.com', 'm#####s@bogusemail.com', 'l#####s@bogusemail.com', 'd#####e@bogusemail.com', 'l#####s@bogusemail.com', 's#####e@bogusemail.com', 'l#####n@bogusemail.com', 'c#####n@bogusemail.com', 'j#####n@bogusemail.com', 'm#####n@bogusemail.com', 'c#####r@bogusemail.com', 'j#####e@bogusemail.com', 'j#####t@bogusemail.com', 'c#####n@bogusemail.com', 'j#####s@bogusemail.com', 'e#####d@bogusemail.com', 'j#####r@bogusemail.com', 'c#####n@bogusemail.com', 's#####s@bogusemail.com', 'p#####s@bogusemail.com', 'j#####s@bogusemail.com', 'p#####n@bogusemail.com', 'b#####s@bogusemail.com', 'j#####r@bogusemail.com', 'b#####s@bogusemail.com', 't#####n@bogusemail.com', 's#####n@bogusemail.com', 's#####n@bogusemail.com', 'm#####n@bogusemail.com', 's#####n@bogusemail.com', 'c#####s@bogusemail.com', 'l#####n@bogusemail.com', 't#####s@bogusemail.com', 'p#####r@bogusemail.com', 'b#####s@bogusemail.com', 'm#####n@bogusemail.com', 'k#####r@bogusemail.com', 'n#####t@bogusemail.com', 'l#####n@bogusemail.com', 'c#####s@bogusemail.com', 'j#####n@bogusemail.com', 'c#####r@bogusemail.com', 'r#####s@bogusemail.com', 't#####n@bogusemail.com', 't#####n@bogusemail.com', 'l#####s@bogusemail.com', 'n#####d@bogusemail.com', 'l#####n@bogusemail.com', 'j#####n@bogusemail.com', 'n#####e@bogusemail.com', 'm#####d@bogusemail.com', 'j#####s@bogusemail.com', 'm#####n@bogusemail.com', 'j#####t@bogusemail.com', 'r#####s@bogusemail.com', 'j#####r@bogusemail.com', 'j#####t@bogusemail.com', 'c#####r@bogusemail.com']\n"
          ]
        }
      ]
    },
    {
      "cell_type": "markdown",
      "source": [
        "---"
      ],
      "metadata": {
        "id": "r2lnH4PIhBQG"
      }
    },
    {
      "cell_type": "markdown",
      "source": [
        "### Masking phone number -"
      ],
      "metadata": {
        "id": "bl_zbJeFo-QY"
      }
    },
    {
      "cell_type": "code",
      "source": [
        "pattern = \"\\d{3}-\\d{3}-\\d{4}\"\n",
        "numbers = re.findall(pattern,data)\n",
        "print(numbers)"
      ],
      "metadata": {
        "colab": {
          "base_uri": "https://localhost:8080/"
        },
        "id": "fFbpmPlDo7fZ",
        "outputId": "87e708da-6a41-4e00-b41f-6c86a7d03aae"
      },
      "execution_count": null,
      "outputs": [
        {
          "output_type": "stream",
          "name": "stdout",
          "text": [
            "['615-555-7164', '800-555-5669', '560-555-5153', '900-555-9340', '714-555-7405', '800-555-6771', '783-555-4799', '516-555-4615', '127-555-1867', '608-555-4938', '568-555-6051', '292-555-1875', '900-555-3205', '614-555-1166', '530-555-2676', '470-555-2750', '800-555-6089', '880-555-8319', '777-555-8378', '998-555-7385', '800-555-7100', '903-555-8277', '196-555-5674', '900-555-5118', '905-555-1630', '203-555-3475', '884-555-8444', '904-555-8559', '889-555-7393', '195-555-2405', '321-555-9053', '133-555-1711', '900-555-5428', '760-555-7147', '391-555-6621', '932-555-7724', '609-555-7908', '800-555-8810', '149-555-7657', '130-555-9709', '143-555-9295', '903-555-9878', '574-555-3194', '496-555-7533', '210-555-3757', '900-555-9598', '866-555-9844', '669-555-7159', '152-555-7417', '893-555-9832', '217-555-7123', '786-555-6544', '780-555-2574', '926-555-8735', '895-555-3539', '874-555-3949', '800-555-2420', '936-555-6340', '372-555-9809', '890-555-5618', '670-555-3005', '509-555-5997', '721-555-5632', '900-555-3567', '147-555-6830', '582-555-3426', '400-555-1706', '525-555-1793', '317-555-6700', '974-555-8301', '800-555-3216', '746-555-4094', '922-555-1773', '711-555-4427', '355-555-1872', '852-555-6521', '691-555-5773', '332-555-5441', '900-555-7755', '379-555-3685', '127-555-9682', '789-555-7032', '783-555-5135', '315-555-6507', '481-555-5835', '365-555-8287', '911-555-7535', '681-555-2460', '274-555-9800', '800-555-1372', '300-555-7821', '133-555-3889', '705-555-6863', '215-555-9449', '988-555-6112', '623-555-3006', '192-555-4977', '178-555-4899', '952-555-3089', '900-555-6426']\n"
          ]
        }
      ]
    },
    {
      "cell_type": "code",
      "source": [
        "def mask_phone(p):\n",
        " if len(p) == 12:\n",
        "  return f\"###-###-{p[-3:]}\""
      ],
      "metadata": {
        "id": "B4rAjCkcpAWp"
      },
      "execution_count": null,
      "outputs": []
    },
    {
      "cell_type": "code",
      "source": [
        "print([mask_phone(n) for n in numbers])"
      ],
      "metadata": {
        "colab": {
          "base_uri": "https://localhost:8080/"
        },
        "id": "mKZypPZGpB5S",
        "outputId": "96ea56f5-7773-457b-acbd-3cb9a43ee0dd"
      },
      "execution_count": null,
      "outputs": [
        {
          "output_type": "stream",
          "name": "stdout",
          "text": [
            "['###-###-164', '###-###-669', '###-###-153', '###-###-340', '###-###-405', '###-###-771', '###-###-799', '###-###-615', '###-###-867', '###-###-938', '###-###-051', '###-###-875', '###-###-205', '###-###-166', '###-###-676', '###-###-750', '###-###-089', '###-###-319', '###-###-378', '###-###-385', '###-###-100', '###-###-277', '###-###-674', '###-###-118', '###-###-630', '###-###-475', '###-###-444', '###-###-559', '###-###-393', '###-###-405', '###-###-053', '###-###-711', '###-###-428', '###-###-147', '###-###-621', '###-###-724', '###-###-908', '###-###-810', '###-###-657', '###-###-709', '###-###-295', '###-###-878', '###-###-194', '###-###-533', '###-###-757', '###-###-598', '###-###-844', '###-###-159', '###-###-417', '###-###-832', '###-###-123', '###-###-544', '###-###-574', '###-###-735', '###-###-539', '###-###-949', '###-###-420', '###-###-340', '###-###-809', '###-###-618', '###-###-005', '###-###-997', '###-###-632', '###-###-567', '###-###-830', '###-###-426', '###-###-706', '###-###-793', '###-###-700', '###-###-301', '###-###-216', '###-###-094', '###-###-773', '###-###-427', '###-###-872', '###-###-521', '###-###-773', '###-###-441', '###-###-755', '###-###-685', '###-###-682', '###-###-032', '###-###-135', '###-###-507', '###-###-835', '###-###-287', '###-###-535', '###-###-460', '###-###-800', '###-###-372', '###-###-821', '###-###-889', '###-###-863', '###-###-449', '###-###-112', '###-###-006', '###-###-977', '###-###-899', '###-###-089', '###-###-426']\n"
          ]
        }
      ]
    },
    {
      "cell_type": "markdown",
      "source": [
        "---"
      ],
      "metadata": {
        "id": "Cb18NCshTWGr"
      }
    }
  ]
}